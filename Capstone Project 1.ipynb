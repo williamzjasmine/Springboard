{
 "cells": [
  {
   "cell_type": "markdown",
   "metadata": {},
   "source": [
    "# Section -1: Imports and Notebook Options\n",
    "\n",
    "This section contains all the packages that were imported in order to make use of the methods implemented in this project."
   ]
  },
  {
   "cell_type": "markdown",
   "metadata": {},
   "source": [
    "## -1.1: Data Analysis Tools Imports\n",
    "All imports that provide usage for the data analysis tools/methods used in this project."
   ]
  },
  {
   "cell_type": "code",
   "execution_count": 1,
   "metadata": {},
   "outputs": [],
   "source": [
    "import pandas as pd\n",
    "import numpy as np\n",
    "import requests as rq\n",
    "import re\n",
    "import json"
   ]
  },
  {
   "cell_type": "markdown",
   "metadata": {},
   "source": [
    "## -1.2: Stats Models Imports\n",
    "\n",
    "All imports the provide usage for the statistical models that were implemented in this project."
   ]
  },
  {
   "cell_type": "code",
   "execution_count": 2,
   "metadata": {},
   "outputs": [],
   "source": [
    "import statsmodels.api as sm\n",
    "from scipy.stats.stats import pearsonr\n",
    "import scipy.stats as stats\n",
    "from statsmodels.formula.api import ols\n",
    "from statsmodels.formula.api import Logit"
   ]
  },
  {
   "cell_type": "markdown",
   "metadata": {},
   "source": [
    "## -1.3: Machine Learning Imports\n",
    "All imports that provide usage for the machine learning algorithms/methods that were used in this project. "
   ]
  },
  {
   "cell_type": "code",
   "execution_count": 3,
   "metadata": {},
   "outputs": [],
   "source": [
    "from sklearn.neighbors import KNeighborsClassifier\n",
    "from sklearn.model_selection import train_test_split\n",
    "from sklearn.model_selection import cross_val_score\n",
    "from sklearn.linear_model import LinearRegression\n",
    "from sklearn.metrics import mean_squared_error\n",
    "import mglearn.plots"
   ]
  },
  {
   "cell_type": "markdown",
   "metadata": {},
   "source": [
    "## -1.4: Plotting Imports\n",
    "\n",
    "All imports that provide usage for the plotting tools that were used in this project. "
   ]
  },
  {
   "cell_type": "code",
   "execution_count": 4,
   "metadata": {},
   "outputs": [],
   "source": [
    "import matplotlib.pyplot as plt\n",
    "import mglearn.plots"
   ]
  },
  {
   "cell_type": "markdown",
   "metadata": {},
   "source": [
    "## -1.5: Notebook Options\n",
    "\n",
    "The cell below includes some of the various notebook settings that were used when completing this project. They can be changed to according to need. "
   ]
  },
  {
   "cell_type": "code",
   "execution_count": 5,
   "metadata": {},
   "outputs": [],
   "source": [
    "rs = 42 # random state used for all methods used in this project\n",
    "replicates_size = 10000 # the number of null hypotheisis simulations done for all bootstrap hypothesis tests\n",
    "pd.set_option('display.max_rows', 300) # max rows to be displayed from a pandas dataframe"
   ]
  },
  {
   "cell_type": "markdown",
   "metadata": {},
   "source": [
    "# Section 0: Functions\n",
    "\n",
    "This section contains an organized list of all functions that were used in this project, organized by the section in which they are used. Docstrings are provided explaining the usage of each function. "
   ]
  },
  {
   "cell_type": "markdown",
   "metadata": {},
   "source": [
    "## 0.1: Section 2 Functions\n",
    "The cell below contains the definitions of all functions that were used in Section 2: Data Cleaning."
   ]
  },
  {
   "cell_type": "code",
   "execution_count": 6,
   "metadata": {},
   "outputs": [],
   "source": [
    "def get_borough_name(borough_code):\n",
    "    '''Given the borough code of a NYC school, return the borough name as a string.'''\n",
    "    if borough_code == 'K':\n",
    "        return 'Brooklyn'\n",
    "    elif borough_code == 'Q':\n",
    "        return 'Queens'\n",
    "    elif borough_code == 'M':\n",
    "        return 'Manhattan'\n",
    "    elif borough_code == 'X':\n",
    "        return 'The Bronx'\n",
    "    else:\n",
    "        return 'Staten Island'\n",
    "\n",
    "def separate_dbn_or_bn(dbn_or_bn_code):\n",
    "    '''Given the DBN or BN code for a NYC school, performs the following:\n",
    "    \n",
    "    If given DBN: return a list containing the district, borough name, and name of the school.\n",
    "    If given BN: return a list containing the borough name and name of the school. \n",
    "    \n",
    "    District is retrned as an integer, while school and borough name are returned as strings.\n",
    "    '''\n",
    "    split_string = re.split('(X)|(K)|(Q)|(M)|(R)', dbn_or_bn_code)\n",
    "    split_string = tuple(filter(None, split_string))\n",
    "    if len(split_string) == 2:\n",
    "        borough, number = split_string\n",
    "        borough = get_borough_name(borough)\n",
    "        return [borough, int(number)]\n",
    "    else:\n",
    "        district, borough, number = split_string\n",
    "        borough = get_borough_name(borough)\n",
    "        return [int(district), str(borough), int(number)]\n",
    "\n",
    "\n",
    "def fill_name_and_district(borough, number, directory):\n",
    "    '''Given the borough name and number of a NYC school, return a list containing its school\n",
    "    name and district.\n",
    "    \n",
    "    The school name and district are returned by utilizing the 'directory' argument. This \n",
    "    arguement should be a dataframe of schools that provides the name, district, \n",
    "    school number and borough for each one. The function then uses this directory to match the\n",
    "    provided borough and number to the school's name and district. \n",
    "    \n",
    "    District is returned as an integer, while name is returned as a string.\n",
    "    If no match can be found for the provided borough and number, [None, None] is returned.\n",
    "    '''\n",
    "    \n",
    "    idx = (borough, number)\n",
    "    if idx in directory.index:\n",
    "        name = directory.loc[idx, 'school_name'][0]\n",
    "        district = directory.loc[idx, 'district'][0]\n",
    "        return [district, name]\n",
    "    else:\n",
    "        return [None, None]\n",
    "    \n",
    "def fix_ratings(rating):\n",
    "    '''This function is meant to clean the improperly inputted or outdated ratings.\n",
    "    \n",
    "    NYCDOE school ratings used to include 'UPF' or 'U' (both stand for underperforming), which\n",
    "    has since been replaced by 'UD' (underdeveloped). This function is meant to replace all\n",
    "    'UPF' or 'U' ratings with 'UD' to account for this change. \n",
    "    '''\n",
    "    if rating == 'UPF' or rating == 'U':\n",
    "        return 'UD'\n",
    "    else:\n",
    "        return rating"
   ]
  },
  {
   "cell_type": "markdown",
   "metadata": {},
   "source": [
    "## 0.2: Section 3 Functions"
   ]
  },
  {
   "cell_type": "code",
   "execution_count": 7,
   "metadata": {},
   "outputs": [],
   "source": [
    "def make_numerical_ratings(rating):\n",
    "    '''Converts the ratings given to NYC public schools to a numerical scale.\n",
    "    \n",
    "    The ratings and their conversions take the following form:\n",
    "    UD - Underdeveloped --> returns 0 \n",
    "    D - Developing --> returns 1\n",
    "    P - Proficient --> returns 2\n",
    "    WD - Well Developed --> returns 3\n",
    "    \n",
    "    All numerical ratings are returned as an integer. \n",
    "    '''\n",
    "    if rating == 'UD':\n",
    "        return 0\n",
    "    elif rating == 'D':\n",
    "        return 1\n",
    "    elif rating == 'P':\n",
    "        return 2\n",
    "    else:\n",
    "        return 3\n",
    "\n",
    "def r_value_p_calc(size, x, y):\n",
    "    '''Given a depdendent variable (y) and independent variable (x), determines the pearson \n",
    "    correlation coefficient (r) and returns the associated p value for that correlation.\n",
    "    \n",
    "    x --> independent variable data, must be 1-D.\n",
    "    y --> dependent variable data, must be 1-D and same size as x.\n",
    "    \n",
    "    r is calculated using statsmodels' pearsonr() function. \n",
    "    p-value calculation is done by performing null hypothesis simulations to calculate \n",
    "    replicates of r and determining which fraction of those replicates is more or less than \n",
    "    the original r value. The number of null hypothesis simulationsis controlled by the \n",
    "    'size' argument.\n",
    "    \n",
    "    p-value is returned as a floating point number. \n",
    "    '''\n",
    "    r_obs = pearsonr(x, y)[0]\n",
    "    r_reps = np.empty(size)\n",
    "    for i in range(size):\n",
    "        perm = np.random.permutation(x)\n",
    "        r_reps[i] = pearsonr(perm, y)[0]\n",
    "    \n",
    "    if r_obs < 0: \n",
    "        return np.sum(r_reps < r_obs) / size\n",
    "    else:\n",
    "        return np.sum(r_reps > r_obs) / size\n",
    "\n",
    "def regression_replicates(size, x, y, d):\n",
    "    inds = np.arange(len(x))\n",
    "    \n",
    "    replicates = np.empty((size, d+1))\n",
    "        \n",
    "    for i in range(size):\n",
    "        choices = np.random.choice(inds, size = len(inds))\n",
    "        new_x, new_y = x[choices], y[choices]\n",
    "        results = np.polyfit(new_x, new_y, d)\n",
    "        for j in range(0, d+1):\n",
    "            replicates[i, j] = results[j]\n",
    "        \n",
    "        \n",
    "    return replicates\n",
    "\n",
    "def convert_to_binary(rating):\n",
    "    '''Given a school quality review rating, return a 1 or 0 based on if that review is\n",
    "    positive or negative. \n",
    "\n",
    "    If rating is UD (underdeveloped) or D (developing) --> return 0\n",
    "    If rating is WD (well-developed) or P (proficient) --> return 1\n",
    "    '''\n",
    "    if rating == 'WD' or rating == 'P':\n",
    "        return 1\n",
    "    if rating == 'UD' or rating == 'D':\n",
    "        return 0"
   ]
  },
  {
   "cell_type": "markdown",
   "metadata": {},
   "source": [
    "## 0.3: Section 4 Functions"
   ]
  },
  {
   "cell_type": "code",
   "execution_count": 8,
   "metadata": {},
   "outputs": [],
   "source": []
  },
  {
   "cell_type": "markdown",
   "metadata": {},
   "source": [
    "# Section 1: Introduction"
   ]
  },
  {
   "cell_type": "markdown",
   "metadata": {},
   "source": [
    "This following project was completed in the hopes of answering the following question,\n",
    "<br>\n",
    "<br>\n",
    "\n",
    "\n",
    "<center>\n",
    "<b>Does the performance of public high schools in New York City have any dependence on the number of charter high schools in that same school district?</b>\n",
    "</center>\n",
    "\n",
    "As a former educator at a New York City public school, I have always been interested by the advent of charter schools, and have heard arguments regarding both their benefits and their drawbacks. While many of these charter schools in New York City have been able to produce results that are better than their public school counterparts, I have always been skeptical of how authentic these results are, and if they are achieved at the exspense of the rest of New York City's public schools. The work that follows was done in an attempt to resolve this dilemma. "
   ]
  },
  {
   "cell_type": "markdown",
   "metadata": {},
   "source": [
    "## 1.1 Abstract\n",
    "\n",
    "Though charter schools have existed in this country for quite some time, their prevalence in recent years has increased significantly, especially in dense, urban areas such as New York City. Whether or not the creation of these charter schools has had a positive impact on the education systems in these areas has been hotly debated, with educators, politicians, and regular citizens on either side. Specifically, in New York City, proponents of charter schools say that the students they enroll perform better (on average) than students enrolled at their public school counterparts. For some, charter schools are the “long awaited solution” to New York City’s educational gap, as they have managed to produce results in school districts that are typically low performing.  However, those who oppose charter schools argue that, despite being privately owned, they are still publicly funded, and that this drains the already limited money and resources allocated to the New York City public schools. In addition, because of their typically large donor bases, many charter schools have recruitment networks in place, which critics say they use to “poach” higher performing students. In determining whether public high school performance in a district is dependent upon the number of charter school in that district, we can evaluate the legitimacy of some of these claims, and come up with possible explanations for why or why not that is the case. This report shows that while though there might be a correlation between these two variables, more data, and more likely more independent variables are needed in order to build more effective models that can better answer this question. \n"
   ]
  },
  {
   "cell_type": "markdown",
   "metadata": {},
   "source": [
    "## 1.2: Understanding the Data\n",
    "\n",
    "The following subsection provides a summary of how to understand the data that is presented in future sections. More specifically, this section will provide preliminary explanations of New York City Department of Education (NYCDOE) school districts, school codes, and school ratings. "
   ]
  },
  {
   "cell_type": "markdown",
   "metadata": {},
   "source": [
    "### 1.2.1: NYCDOE School Districts\n",
    "\n",
    "New York City consists of five boroughs containing a total of thirty-two different school districts. A map of these school districts can be seen in the picture below.\n",
    "\n",
    "<img width=350 height=350 src=\"images/nyc_school_districts.jpg\"/>\n",
    "\n",
    "More specifically, each of New York City's boroughs contain the following school districts:\n",
    "\n",
    "<table>\n",
    "    <tr>\n",
    "        <th>Borough</th>\n",
    "        <th>Districts</th>\n",
    "    </tr>\n",
    "    <tr>\n",
    "        <td>Manhattan</td>\n",
    "        <td>1-6</td>\n",
    "    </tr>\n",
    "        <tr>\n",
    "        <td>The Bronx</td>\n",
    "        <td>7-12</td>\n",
    "    </tr>\n",
    "        <tr>\n",
    "        <td>Brooklyn</td>\n",
    "        <td>13-23, 32</td>\n",
    "    </tr>\n",
    "    <tr>\n",
    "        <td>Queens</td>\n",
    "        <td>24-30</td>\n",
    "    </tr>\n",
    "    <tr>\n",
    "        <td>Staten Island</td>\n",
    "        <td>31</td>\n",
    "    </tr>\n",
    "</table>\n"
   ]
  },
  {
   "cell_type": "markdown",
   "metadata": {},
   "source": [
    "### 1.2.2: NYCDOE School Codes\n",
    "\n",
    "There are two different types of school codes used by the NYCDOE, which are listed below:\n",
    "\n",
    "<ul>\n",
    "    <li>DBN Code - Stands for 'District, Borough, Number'</li>\n",
    "    <li>BN Code - Stands for 'Borough, Number'</li>\n",
    "</ul>\n",
    "\n",
    "As is clear in the explanation above, the codes are simply acronyms explaining the information that they represent. Before moving onto an example, the boroughs represented in the two different types of school code have their own borough codes that should be reviewed. When differentiating boroughs, the NYCDOE uses the following letter codes:\n",
    "\n",
    "<table>\n",
    "    <tr>\n",
    "        <th>Borough</th>\n",
    "        <th>Borough Code</th>\n",
    "    </tr>\n",
    "    <tr>\n",
    "        <td>Manhattan</td>\n",
    "        <td>M</td>\n",
    "    </tr>\n",
    "        <tr>\n",
    "        <td>The Bronx</td>\n",
    "        <td>X</td>\n",
    "    </tr>\n",
    "        <tr>\n",
    "        <td>Brooklyn</td>\n",
    "        <td>K</td>\n",
    "    </tr>\n",
    "    <tr>\n",
    "        <td>Queens</td>\n",
    "        <td>Q</td>\n",
    "    </tr>\n",
    "    <tr>\n",
    "        <td>Staten Island</td>\n",
    "        <td>R</td>\n",
    "    </tr>\n",
    "</table>\n",
    "\n",
    "Now for an example -- a school with DBN code 10X437 can be interpreted as follows, by breaking it up into its three components:\n",
    "<ol>\n",
    "    <li><b>District:</b> The school exists in district 10.</li>\n",
    "    <li><b>Borough:</b> The school is located in the Bronx.</li>\n",
    "    <li><b>Number:</b> The school's number is 437.</li>\n",
    "</ol>\n",
    "\n",
    "The BN code of a school contains only the school's borough code and school number, and is the exact same as the DBN minus the inclusion of the district number. For example, the BN code for a school with DBN code 10X437 is just X437. This means that school district number is not required in order to identify a single school and that, while the DBN code does provide more information, every school has a unique BN code that can be used to identify it. \n"
   ]
  },
  {
   "cell_type": "markdown",
   "metadata": {},
   "source": [
    "### 1.2.3: NYCDOE School Quality ReviewRatings\n",
    "\n",
    "While there exist many assessment methods and metrics that the NYCDOE uses to a evaluate the performance of a school, the most rigorous by far is known as the quality review. A quality review of a school involves the school's superintendent and their staff performing a multiday observation of the school in which every classroom is visited at least once. Upon conclusion of these observations, the school is rated on a total of 10 different indicators and given an extensive writeup that is publicly available to parents, students, teachers etc. As such, positive ratings on a quality review are seen as crucial by school principals in order to attract both high level students and teachers. In addition, because these quality reviews are particuarly labor intensive, a school is given a quality review on average once every two or three years. <br>\n",
    "\n",
    "The different indicators that each school is assessed on can be seen in the following excerpt from the NYCDOE <a href=\"https://infohub.nyced.org/docs/default-source/default-document-library/quality-review-rubric_18-19.pdf\">2018-19 quality review rubric </a>:\n",
    "\n",
    "<img width=500 height=500 src=\"images/quality_review_indicators.png\"/>\n",
    "\n",
    "The following chart lists the four different ratings that can be given to a school on each of the indicators:\n",
    "\n",
    "<table>\n",
    "    <tr>\n",
    "        <th>Rating</th>\n",
    "        <th>Meaning</th>\n",
    "    </tr>\n",
    "    <tr>\n",
    "        <td>WD</td>\n",
    "        <td>Well-Developed</td>\n",
    "    </tr>\n",
    "        <tr>\n",
    "        <td>P</td>\n",
    "        <td>Proficient</td>\n",
    "    </tr>\n",
    "        <tr>\n",
    "        <td>D</td>\n",
    "        <td>Developing</td>\n",
    "    </tr>\n",
    "    <tr>\n",
    "        <td>UD</td>\n",
    "        <td>Underdeveloped</td>\n",
    "    </tr>\n",
    "</table>\n",
    "\n",
    "Once a rating has been given on each of the indicators, an overall rating is given to the school using the same scale. No information could be found publicly that explained how the NYCDOE aggregates the indicator ratings into the single overall ranking. "
   ]
  },
  {
   "cell_type": "markdown",
   "metadata": {},
   "source": [
    "# Section 2: Cleaning Data\n",
    "\n",
    "The work done in this section gives an in depth explanation of all the data cleaning steps that were required in order to begin analysis. It is recommended that Section 1.2 is read and understood in order to fully understand the purpose and meaning of all data cleaning steps. "
   ]
  },
  {
   "cell_type": "markdown",
   "metadata": {},
   "source": [
    "## 2.1: Cleaning Charter School Data\n",
    "\n",
    "The goal in compiling the charter school data was to create a dataframe containing the number of charters schools in a district for each year. While an extensive search did not result in finding this data exactly, <a href=\"http://www.p12.nysed.gov/psc/csdirectory/CSLaunchPage.html\">the New York State Education website</a> did offer a directory of all charter schools that were active in New York City as of the 2018 school year. This information was available for download as an <a href=\"Data/nyc_charter_school_list.xlsx\"> excel spreadsheet </a>, which is read into a dataframe in the cell below."
   ]
  },
  {
   "cell_type": "code",
   "execution_count": 9,
   "metadata": {},
   "outputs": [
    {
     "name": "stdout",
     "output_type": "stream",
     "text": [
      "<class 'pandas.core.frame.DataFrame'>\n",
      "RangeIndex: 292 entries, 0 to 291\n",
      "Data columns (total 14 columns):\n",
      "DBN                           236 non-null object\n",
      "Bedscode                      292 non-null int64\n",
      "School Name                   292 non-null object\n",
      "School District               292 non-null object\n",
      "NYC                           292 non-null object\n",
      "CSD                           234 non-null float64\n",
      "Network Name                  153 non-null object\n",
      "Network Type                  119 non-null object\n",
      "Conversion                    292 non-null object\n",
      "Unionized                     292 non-null object\n",
      "2018-19 Years of Operation    292 non-null int64\n",
      "Grades                        292 non-null object\n",
      "Charter End Date              292 non-null datetime64[ns]\n",
      "Authorizer                    292 non-null object\n",
      "dtypes: datetime64[ns](1), float64(1), int64(2), object(10)\n",
      "memory usage: 32.0+ KB\n"
     ]
    }
   ],
   "source": [
    "# summary: read in excel file as dataframe and print out column info. \n",
    "charter_list = pd.read_excel('Data/nyc_charter_school_list.xlsx') \n",
    "charter_list.head();\n",
    "charter_list.info()"
   ]
  },
  {
   "cell_type": "markdown",
   "metadata": {},
   "source": [
    "As is clear in the information provided above, this dataset contains many columns, some of which are not relevant in order to evaluate the question being asked. The columns that are relevant, along with the information that they contain, are listed as follows:\n",
    "\n",
    "<ul>\n",
    "    <li><b>DBN</b> -  the DBN code for the charter school.</li>\n",
    "    <li><b>School Name</b> - the full text name of the charter school.</li>\n",
    "    <li><b>NYC</b> - whether or not the school is located in New York City.</li>\n",
    "    <li><b>CSD</b> - The charter school district that the charter school is located in.</li>\n",
    "    <li><b>2018-19 Years of Operation</b> - How many years the charter school has been open at the start of the 2018 school year.</li>\n",
    "</ul>\n",
    "\n",
    "These columns are extracted in the cell below.\n"
   ]
  },
  {
   "cell_type": "code",
   "execution_count": 10,
   "metadata": {},
   "outputs": [
    {
     "data": {
      "text/html": [
       "<div>\n",
       "<style scoped>\n",
       "    .dataframe tbody tr th:only-of-type {\n",
       "        vertical-align: middle;\n",
       "    }\n",
       "\n",
       "    .dataframe tbody tr th {\n",
       "        vertical-align: top;\n",
       "    }\n",
       "\n",
       "    .dataframe thead th {\n",
       "        text-align: right;\n",
       "    }\n",
       "</style>\n",
       "<table border=\"1\" class=\"dataframe\">\n",
       "  <thead>\n",
       "    <tr style=\"text-align: right;\">\n",
       "      <th></th>\n",
       "      <th>DBN</th>\n",
       "      <th>School Name</th>\n",
       "      <th>NYC</th>\n",
       "      <th>CSD</th>\n",
       "      <th>Grades</th>\n",
       "      <th>2018-19 Years of Operation</th>\n",
       "    </tr>\n",
       "  </thead>\n",
       "  <tbody>\n",
       "    <tr>\n",
       "      <th>0</th>\n",
       "      <td>84X491</td>\n",
       "      <td>Academic Leadership Charter School</td>\n",
       "      <td>Yes</td>\n",
       "      <td>7.0</td>\n",
       "      <td>0K,01,02,03,04,05,06,07,08</td>\n",
       "      <td>10</td>\n",
       "    </tr>\n",
       "    <tr>\n",
       "      <th>1</th>\n",
       "      <td>NaN</td>\n",
       "      <td>Academy Charter School</td>\n",
       "      <td>No</td>\n",
       "      <td>NaN</td>\n",
       "      <td>0K,01,02,03,04,05,06,07,08,09,10,11</td>\n",
       "      <td>10</td>\n",
       "    </tr>\n",
       "    <tr>\n",
       "      <th>2</th>\n",
       "      <td>NaN</td>\n",
       "      <td>Academy Charter School - Uniondale (The)</td>\n",
       "      <td>No</td>\n",
       "      <td>NaN</td>\n",
       "      <td>0K,01,02</td>\n",
       "      <td>1</td>\n",
       "    </tr>\n",
       "    <tr>\n",
       "      <th>3</th>\n",
       "      <td>84Q359</td>\n",
       "      <td>Academy of the City Charter School</td>\n",
       "      <td>Yes</td>\n",
       "      <td>30.0</td>\n",
       "      <td>0K,01,02,03,04,05</td>\n",
       "      <td>8</td>\n",
       "    </tr>\n",
       "    <tr>\n",
       "      <th>4</th>\n",
       "      <td>84K774</td>\n",
       "      <td>Achievement First Apollo Charter School</td>\n",
       "      <td>Yes</td>\n",
       "      <td>19.0</td>\n",
       "      <td>0K,01,02,03,04,05,06,07,08,09</td>\n",
       "      <td>9</td>\n",
       "    </tr>\n",
       "  </tbody>\n",
       "</table>\n",
       "</div>"
      ],
      "text/plain": [
       "      DBN                               School Name  NYC   CSD  \\\n",
       "0  84X491        Academic Leadership Charter School  Yes   7.0   \n",
       "1     NaN                    Academy Charter School   No   NaN   \n",
       "2     NaN  Academy Charter School - Uniondale (The)   No   NaN   \n",
       "3  84Q359        Academy of the City Charter School  Yes  30.0   \n",
       "4  84K774   Achievement First Apollo Charter School  Yes  19.0   \n",
       "\n",
       "                                Grades  2018-19 Years of Operation  \n",
       "0           0K,01,02,03,04,05,06,07,08                          10  \n",
       "1  0K,01,02,03,04,05,06,07,08,09,10,11                          10  \n",
       "2                             0K,01,02                           1  \n",
       "3                    0K,01,02,03,04,05                           8  \n",
       "4        0K,01,02,03,04,05,06,07,08,09                           9  "
      ]
     },
     "execution_count": 10,
     "metadata": {},
     "output_type": "execute_result"
    }
   ],
   "source": [
    "# summary: extract the relevant columns from the charter school dataframe. \n",
    "col_list = ['DBN', 'School Name', 'NYC', 'CSD', 'Grades', '2018-19 Years of Operation']\n",
    "charter_list = charter_list[col_list]\n",
    "charter_list.head()"
   ]
  },
  {
   "cell_type": "markdown",
   "metadata": {},
   "source": [
    "Because the scope of this project only included New York City schools, the next step in cleaning the charter school data is to remove all schools that were not located in NYC. Since the <b>NYC</b> column reads 'Yes' if the school is in NYC, all non-NYC schools can be removed by a simple filtering of this column. This is done in the cell below."
   ]
  },
  {
   "cell_type": "code",
   "execution_count": 11,
   "metadata": {},
   "outputs": [
    {
     "data": {
      "text/html": [
       "<div>\n",
       "<style scoped>\n",
       "    .dataframe tbody tr th:only-of-type {\n",
       "        vertical-align: middle;\n",
       "    }\n",
       "\n",
       "    .dataframe tbody tr th {\n",
       "        vertical-align: top;\n",
       "    }\n",
       "\n",
       "    .dataframe thead th {\n",
       "        text-align: right;\n",
       "    }\n",
       "</style>\n",
       "<table border=\"1\" class=\"dataframe\">\n",
       "  <thead>\n",
       "    <tr style=\"text-align: right;\">\n",
       "      <th></th>\n",
       "      <th>DBN</th>\n",
       "      <th>School Name</th>\n",
       "      <th>CSD</th>\n",
       "      <th>Grades</th>\n",
       "      <th>2018-19 Years of Operation</th>\n",
       "    </tr>\n",
       "  </thead>\n",
       "  <tbody>\n",
       "    <tr>\n",
       "      <th>0</th>\n",
       "      <td>84X491</td>\n",
       "      <td>Academic Leadership Charter School</td>\n",
       "      <td>7.0</td>\n",
       "      <td>0K,01,02,03,04,05,06,07,08</td>\n",
       "      <td>10</td>\n",
       "    </tr>\n",
       "    <tr>\n",
       "      <th>1</th>\n",
       "      <td>84Q359</td>\n",
       "      <td>Academy of the City Charter School</td>\n",
       "      <td>30.0</td>\n",
       "      <td>0K,01,02,03,04,05</td>\n",
       "      <td>8</td>\n",
       "    </tr>\n",
       "    <tr>\n",
       "      <th>2</th>\n",
       "      <td>84K774</td>\n",
       "      <td>Achievement First Apollo Charter School</td>\n",
       "      <td>19.0</td>\n",
       "      <td>0K,01,02,03,04,05,06,07,08,09</td>\n",
       "      <td>9</td>\n",
       "    </tr>\n",
       "    <tr>\n",
       "      <th>3</th>\n",
       "      <td>84K680</td>\n",
       "      <td>Achievement First Aspire Charter School</td>\n",
       "      <td>19.0</td>\n",
       "      <td>0K,01,02,03,04,05,06</td>\n",
       "      <td>6</td>\n",
       "    </tr>\n",
       "    <tr>\n",
       "      <th>4</th>\n",
       "      <td>84K626</td>\n",
       "      <td>Achievement First Brownsville Charter School</td>\n",
       "      <td>23.0</td>\n",
       "      <td>0K,01,02,03,04,05,06,07,08,09,10,11</td>\n",
       "      <td>11</td>\n",
       "    </tr>\n",
       "  </tbody>\n",
       "</table>\n",
       "</div>"
      ],
      "text/plain": [
       "      DBN                                   School Name   CSD  \\\n",
       "0  84X491            Academic Leadership Charter School   7.0   \n",
       "1  84Q359            Academy of the City Charter School  30.0   \n",
       "2  84K774       Achievement First Apollo Charter School  19.0   \n",
       "3  84K680       Achievement First Aspire Charter School  19.0   \n",
       "4  84K626  Achievement First Brownsville Charter School  23.0   \n",
       "\n",
       "                                Grades  2018-19 Years of Operation  \n",
       "0           0K,01,02,03,04,05,06,07,08                          10  \n",
       "1                    0K,01,02,03,04,05                           8  \n",
       "2        0K,01,02,03,04,05,06,07,08,09                           9  \n",
       "3                 0K,01,02,03,04,05,06                           6  \n",
       "4  0K,01,02,03,04,05,06,07,08,09,10,11                          11  "
      ]
     },
     "execution_count": 11,
     "metadata": {},
     "output_type": "execute_result"
    }
   ],
   "source": [
    "# summary: remove all schools from the dataframe that are not located in NYC.\n",
    "charter_list = charter_list[charter_list['NYC'] == 'Yes'].reset_index(drop = True)\n",
    "charter_list = charter_list.drop('NYC', axis = 1)\n",
    "charter_list.head()"
   ]
  },
  {
   "cell_type": "markdown",
   "metadata": {},
   "source": [
    "Now that the dataframe only included NYC charter schools, each school's district also had to be identified. This could be done by breaking apart the DBN code located in the <b>DBN</b> column. The function `separate_dbn_or_bn()` was created in order to serve this purpose. It is used in conjunction with the apply method below to create three new columns: <b>district</b>, <b>borough</b>, and <b>number</b>."
   ]
  },
  {
   "cell_type": "code",
   "execution_count": 12,
   "metadata": {},
   "outputs": [
    {
     "data": {
      "text/html": [
       "<div>\n",
       "<style scoped>\n",
       "    .dataframe tbody tr th:only-of-type {\n",
       "        vertical-align: middle;\n",
       "    }\n",
       "\n",
       "    .dataframe tbody tr th {\n",
       "        vertical-align: top;\n",
       "    }\n",
       "\n",
       "    .dataframe thead th {\n",
       "        text-align: right;\n",
       "    }\n",
       "</style>\n",
       "<table border=\"1\" class=\"dataframe\">\n",
       "  <thead>\n",
       "    <tr style=\"text-align: right;\">\n",
       "      <th></th>\n",
       "      <th>School Name</th>\n",
       "      <th>CSD</th>\n",
       "      <th>Grades</th>\n",
       "      <th>2018-19 Years of Operation</th>\n",
       "      <th>district</th>\n",
       "      <th>borough</th>\n",
       "      <th>number</th>\n",
       "    </tr>\n",
       "  </thead>\n",
       "  <tbody>\n",
       "    <tr>\n",
       "      <th>0</th>\n",
       "      <td>Academic Leadership Charter School</td>\n",
       "      <td>7.0</td>\n",
       "      <td>0K,01,02,03,04,05,06,07,08</td>\n",
       "      <td>10</td>\n",
       "      <td>84</td>\n",
       "      <td>The Bronx</td>\n",
       "      <td>491</td>\n",
       "    </tr>\n",
       "    <tr>\n",
       "      <th>1</th>\n",
       "      <td>Academy of the City Charter School</td>\n",
       "      <td>30.0</td>\n",
       "      <td>0K,01,02,03,04,05</td>\n",
       "      <td>8</td>\n",
       "      <td>84</td>\n",
       "      <td>Queens</td>\n",
       "      <td>359</td>\n",
       "    </tr>\n",
       "    <tr>\n",
       "      <th>2</th>\n",
       "      <td>Achievement First Apollo Charter School</td>\n",
       "      <td>19.0</td>\n",
       "      <td>0K,01,02,03,04,05,06,07,08,09</td>\n",
       "      <td>9</td>\n",
       "      <td>84</td>\n",
       "      <td>Brooklyn</td>\n",
       "      <td>774</td>\n",
       "    </tr>\n",
       "    <tr>\n",
       "      <th>3</th>\n",
       "      <td>Achievement First Aspire Charter School</td>\n",
       "      <td>19.0</td>\n",
       "      <td>0K,01,02,03,04,05,06</td>\n",
       "      <td>6</td>\n",
       "      <td>84</td>\n",
       "      <td>Brooklyn</td>\n",
       "      <td>680</td>\n",
       "    </tr>\n",
       "    <tr>\n",
       "      <th>4</th>\n",
       "      <td>Achievement First Brownsville Charter School</td>\n",
       "      <td>23.0</td>\n",
       "      <td>0K,01,02,03,04,05,06,07,08,09,10,11</td>\n",
       "      <td>11</td>\n",
       "      <td>84</td>\n",
       "      <td>Brooklyn</td>\n",
       "      <td>626</td>\n",
       "    </tr>\n",
       "  </tbody>\n",
       "</table>\n",
       "</div>"
      ],
      "text/plain": [
       "                                    School Name   CSD  \\\n",
       "0            Academic Leadership Charter School   7.0   \n",
       "1            Academy of the City Charter School  30.0   \n",
       "2       Achievement First Apollo Charter School  19.0   \n",
       "3       Achievement First Aspire Charter School  19.0   \n",
       "4  Achievement First Brownsville Charter School  23.0   \n",
       "\n",
       "                                Grades  2018-19 Years of Operation  district  \\\n",
       "0           0K,01,02,03,04,05,06,07,08                          10        84   \n",
       "1                    0K,01,02,03,04,05                           8        84   \n",
       "2        0K,01,02,03,04,05,06,07,08,09                           9        84   \n",
       "3                 0K,01,02,03,04,05,06                           6        84   \n",
       "4  0K,01,02,03,04,05,06,07,08,09,10,11                          11        84   \n",
       "\n",
       "     borough  number  \n",
       "0  The Bronx     491  \n",
       "1     Queens     359  \n",
       "2   Brooklyn     774  \n",
       "3   Brooklyn     680  \n",
       "4   Brooklyn     626  "
      ]
     },
     "execution_count": 12,
     "metadata": {},
     "output_type": "execute_result"
    }
   ],
   "source": [
    "# summary: separate DBN code into its three separate components (columns).\n",
    "charter_list[['district', 'borough', 'number']] = charter_list.apply(\n",
    "    lambda row: pd.Series(separate_dbn_or_bn(row['DBN'])), axis = 1)\n",
    "\n",
    "charter_list = charter_list.drop('DBN', axis = 1)\n",
    "charter_list.head()"
   ]
  },
  {
   "cell_type": "markdown",
   "metadata": {},
   "source": [
    "Now that the dataframe contains three new columns containing the district, borough, and number of each school, the <b>DBN</b> column becomes obsolete, and was removed. A summary of the new dataframe is given in the cell below."
   ]
  },
  {
   "cell_type": "code",
   "execution_count": 13,
   "metadata": {},
   "outputs": [
    {
     "name": "stdout",
     "output_type": "stream",
     "text": [
      "<class 'pandas.core.frame.DataFrame'>\n",
      "RangeIndex: 236 entries, 0 to 235\n",
      "Data columns (total 7 columns):\n",
      "School Name                   236 non-null object\n",
      "CSD                           234 non-null float64\n",
      "Grades                        236 non-null object\n",
      "2018-19 Years of Operation    236 non-null int64\n",
      "district                      236 non-null int64\n",
      "borough                       236 non-null object\n",
      "number                        236 non-null int64\n",
      "dtypes: float64(1), int64(3), object(3)\n",
      "memory usage: 13.0+ KB\n"
     ]
    }
   ],
   "source": [
    "charter_list.info()"
   ]
  },
  {
   "cell_type": "markdown",
   "metadata": {},
   "source": [
    "According to the information above, this cleaner version of the dataframe now only contains 236 charter schools, as opposed to the original 292. <br>\n",
    "\n",
    "However, the header of the data frame reveals a new problem: in the district column, all of the schools are located in Distirct 84. Since the NYC public school districts are only supposed to go up to 32, this cannot be the case.  This dilemma can be seen in more detail in the cell below. "
   ]
  },
  {
   "cell_type": "code",
   "execution_count": 14,
   "metadata": {},
   "outputs": [
    {
     "data": {
      "text/plain": [
       "84    236\n",
       "Name: district, dtype: int64"
      ]
     },
     "execution_count": 14,
     "metadata": {},
     "output_type": "execute_result"
    }
   ],
   "source": [
    "charter_list['district'].value_counts()"
   ]
  },
  {
   "cell_type": "markdown",
   "metadata": {},
   "source": [
    "After doing some research, it turns out that all charter schools in NYC are given district number 84 in order to differentiate them from the public schools. However, this same research also revealed that the charter school district number (dataframe column <b>CSD</b>) is actually just the geographic school district that the school is located in. As such, the next step is to replace the <b>district</b> column with the <b>CSD</b> column, as those numbers are the actual public school districts that the charter schools are located in. However, two schools had missing entires for the <b>CSD</b> column, as can be seen in the cell below."
   ]
  },
  {
   "cell_type": "code",
   "execution_count": 15,
   "metadata": {},
   "outputs": [
    {
     "data": {
      "text/html": [
       "<div>\n",
       "<style scoped>\n",
       "    .dataframe tbody tr th:only-of-type {\n",
       "        vertical-align: middle;\n",
       "    }\n",
       "\n",
       "    .dataframe tbody tr th {\n",
       "        vertical-align: top;\n",
       "    }\n",
       "\n",
       "    .dataframe thead th {\n",
       "        text-align: right;\n",
       "    }\n",
       "</style>\n",
       "<table border=\"1\" class=\"dataframe\">\n",
       "  <thead>\n",
       "    <tr style=\"text-align: right;\">\n",
       "      <th></th>\n",
       "      <th>School Name</th>\n",
       "      <th>CSD</th>\n",
       "      <th>Grades</th>\n",
       "      <th>2018-19 Years of Operation</th>\n",
       "      <th>district</th>\n",
       "      <th>borough</th>\n",
       "      <th>number</th>\n",
       "    </tr>\n",
       "  </thead>\n",
       "  <tbody>\n",
       "    <tr>\n",
       "      <th>122</th>\n",
       "      <td>Key Collegiate Charter School</td>\n",
       "      <td>NaN</td>\n",
       "      <td>04,05</td>\n",
       "      <td>1</td>\n",
       "      <td>84</td>\n",
       "      <td>Brooklyn</td>\n",
       "      <td>912</td>\n",
       "    </tr>\n",
       "    <tr>\n",
       "      <th>137</th>\n",
       "      <td>Lois and Richard Nicotra Early College Charter...</td>\n",
       "      <td>NaN</td>\n",
       "      <td>08,09,SE</td>\n",
       "      <td>1</td>\n",
       "      <td>84</td>\n",
       "      <td>Staten Island</td>\n",
       "      <td>70</td>\n",
       "    </tr>\n",
       "  </tbody>\n",
       "</table>\n",
       "</div>"
      ],
      "text/plain": [
       "                                           School Name  CSD    Grades  \\\n",
       "122                      Key Collegiate Charter School  NaN     04,05   \n",
       "137  Lois and Richard Nicotra Early College Charter...  NaN  08,09,SE   \n",
       "\n",
       "     2018-19 Years of Operation  district        borough  number  \n",
       "122                           1        84       Brooklyn     912  \n",
       "137                           1        84  Staten Island      70  "
      ]
     },
     "execution_count": 15,
     "metadata": {},
     "output_type": "execute_result"
    }
   ],
   "source": [
    "# summary: determine all schools that have missing entries in the CSD column. \n",
    "nan_rows = charter_list[charter_list['CSD'].isnull()]\n",
    "nan_rows"
   ]
  },
  {
   "cell_type": "markdown",
   "metadata": {},
   "source": [
    "The two cells listed above had missing entries in for their charter school district, but were identify online. The two school's correct charter school district in inputted in the cell below:"
   ]
  },
  {
   "cell_type": "code",
   "execution_count": 16,
   "metadata": {
    "scrolled": true
   },
   "outputs": [
    {
     "name": "stdout",
     "output_type": "stream",
     "text": [
      "<class 'pandas.core.frame.DataFrame'>\n",
      "RangeIndex: 236 entries, 0 to 235\n",
      "Data columns (total 7 columns):\n",
      "School Name                   236 non-null object\n",
      "CSD                           236 non-null float64\n",
      "Grades                        236 non-null object\n",
      "2018-19 Years of Operation    236 non-null int64\n",
      "district                      236 non-null int64\n",
      "borough                       236 non-null object\n",
      "number                        236 non-null int64\n",
      "dtypes: float64(1), int64(3), object(3)\n",
      "memory usage: 13.0+ KB\n"
     ]
    }
   ],
   "source": [
    "# summary: fill in missing charter school districts for two schools. \n",
    "charter_list.at[122, 'CSD'] = 23.0\n",
    "charter_list.at[137, 'CSD'] = 31.0\n",
    "charter_list.info()"
   ]
  },
  {
   "cell_type": "markdown",
   "metadata": {},
   "source": [
    "As can be seen in the above summary, the <b>CSD</b> column now has 236 non-null values, as opposed to only 234.<br>\n",
    "\n",
    "The next step is to replace the information in the <b>district</b> column with the information in the <b>CSD</b> column. This is done below:"
   ]
  },
  {
   "cell_type": "code",
   "execution_count": 17,
   "metadata": {},
   "outputs": [
    {
     "data": {
      "text/html": [
       "<div>\n",
       "<style scoped>\n",
       "    .dataframe tbody tr th:only-of-type {\n",
       "        vertical-align: middle;\n",
       "    }\n",
       "\n",
       "    .dataframe tbody tr th {\n",
       "        vertical-align: top;\n",
       "    }\n",
       "\n",
       "    .dataframe thead th {\n",
       "        text-align: right;\n",
       "    }\n",
       "</style>\n",
       "<table border=\"1\" class=\"dataframe\">\n",
       "  <thead>\n",
       "    <tr style=\"text-align: right;\">\n",
       "      <th></th>\n",
       "      <th>School Name</th>\n",
       "      <th>Grades</th>\n",
       "      <th>2018-19 Years of Operation</th>\n",
       "      <th>district</th>\n",
       "      <th>borough</th>\n",
       "      <th>number</th>\n",
       "    </tr>\n",
       "  </thead>\n",
       "  <tbody>\n",
       "    <tr>\n",
       "      <th>0</th>\n",
       "      <td>Academic Leadership Charter School</td>\n",
       "      <td>0K,01,02,03,04,05,06,07,08</td>\n",
       "      <td>10</td>\n",
       "      <td>7</td>\n",
       "      <td>The Bronx</td>\n",
       "      <td>491</td>\n",
       "    </tr>\n",
       "    <tr>\n",
       "      <th>1</th>\n",
       "      <td>Academy of the City Charter School</td>\n",
       "      <td>0K,01,02,03,04,05</td>\n",
       "      <td>8</td>\n",
       "      <td>30</td>\n",
       "      <td>Queens</td>\n",
       "      <td>359</td>\n",
       "    </tr>\n",
       "    <tr>\n",
       "      <th>2</th>\n",
       "      <td>Achievement First Apollo Charter School</td>\n",
       "      <td>0K,01,02,03,04,05,06,07,08,09</td>\n",
       "      <td>9</td>\n",
       "      <td>19</td>\n",
       "      <td>Brooklyn</td>\n",
       "      <td>774</td>\n",
       "    </tr>\n",
       "    <tr>\n",
       "      <th>3</th>\n",
       "      <td>Achievement First Aspire Charter School</td>\n",
       "      <td>0K,01,02,03,04,05,06</td>\n",
       "      <td>6</td>\n",
       "      <td>19</td>\n",
       "      <td>Brooklyn</td>\n",
       "      <td>680</td>\n",
       "    </tr>\n",
       "    <tr>\n",
       "      <th>4</th>\n",
       "      <td>Achievement First Brownsville Charter School</td>\n",
       "      <td>0K,01,02,03,04,05,06,07,08,09,10,11</td>\n",
       "      <td>11</td>\n",
       "      <td>23</td>\n",
       "      <td>Brooklyn</td>\n",
       "      <td>626</td>\n",
       "    </tr>\n",
       "  </tbody>\n",
       "</table>\n",
       "</div>"
      ],
      "text/plain": [
       "                                    School Name  \\\n",
       "0            Academic Leadership Charter School   \n",
       "1            Academy of the City Charter School   \n",
       "2       Achievement First Apollo Charter School   \n",
       "3       Achievement First Aspire Charter School   \n",
       "4  Achievement First Brownsville Charter School   \n",
       "\n",
       "                                Grades  2018-19 Years of Operation  district  \\\n",
       "0           0K,01,02,03,04,05,06,07,08                          10         7   \n",
       "1                    0K,01,02,03,04,05                           8        30   \n",
       "2        0K,01,02,03,04,05,06,07,08,09                           9        19   \n",
       "3                 0K,01,02,03,04,05,06                           6        19   \n",
       "4  0K,01,02,03,04,05,06,07,08,09,10,11                          11        23   \n",
       "\n",
       "     borough  number  \n",
       "0  The Bronx     491  \n",
       "1     Queens     359  \n",
       "2   Brooklyn     774  \n",
       "3   Brooklyn     680  \n",
       "4   Brooklyn     626  "
      ]
     },
     "execution_count": 17,
     "metadata": {},
     "output_type": "execute_result"
    }
   ],
   "source": [
    "# summary: replace information in district column with information from CSD column. \n",
    "charter_list['district'] = charter_list['CSD'].astype('int64')\n",
    "charter_list = charter_list.drop('CSD', axis = 1)\n",
    "charter_list.head()"
   ]
  },
  {
   "cell_type": "markdown",
   "metadata": {},
   "source": [
    "As is clear in the dataframe header shown above, each school's correct geographic school district is now given in the <b>district</b> column. <br>\n",
    "\n",
    "However, having just the correct district for each charter school is not sufficient to answer the question at hand. In addition to knowing the district each charter school was located in, we must also know how many years each charter school was in that district. The first step in doing this is to create a new column that contains the year in which the charter school was opened. This is done using the information in the <b>2018-19 Years of Operation</b> column, and simply subtracting that number from 2019 (the current school year):"
   ]
  },
  {
   "cell_type": "code",
   "execution_count": 18,
   "metadata": {},
   "outputs": [
    {
     "data": {
      "text/html": [
       "<div>\n",
       "<style scoped>\n",
       "    .dataframe tbody tr th:only-of-type {\n",
       "        vertical-align: middle;\n",
       "    }\n",
       "\n",
       "    .dataframe tbody tr th {\n",
       "        vertical-align: top;\n",
       "    }\n",
       "\n",
       "    .dataframe thead th {\n",
       "        text-align: right;\n",
       "    }\n",
       "</style>\n",
       "<table border=\"1\" class=\"dataframe\">\n",
       "  <thead>\n",
       "    <tr style=\"text-align: right;\">\n",
       "      <th></th>\n",
       "      <th>School Name</th>\n",
       "      <th>Grades</th>\n",
       "      <th>district</th>\n",
       "      <th>borough</th>\n",
       "      <th>number</th>\n",
       "      <th>opening_year</th>\n",
       "    </tr>\n",
       "  </thead>\n",
       "  <tbody>\n",
       "    <tr>\n",
       "      <th>0</th>\n",
       "      <td>Academic Leadership Charter School</td>\n",
       "      <td>0K,01,02,03,04,05,06,07,08</td>\n",
       "      <td>7</td>\n",
       "      <td>The Bronx</td>\n",
       "      <td>491</td>\n",
       "      <td>2009</td>\n",
       "    </tr>\n",
       "    <tr>\n",
       "      <th>1</th>\n",
       "      <td>Academy of the City Charter School</td>\n",
       "      <td>0K,01,02,03,04,05</td>\n",
       "      <td>30</td>\n",
       "      <td>Queens</td>\n",
       "      <td>359</td>\n",
       "      <td>2011</td>\n",
       "    </tr>\n",
       "    <tr>\n",
       "      <th>2</th>\n",
       "      <td>Achievement First Apollo Charter School</td>\n",
       "      <td>0K,01,02,03,04,05,06,07,08,09</td>\n",
       "      <td>19</td>\n",
       "      <td>Brooklyn</td>\n",
       "      <td>774</td>\n",
       "      <td>2010</td>\n",
       "    </tr>\n",
       "    <tr>\n",
       "      <th>3</th>\n",
       "      <td>Achievement First Aspire Charter School</td>\n",
       "      <td>0K,01,02,03,04,05,06</td>\n",
       "      <td>19</td>\n",
       "      <td>Brooklyn</td>\n",
       "      <td>680</td>\n",
       "      <td>2013</td>\n",
       "    </tr>\n",
       "    <tr>\n",
       "      <th>4</th>\n",
       "      <td>Achievement First Brownsville Charter School</td>\n",
       "      <td>0K,01,02,03,04,05,06,07,08,09,10,11</td>\n",
       "      <td>23</td>\n",
       "      <td>Brooklyn</td>\n",
       "      <td>626</td>\n",
       "      <td>2008</td>\n",
       "    </tr>\n",
       "  </tbody>\n",
       "</table>\n",
       "</div>"
      ],
      "text/plain": [
       "                                    School Name  \\\n",
       "0            Academic Leadership Charter School   \n",
       "1            Academy of the City Charter School   \n",
       "2       Achievement First Apollo Charter School   \n",
       "3       Achievement First Aspire Charter School   \n",
       "4  Achievement First Brownsville Charter School   \n",
       "\n",
       "                                Grades  district    borough  number  \\\n",
       "0           0K,01,02,03,04,05,06,07,08         7  The Bronx     491   \n",
       "1                    0K,01,02,03,04,05        30     Queens     359   \n",
       "2        0K,01,02,03,04,05,06,07,08,09        19   Brooklyn     774   \n",
       "3                 0K,01,02,03,04,05,06        19   Brooklyn     680   \n",
       "4  0K,01,02,03,04,05,06,07,08,09,10,11        23   Brooklyn     626   \n",
       "\n",
       "   opening_year  \n",
       "0          2009  \n",
       "1          2011  \n",
       "2          2010  \n",
       "3          2013  \n",
       "4          2008  "
      ]
     },
     "execution_count": 18,
     "metadata": {},
     "output_type": "execute_result"
    }
   ],
   "source": [
    "# summary: create a new column, 'opening_year' that gives the year each school opened. \n",
    "charter_list['opening_year'] = 2019 - charter_list['2018-19 Years of Operation']\n",
    "# only go up to 2017, since thats the last year for which public school ratings are publically available:\n",
    "charter_list = charter_list[charter_list['opening_year'] <= 2017]\n",
    "charter_list = charter_list.drop('2018-19 Years of Operation', axis = 1)\n",
    "charter_list.head()"
   ]
  },
  {
   "cell_type": "markdown",
   "metadata": {},
   "source": [
    "As can be seen in the dataframe headed above, the <b>2018-19 Years in Operation</b> column has been replaced by <b>opening_year</b>, which simply lists the year that the charter school opened. <br>\n",
    "\n",
    "In the cell below, the dataframe is reorganized."
   ]
  },
  {
   "cell_type": "code",
   "execution_count": 19,
   "metadata": {},
   "outputs": [
    {
     "data": {
      "text/html": [
       "<div>\n",
       "<style scoped>\n",
       "    .dataframe tbody tr th:only-of-type {\n",
       "        vertical-align: middle;\n",
       "    }\n",
       "\n",
       "    .dataframe tbody tr th {\n",
       "        vertical-align: top;\n",
       "    }\n",
       "\n",
       "    .dataframe thead th {\n",
       "        text-align: right;\n",
       "    }\n",
       "</style>\n",
       "<table border=\"1\" class=\"dataframe\">\n",
       "  <thead>\n",
       "    <tr style=\"text-align: right;\">\n",
       "      <th></th>\n",
       "      <th>borough</th>\n",
       "      <th>district</th>\n",
       "      <th>number</th>\n",
       "      <th>School Name</th>\n",
       "      <th>Grades</th>\n",
       "      <th>opening_year</th>\n",
       "    </tr>\n",
       "  </thead>\n",
       "  <tbody>\n",
       "    <tr>\n",
       "      <th>0</th>\n",
       "      <td>The Bronx</td>\n",
       "      <td>7</td>\n",
       "      <td>491</td>\n",
       "      <td>Academic Leadership Charter School</td>\n",
       "      <td>0K,01,02,03,04,05,06,07,08</td>\n",
       "      <td>2009</td>\n",
       "    </tr>\n",
       "    <tr>\n",
       "      <th>1</th>\n",
       "      <td>Queens</td>\n",
       "      <td>30</td>\n",
       "      <td>359</td>\n",
       "      <td>Academy of the City Charter School</td>\n",
       "      <td>0K,01,02,03,04,05</td>\n",
       "      <td>2011</td>\n",
       "    </tr>\n",
       "    <tr>\n",
       "      <th>2</th>\n",
       "      <td>Brooklyn</td>\n",
       "      <td>19</td>\n",
       "      <td>774</td>\n",
       "      <td>Achievement First Apollo Charter School</td>\n",
       "      <td>0K,01,02,03,04,05,06,07,08,09</td>\n",
       "      <td>2010</td>\n",
       "    </tr>\n",
       "    <tr>\n",
       "      <th>3</th>\n",
       "      <td>Brooklyn</td>\n",
       "      <td>19</td>\n",
       "      <td>680</td>\n",
       "      <td>Achievement First Aspire Charter School</td>\n",
       "      <td>0K,01,02,03,04,05,06</td>\n",
       "      <td>2013</td>\n",
       "    </tr>\n",
       "    <tr>\n",
       "      <th>4</th>\n",
       "      <td>Brooklyn</td>\n",
       "      <td>23</td>\n",
       "      <td>626</td>\n",
       "      <td>Achievement First Brownsville Charter School</td>\n",
       "      <td>0K,01,02,03,04,05,06,07,08,09,10,11</td>\n",
       "      <td>2008</td>\n",
       "    </tr>\n",
       "  </tbody>\n",
       "</table>\n",
       "</div>"
      ],
      "text/plain": [
       "     borough  district  number                                   School Name  \\\n",
       "0  The Bronx         7     491            Academic Leadership Charter School   \n",
       "1     Queens        30     359            Academy of the City Charter School   \n",
       "2   Brooklyn        19     774       Achievement First Apollo Charter School   \n",
       "3   Brooklyn        19     680       Achievement First Aspire Charter School   \n",
       "4   Brooklyn        23     626  Achievement First Brownsville Charter School   \n",
       "\n",
       "                                Grades  opening_year  \n",
       "0           0K,01,02,03,04,05,06,07,08          2009  \n",
       "1                    0K,01,02,03,04,05          2011  \n",
       "2        0K,01,02,03,04,05,06,07,08,09          2010  \n",
       "3                 0K,01,02,03,04,05,06          2013  \n",
       "4  0K,01,02,03,04,05,06,07,08,09,10,11          2008  "
      ]
     },
     "execution_count": 19,
     "metadata": {},
     "output_type": "execute_result"
    }
   ],
   "source": [
    "# summary: reorder the columns in the dataframe. \n",
    "col_list = ['borough', 'district', 'number', 'School Name', 'Grades', 'opening_year']\n",
    "charter_list = charter_list[col_list]\n",
    "charter_list.head()"
   ]
  },
  {
   "cell_type": "markdown",
   "metadata": {},
   "source": [
    "However, in order to see if the number of charter schools has had an impact on public school performance over the years, the information present in the dataframe above is still not enough. Instead of knowing when each charter school was opened, a complete list giving the number of charter schools in each district for all years is required. The steps taken to complete this are shown below:"
   ]
  },
  {
   "cell_type": "code",
   "execution_count": 20,
   "metadata": {},
   "outputs": [
    {
     "data": {
      "text/html": [
       "<div>\n",
       "<style scoped>\n",
       "    .dataframe tbody tr th:only-of-type {\n",
       "        vertical-align: middle;\n",
       "    }\n",
       "\n",
       "    .dataframe tbody tr th {\n",
       "        vertical-align: top;\n",
       "    }\n",
       "\n",
       "    .dataframe thead th {\n",
       "        text-align: right;\n",
       "    }\n",
       "</style>\n",
       "<table border=\"1\" class=\"dataframe\">\n",
       "  <thead>\n",
       "    <tr style=\"text-align: right;\">\n",
       "      <th></th>\n",
       "      <th></th>\n",
       "      <th></th>\n",
       "      <th>number</th>\n",
       "      <th>School Name</th>\n",
       "      <th>Grades</th>\n",
       "    </tr>\n",
       "    <tr>\n",
       "      <th>borough</th>\n",
       "      <th>district</th>\n",
       "      <th>opening_year</th>\n",
       "      <th></th>\n",
       "      <th></th>\n",
       "      <th></th>\n",
       "    </tr>\n",
       "  </thead>\n",
       "  <tbody>\n",
       "    <tr>\n",
       "      <th>Brooklyn</th>\n",
       "      <th>13</th>\n",
       "      <th>2000</th>\n",
       "      <td>702</td>\n",
       "      <td>Community Partnership Charter School</td>\n",
       "      <td>PK,0K,01,02,03,04,05,06,07,08</td>\n",
       "    </tr>\n",
       "  </tbody>\n",
       "</table>\n",
       "</div>"
      ],
      "text/plain": [
       "                                number                           School Name  \\\n",
       "borough  district opening_year                                                 \n",
       "Brooklyn 13       2000             702  Community Partnership Charter School   \n",
       "\n",
       "                                                       Grades  \n",
       "borough  district opening_year                                 \n",
       "Brooklyn 13       2000          PK,0K,01,02,03,04,05,06,07,08  "
      ]
     },
     "execution_count": 20,
     "metadata": {},
     "output_type": "execute_result"
    }
   ],
   "source": [
    "# summary: create a multi-level index on columns, [borough, district, opening_year] and sort it.\n",
    "charter_list = charter_list.set_index(['borough', 'district', 'opening_year']).sort_index()\n",
    "charter_list.loc[('Brooklyn', 13, 2000)]"
   ]
  },
  {
   "cell_type": "code",
   "execution_count": 21,
   "metadata": {},
   "outputs": [],
   "source": [
    "# summary: create an empty dictionary to count number of each schools by iterating through the dataframe\n",
    "keys = [(i, j) for i in range(1, 33) for j in range(1999, 2018)]\n",
    "school_counter = {key:0 for key in keys}\n",
    "for index, row in charter_list.iterrows():\n",
    "    b, d, y = index\n",
    "    school_counter[(d, y)] += 1"
   ]
  },
  {
   "cell_type": "code",
   "execution_count": 22,
   "metadata": {},
   "outputs": [
    {
     "data": {
      "text/html": [
       "<div>\n",
       "<style scoped>\n",
       "    .dataframe tbody tr th:only-of-type {\n",
       "        vertical-align: middle;\n",
       "    }\n",
       "\n",
       "    .dataframe tbody tr th {\n",
       "        vertical-align: top;\n",
       "    }\n",
       "\n",
       "    .dataframe thead th {\n",
       "        text-align: right;\n",
       "    }\n",
       "</style>\n",
       "<table border=\"1\" class=\"dataframe\">\n",
       "  <thead>\n",
       "    <tr style=\"text-align: right;\">\n",
       "      <th></th>\n",
       "      <th></th>\n",
       "      <th>num_charters</th>\n",
       "    </tr>\n",
       "    <tr>\n",
       "      <th>district</th>\n",
       "      <th>year</th>\n",
       "      <th></th>\n",
       "    </tr>\n",
       "  </thead>\n",
       "  <tbody>\n",
       "    <tr>\n",
       "      <th rowspan=\"13\" valign=\"top\">1</th>\n",
       "      <th>2005</th>\n",
       "      <td>2</td>\n",
       "    </tr>\n",
       "    <tr>\n",
       "      <th>2006</th>\n",
       "      <td>2</td>\n",
       "    </tr>\n",
       "    <tr>\n",
       "      <th>2007</th>\n",
       "      <td>2</td>\n",
       "    </tr>\n",
       "    <tr>\n",
       "      <th>2008</th>\n",
       "      <td>2</td>\n",
       "    </tr>\n",
       "    <tr>\n",
       "      <th>2009</th>\n",
       "      <td>2</td>\n",
       "    </tr>\n",
       "    <tr>\n",
       "      <th>2010</th>\n",
       "      <td>2</td>\n",
       "    </tr>\n",
       "    <tr>\n",
       "      <th>2011</th>\n",
       "      <td>2</td>\n",
       "    </tr>\n",
       "    <tr>\n",
       "      <th>2012</th>\n",
       "      <td>3</td>\n",
       "    </tr>\n",
       "    <tr>\n",
       "      <th>2013</th>\n",
       "      <td>4</td>\n",
       "    </tr>\n",
       "    <tr>\n",
       "      <th>2014</th>\n",
       "      <td>4</td>\n",
       "    </tr>\n",
       "    <tr>\n",
       "      <th>2015</th>\n",
       "      <td>4</td>\n",
       "    </tr>\n",
       "    <tr>\n",
       "      <th>2016</th>\n",
       "      <td>4</td>\n",
       "    </tr>\n",
       "    <tr>\n",
       "      <th>2017</th>\n",
       "      <td>4</td>\n",
       "    </tr>\n",
       "    <tr>\n",
       "      <th rowspan=\"2\" valign=\"top\">2</th>\n",
       "      <th>2005</th>\n",
       "      <td>1</td>\n",
       "    </tr>\n",
       "    <tr>\n",
       "      <th>2006</th>\n",
       "      <td>1</td>\n",
       "    </tr>\n",
       "  </tbody>\n",
       "</table>\n",
       "</div>"
      ],
      "text/plain": [
       "               num_charters\n",
       "district year              \n",
       "1        2005             2\n",
       "         2006             2\n",
       "         2007             2\n",
       "         2008             2\n",
       "         2009             2\n",
       "         2010             2\n",
       "         2011             2\n",
       "         2012             3\n",
       "         2013             4\n",
       "         2014             4\n",
       "         2015             4\n",
       "         2016             4\n",
       "         2017             4\n",
       "2        2005             1\n",
       "         2006             1"
      ]
     },
     "execution_count": 22,
     "metadata": {},
     "output_type": "execute_result"
    }
   ],
   "source": [
    "# summary: turn the school counter dictionary into a dataframe containing the number of schools in each district\n",
    "# per year. \n",
    "new_school_counter = {'district' : [], 'year' : [], 'num_charters' : []}\n",
    "for key, value in school_counter.items():\n",
    "    district, year = key\n",
    "    new_school_counter['district'].append(district)\n",
    "    new_school_counter['year'].append(year)\n",
    "    new_school_counter['num_charters'].append(value)\n",
    "    \n",
    "num_charters_df = pd.DataFrame(new_school_counter).set_index('district').sort_index()\n",
    "num_charters_df['num_charters'] = num_charters_df['num_charters'].groupby('district').cumsum()\n",
    "num_charters_df = num_charters_df[num_charters_df['year'] >= 2005]\n",
    "num_charters_df = num_charters_df.reset_index().set_index(['district', 'year'])\n",
    "num_charters_df.head(15)"
   ]
  },
  {
   "cell_type": "markdown",
   "metadata": {},
   "source": [
    "By using the `charter_list` dataframe, the new `num_charters_df` dataframe shown above now holds the number of charter schools in each school district for all years from 2005-2018. This by far the most complicated of the data cleaning steps, but concludes the cleaning of the charter school data. "
   ]
  },
  {
   "cell_type": "markdown",
   "metadata": {},
   "source": [
    "## 2.2: Cleaning Public School Data"
   ]
  },
  {
   "cell_type": "markdown",
   "metadata": {},
   "source": [
    "This subsection shows all steps that were required in order to clean the public school data used by this project. The goal in cleaning this data was to acquire the most common quality review rating that was given to each school district every year. All data that was used in this subsection can be found on <a href=\"https://opendata.cityofnewyork.us/\">NYC's Open Data website</a>. <br> \n",
    "\n",
    "NYC Open Data provides access to their datasets via the Socrata Open Data API (SODA). Documentation for how to use this API can be found <a href=\"https://dev.socrata.com/\">here</a>. The API provides query functionality through a language they refer to as \"Socrata Query Language\" (SoSQL), which, as the name might suggest borrows heavily from the conventions used by SQL.\n",
    "\n",
    "The primary dataset that is used below provides <a href=\"https://data.cityofnewyork.us/Education/2005-2017-School-Quality-Review-Ratings/9n9z-hh9p\"> a list of all schools that have received quality reviews from 2005-2017 along with their rankings </a>. It is imported using the API and converted into a dataframe in the cell below:\n"
   ]
  },
  {
   "cell_type": "code",
   "execution_count": 23,
   "metadata": {},
   "outputs": [
    {
     "name": "stdout",
     "output_type": "stream",
     "text": [
      "Shape of the dataset: (8064, 3)\n"
     ]
    },
    {
     "data": {
      "text/html": [
       "<div>\n",
       "<style scoped>\n",
       "    .dataframe tbody tr th:only-of-type {\n",
       "        vertical-align: middle;\n",
       "    }\n",
       "\n",
       "    .dataframe tbody tr th {\n",
       "        vertical-align: top;\n",
       "    }\n",
       "\n",
       "    .dataframe thead th {\n",
       "        text-align: right;\n",
       "    }\n",
       "</style>\n",
       "<table border=\"1\" class=\"dataframe\">\n",
       "  <thead>\n",
       "    <tr style=\"text-align: right;\">\n",
       "      <th></th>\n",
       "      <th>bn</th>\n",
       "      <th>overall_rating</th>\n",
       "      <th>school_year</th>\n",
       "    </tr>\n",
       "  </thead>\n",
       "  <tbody>\n",
       "    <tr>\n",
       "      <th>0</th>\n",
       "      <td>M307</td>\n",
       "      <td>P</td>\n",
       "      <td>2005-06-01T00:00:00.000</td>\n",
       "    </tr>\n",
       "    <tr>\n",
       "      <th>1</th>\n",
       "      <td>M459</td>\n",
       "      <td>P</td>\n",
       "      <td>2005-06-01T00:00:00.000</td>\n",
       "    </tr>\n",
       "    <tr>\n",
       "      <th>2</th>\n",
       "      <td>M560</td>\n",
       "      <td>WD</td>\n",
       "      <td>2005-06-01T00:00:00.000</td>\n",
       "    </tr>\n",
       "    <tr>\n",
       "      <th>3</th>\n",
       "      <td>M294</td>\n",
       "      <td>WD</td>\n",
       "      <td>2005-06-01T00:00:00.000</td>\n",
       "    </tr>\n",
       "    <tr>\n",
       "      <th>4</th>\n",
       "      <td>M299</td>\n",
       "      <td>P</td>\n",
       "      <td>2005-06-01T00:00:00.000</td>\n",
       "    </tr>\n",
       "  </tbody>\n",
       "</table>\n",
       "</div>"
      ],
      "text/plain": [
       "     bn overall_rating              school_year\n",
       "0  M307              P  2005-06-01T00:00:00.000\n",
       "1  M459              P  2005-06-01T00:00:00.000\n",
       "2  M560             WD  2005-06-01T00:00:00.000\n",
       "3  M294             WD  2005-06-01T00:00:00.000\n",
       "4  M299              P  2005-06-01T00:00:00.000"
      ]
     },
     "execution_count": 23,
     "metadata": {},
     "output_type": "execute_result"
    }
   ],
   "source": [
    "# summary: Import public school quality review rankings and convert into a dataframe. \n",
    "row_limit = '10000'\n",
    "cols = 'bn,school_year,overall_rating' \n",
    "SoQL_query = '&$select=' + cols\n",
    "r = rq.get('https://data.cityofnewyork.us/resource/9n9z-hh9p.json?$limit=' + row_limit + SoQL_query)\n",
    "public_school_ratings = pd.DataFrame(r.json())\n",
    "\n",
    "#public_school_ratings['school_year'] = public_school_ratings['school_year'].str.slice(stop = 4).astype(int)\n",
    "\n",
    "print('Shape of the dataset: {}'.format(public_school_ratings.shape))\n",
    "public_school_ratings.head()"
   ]
  },
  {
   "cell_type": "markdown",
   "metadata": {},
   "source": [
    "The cols variable in the cell above gives a list of all the columns that were included in the SoSQL query. While the dataset did include rankings for all indicators included on the quality review rubric (see Section 1.2.3), only the overall ranking was taken. \n",
    "\n",
    "Before performing any data cleaning steps, the cell below uses the `.info()` to get a summary of the newly imported dataset:"
   ]
  },
  {
   "cell_type": "code",
   "execution_count": 24,
   "metadata": {},
   "outputs": [
    {
     "name": "stdout",
     "output_type": "stream",
     "text": [
      "<class 'pandas.core.frame.DataFrame'>\n",
      "RangeIndex: 8064 entries, 0 to 8063\n",
      "Data columns (total 3 columns):\n",
      "bn                8064 non-null object\n",
      "overall_rating    8064 non-null object\n",
      "school_year       4829 non-null object\n",
      "dtypes: object(3)\n",
      "memory usage: 189.1+ KB\n"
     ]
    }
   ],
   "source": [
    "public_school_ratings.info()"
   ]
  },
  {
   "cell_type": "markdown",
   "metadata": {},
   "source": [
    "Unfortunately, the <b>school_year</b> column includes only 4,829 non-null values, out of about 8,064. Upon closer inspection, these missing values were all listed as `NaN`. In addition, many of the entries in the <b>overall_rating</b> column were simply listed as 'No Data':"
   ]
  },
  {
   "cell_type": "code",
   "execution_count": 25,
   "metadata": {},
   "outputs": [
    {
     "data": {
      "text/plain": [
       "P          2995\n",
       "No Data    2236\n",
       "WD         1767\n",
       "D           690\n",
       "U           155\n",
       "UPF         132\n",
       "UD           34\n",
       "DYO          30\n",
       "O            24\n",
       "P             1\n",
       "Name: overall_rating, dtype: int64"
      ]
     },
     "execution_count": 25,
     "metadata": {},
     "output_type": "execute_result"
    }
   ],
   "source": [
    "public_school_ratings['overall_rating'].value_counts()"
   ]
  },
  {
   "cell_type": "markdown",
   "metadata": {},
   "source": [
    "Even if a row did contain a actual rating, it becomes useless unless the year in which it was given is also known. For this reason, all rows containing missing values in the <b>school_year</b> column had to be removed. This is done in the cell below:"
   ]
  },
  {
   "cell_type": "code",
   "execution_count": 26,
   "metadata": {},
   "outputs": [
    {
     "name": "stdout",
     "output_type": "stream",
     "text": [
      "<class 'pandas.core.frame.DataFrame'>\n",
      "Int64Index: 4829 entries, 0 to 4831\n",
      "Data columns (total 3 columns):\n",
      "bn                4829 non-null object\n",
      "overall_rating    4829 non-null object\n",
      "school_year       4829 non-null object\n",
      "dtypes: object(3)\n",
      "memory usage: 150.9+ KB\n"
     ]
    }
   ],
   "source": [
    "public_school_ratings = public_school_ratings.dropna(axis = 0)\n",
    "public_school_ratings.info()"
   ]
  },
  {
   "cell_type": "markdown",
   "metadata": {},
   "source": [
    "As can be seen in the cell below, each column now contains the same number of non null values, which is the same number as the total number of entries. In addition, by removing the NaN values from the <b>school_year</b> column, all 'No Data' entries from the rating column were removed as well:"
   ]
  },
  {
   "cell_type": "code",
   "execution_count": 27,
   "metadata": {},
   "outputs": [
    {
     "data": {
      "text/plain": [
       "P      2431\n",
       "WD     1645\n",
       "D       385\n",
       "U       155\n",
       "UPF     132\n",
       "DYO      30\n",
       "UD       26\n",
       "O        24\n",
       "P         1\n",
       "Name: overall_rating, dtype: int64"
      ]
     },
     "execution_count": 27,
     "metadata": {},
     "output_type": "execute_result"
    }
   ],
   "source": [
    "public_school_ratings['overall_rating'].value_counts()"
   ]
  },
  {
   "cell_type": "markdown",
   "metadata": {},
   "source": [
    "While removing all the missing data is a crucial step in cleaning this dataset, some exploration revealed that the only ratings that remained were from quality reviews that occured from the years 2005-2011. Evidence for this is seen in the cell below:"
   ]
  },
  {
   "cell_type": "code",
   "execution_count": 28,
   "metadata": {},
   "outputs": [
    {
     "name": "stdout",
     "output_type": "stream",
     "text": [
      "Number of ratings from quality reviews taking place after 2011: \n",
      "0\n"
     ]
    }
   ],
   "source": [
    "public_school_ratings['school_year'] = public_school_ratings['school_year'].str.slice(stop = 4).astype(int)\n",
    "print('Number of ratings from quality reviews taking place after 2011: ')\n",
    "print(public_school_ratings[public_school_ratings['school_year'] > 2011].shape[0])"
   ]
  },
  {
   "cell_type": "markdown",
   "metadata": {},
   "source": [
    "Having ratings only from the years 2005-2011 is the first of many considerations that need to be taken into account when reviewing the future analysis. As of the time of this writing, the dataset on NYC Open Data has not been updated to include the more current missing ratings. The dataframe in its current form exists as follows:"
   ]
  },
  {
   "cell_type": "code",
   "execution_count": 29,
   "metadata": {},
   "outputs": [
    {
     "name": "stdout",
     "output_type": "stream",
     "text": [
      "Shape of the dataframe: (4829, 3)\n"
     ]
    },
    {
     "data": {
      "text/html": [
       "<div>\n",
       "<style scoped>\n",
       "    .dataframe tbody tr th:only-of-type {\n",
       "        vertical-align: middle;\n",
       "    }\n",
       "\n",
       "    .dataframe tbody tr th {\n",
       "        vertical-align: top;\n",
       "    }\n",
       "\n",
       "    .dataframe thead th {\n",
       "        text-align: right;\n",
       "    }\n",
       "</style>\n",
       "<table border=\"1\" class=\"dataframe\">\n",
       "  <thead>\n",
       "    <tr style=\"text-align: right;\">\n",
       "      <th></th>\n",
       "      <th>bn</th>\n",
       "      <th>overall_rating</th>\n",
       "      <th>school_year</th>\n",
       "    </tr>\n",
       "  </thead>\n",
       "  <tbody>\n",
       "    <tr>\n",
       "      <th>0</th>\n",
       "      <td>M307</td>\n",
       "      <td>P</td>\n",
       "      <td>2005</td>\n",
       "    </tr>\n",
       "    <tr>\n",
       "      <th>1</th>\n",
       "      <td>M459</td>\n",
       "      <td>P</td>\n",
       "      <td>2005</td>\n",
       "    </tr>\n",
       "    <tr>\n",
       "      <th>2</th>\n",
       "      <td>M560</td>\n",
       "      <td>WD</td>\n",
       "      <td>2005</td>\n",
       "    </tr>\n",
       "    <tr>\n",
       "      <th>3</th>\n",
       "      <td>M294</td>\n",
       "      <td>WD</td>\n",
       "      <td>2005</td>\n",
       "    </tr>\n",
       "    <tr>\n",
       "      <th>4</th>\n",
       "      <td>M299</td>\n",
       "      <td>P</td>\n",
       "      <td>2005</td>\n",
       "    </tr>\n",
       "  </tbody>\n",
       "</table>\n",
       "</div>"
      ],
      "text/plain": [
       "     bn overall_rating  school_year\n",
       "0  M307              P         2005\n",
       "1  M459              P         2005\n",
       "2  M560             WD         2005\n",
       "3  M294             WD         2005\n",
       "4  M299              P         2005"
      ]
     },
     "execution_count": 29,
     "metadata": {},
     "output_type": "execute_result"
    }
   ],
   "source": [
    "print('Shape of the dataframe: {}'.format(public_school_ratings.shape))\n",
    "public_school_ratings.head()"
   ]
  },
  {
   "cell_type": "markdown",
   "metadata": {},
   "source": [
    "As is clearly seen in the dataframe header above, each entry represents a school and includes the rating it received on the quality review as well as the year in which the quality review was given. However, the dataframe in its current form presents another problem: the code that is given to identify the school is the school's BN code (given by the <b>bn</b> column), as opposed to its DBN code (see Section 1.2.2). While the BN code is enough to identify a school, it does not incldue its district. Since this project requires looking at the most common rating for public schools by district, this is a crucial piece of missing information. <br>\n",
    "\n",
    "In other words, in order to determine the district of each school, additional data was required. Fortunately,  <a href=\"https://opendata.cityofnewyork.us/\">NYC Open Data</a> also had access to school directory datasets that included both the school names, along with their DBN codes. Because they included the DBN codes, these datasets gave each school's district. In the cell below, a dataset consisting of <a href=\"https://data.cityofnewyork.us/Education/2018-DOE-High-School-Directory/vw9i-7mzq\">NYC's 2018 high school directory</a> is imported and converted into a dataframe."
   ]
  },
  {
   "cell_type": "code",
   "execution_count": 30,
   "metadata": {},
   "outputs": [
    {
     "data": {
      "text/html": [
       "<div>\n",
       "<style scoped>\n",
       "    .dataframe tbody tr th:only-of-type {\n",
       "        vertical-align: middle;\n",
       "    }\n",
       "\n",
       "    .dataframe tbody tr th {\n",
       "        vertical-align: top;\n",
       "    }\n",
       "\n",
       "    .dataframe thead th {\n",
       "        text-align: right;\n",
       "    }\n",
       "</style>\n",
       "<table border=\"1\" class=\"dataframe\">\n",
       "  <thead>\n",
       "    <tr style=\"text-align: right;\">\n",
       "      <th></th>\n",
       "      <th>Name</th>\n",
       "      <th>dbn</th>\n",
       "    </tr>\n",
       "  </thead>\n",
       "  <tbody>\n",
       "    <tr>\n",
       "      <th>0</th>\n",
       "      <td>Felisa Rincon de Gautier Institute for Law and...</td>\n",
       "      <td>08X519</td>\n",
       "    </tr>\n",
       "    <tr>\n",
       "      <th>1</th>\n",
       "      <td>Urban Assembly High School of Music and Art</td>\n",
       "      <td>13K350</td>\n",
       "    </tr>\n",
       "    <tr>\n",
       "      <th>2</th>\n",
       "      <td>Queens Gateway to Health Sciences Secondary Sc...</td>\n",
       "      <td>28Q680</td>\n",
       "    </tr>\n",
       "    <tr>\n",
       "      <th>3</th>\n",
       "      <td>Women's Academy of Excellence</td>\n",
       "      <td>08X282</td>\n",
       "    </tr>\n",
       "    <tr>\n",
       "      <th>4</th>\n",
       "      <td>World Journalism Preparatory: A College Board ...</td>\n",
       "      <td>25Q285</td>\n",
       "    </tr>\n",
       "  </tbody>\n",
       "</table>\n",
       "</div>"
      ],
      "text/plain": [
       "                                                Name     dbn\n",
       "0  Felisa Rincon de Gautier Institute for Law and...  08X519\n",
       "1        Urban Assembly High School of Music and Art  13K350\n",
       "2  Queens Gateway to Health Sciences Secondary Sc...  28Q680\n",
       "3                      Women's Academy of Excellence  08X282\n",
       "4  World Journalism Preparatory: A College Board ...  25Q285"
      ]
     },
     "execution_count": 30,
     "metadata": {},
     "output_type": "execute_result"
    }
   ],
   "source": [
    "# summary: import the 2018 high school directory and convert it into a dataframe. \n",
    "SoQL_query = '&$select=dbn,school_name AS Name'\n",
    "r = rq.get('https://data.cityofnewyork.us/resource/h7rb-945c.json?' + SoQL_query)\n",
    "hs_directory_2018 = pd.DataFrame(r.json())\n",
    "hs_directory_2018.head()"
   ]
  },
  {
   "cell_type": "markdown",
   "metadata": {},
   "source": [
    "The dataframe shown above provides a simply list of all schools that were active at the start of the 2018 school year, along with their respective DBN codes (given by the <b>dbn</b> column). In the cell below, these DBN codes are broken up into their respective components and given columns of their own, using the `separate_dbn_or_bn` function: "
   ]
  },
  {
   "cell_type": "code",
   "execution_count": 31,
   "metadata": {},
   "outputs": [
    {
     "name": "stdout",
     "output_type": "stream",
     "text": [
      "Shape of the dataset: (435, 4)\n"
     ]
    },
    {
     "data": {
      "text/html": [
       "<div>\n",
       "<style scoped>\n",
       "    .dataframe tbody tr th:only-of-type {\n",
       "        vertical-align: middle;\n",
       "    }\n",
       "\n",
       "    .dataframe tbody tr th {\n",
       "        vertical-align: top;\n",
       "    }\n",
       "\n",
       "    .dataframe thead th {\n",
       "        text-align: right;\n",
       "    }\n",
       "</style>\n",
       "<table border=\"1\" class=\"dataframe\">\n",
       "  <thead>\n",
       "    <tr style=\"text-align: right;\">\n",
       "      <th></th>\n",
       "      <th>Name</th>\n",
       "      <th>district</th>\n",
       "      <th>borough</th>\n",
       "      <th>number</th>\n",
       "    </tr>\n",
       "  </thead>\n",
       "  <tbody>\n",
       "    <tr>\n",
       "      <th>0</th>\n",
       "      <td>Felisa Rincon de Gautier Institute for Law and...</td>\n",
       "      <td>8</td>\n",
       "      <td>The Bronx</td>\n",
       "      <td>519</td>\n",
       "    </tr>\n",
       "    <tr>\n",
       "      <th>1</th>\n",
       "      <td>Urban Assembly High School of Music and Art</td>\n",
       "      <td>13</td>\n",
       "      <td>Brooklyn</td>\n",
       "      <td>350</td>\n",
       "    </tr>\n",
       "    <tr>\n",
       "      <th>2</th>\n",
       "      <td>Queens Gateway to Health Sciences Secondary Sc...</td>\n",
       "      <td>28</td>\n",
       "      <td>Queens</td>\n",
       "      <td>680</td>\n",
       "    </tr>\n",
       "    <tr>\n",
       "      <th>3</th>\n",
       "      <td>Women's Academy of Excellence</td>\n",
       "      <td>8</td>\n",
       "      <td>The Bronx</td>\n",
       "      <td>282</td>\n",
       "    </tr>\n",
       "    <tr>\n",
       "      <th>4</th>\n",
       "      <td>World Journalism Preparatory: A College Board ...</td>\n",
       "      <td>25</td>\n",
       "      <td>Queens</td>\n",
       "      <td>285</td>\n",
       "    </tr>\n",
       "  </tbody>\n",
       "</table>\n",
       "</div>"
      ],
      "text/plain": [
       "                                                Name  district    borough  \\\n",
       "0  Felisa Rincon de Gautier Institute for Law and...         8  The Bronx   \n",
       "1        Urban Assembly High School of Music and Art        13   Brooklyn   \n",
       "2  Queens Gateway to Health Sciences Secondary Sc...        28     Queens   \n",
       "3                      Women's Academy of Excellence         8  The Bronx   \n",
       "4  World Journalism Preparatory: A College Board ...        25     Queens   \n",
       "\n",
       "   number  \n",
       "0     519  \n",
       "1     350  \n",
       "2     680  \n",
       "3     282  \n",
       "4     285  "
      ]
     },
     "execution_count": 31,
     "metadata": {},
     "output_type": "execute_result"
    }
   ],
   "source": [
    "# summary: separate the DBN codes of the hs directory into three separate columns: district, borough, and number. \n",
    "hs_directory_2018[['district', 'borough', 'number']] = hs_directory_2018.apply(\n",
    "    lambda row: pd.Series(separate_dbn_or_bn(row['dbn'])), axis = 1)\n",
    "\n",
    "hs_directory_2018 = hs_directory_2018.drop('dbn', axis = 1)\n",
    "print('Shape of the dataset: {}'.format(hs_directory_2018.shape))\n",
    "hs_directory_2018.head()"
   ]
  },
  {
   "cell_type": "markdown",
   "metadata": {},
   "source": [
    "As can be seen in the dataframe header shown above, the `hs_directory_2018` dataframe now includes three additional columns: <b>district</b>, <b>borough</b>, and <b>number</b>. However, the schools included in the `public_school_ratings` dataframe consist of more than just high schools. However, NYC Open Data also has access to a dataset that consists of all <a href=\"https://data.cityofnewyork.us/Education/2018-DOE-Middle-School-Directory/6kcb-9g8d\">NYC <i>middle</i> schools that were operational at the start of the 2018 school year.</a>  In the cells below, this dataset is imported and converted into a dataset. "
   ]
  },
  {
   "cell_type": "code",
   "execution_count": 32,
   "metadata": {},
   "outputs": [
    {
     "data": {
      "text/html": [
       "<div>\n",
       "<style scoped>\n",
       "    .dataframe tbody tr th:only-of-type {\n",
       "        vertical-align: middle;\n",
       "    }\n",
       "\n",
       "    .dataframe tbody tr th {\n",
       "        vertical-align: top;\n",
       "    }\n",
       "\n",
       "    .dataframe thead th {\n",
       "        text-align: right;\n",
       "    }\n",
       "</style>\n",
       "<table border=\"1\" class=\"dataframe\">\n",
       "  <thead>\n",
       "    <tr style=\"text-align: right;\">\n",
       "      <th></th>\n",
       "      <th>Name</th>\n",
       "      <th>schooldbn</th>\n",
       "    </tr>\n",
       "  </thead>\n",
       "  <tbody>\n",
       "    <tr>\n",
       "      <th>0</th>\n",
       "      <td>Park Terrace (P.S. 18)</td>\n",
       "      <td>06M018</td>\n",
       "    </tr>\n",
       "    <tr>\n",
       "      <th>1</th>\n",
       "      <td>I.S. 52 (Inwood Intermediate School 52)</td>\n",
       "      <td>06M052</td>\n",
       "    </tr>\n",
       "    <tr>\n",
       "      <th>2</th>\n",
       "      <td>Eleanor Roosevelt Intermediate School (I.S. 143)</td>\n",
       "      <td>06M143</td>\n",
       "    </tr>\n",
       "    <tr>\n",
       "      <th>3</th>\n",
       "      <td>Hudson Cliffs School (P.S./I.S. 187)</td>\n",
       "      <td>06M187</td>\n",
       "    </tr>\n",
       "    <tr>\n",
       "      <th>4</th>\n",
       "      <td>Hamilton Grange Middle School</td>\n",
       "      <td>06M209</td>\n",
       "    </tr>\n",
       "  </tbody>\n",
       "</table>\n",
       "</div>"
      ],
      "text/plain": [
       "                                               Name schooldbn\n",
       "0                            Park Terrace (P.S. 18)    06M018\n",
       "1           I.S. 52 (Inwood Intermediate School 52)    06M052\n",
       "2  Eleanor Roosevelt Intermediate School (I.S. 143)    06M143\n",
       "3              Hudson Cliffs School (P.S./I.S. 187)    06M187\n",
       "4                     Hamilton Grange Middle School    06M209"
      ]
     },
     "execution_count": 32,
     "metadata": {},
     "output_type": "execute_result"
    }
   ],
   "source": [
    "# summary: import the 2018 middle school directory and convert it into a dataframe.\n",
    "SoQL_query = '&$select=schooldbn,printedschoolname AS Name'\n",
    "r = rq.get('https://data.cityofnewyork.us/resource/6kcb-9g8d.json?' + SoQL_query)\n",
    "ms_directory_2018 = pd.DataFrame(r.json())\n",
    "ms_directory_2018.head()"
   ]
  },
  {
   "cell_type": "markdown",
   "metadata": {},
   "source": [
    "Once again, the `separate_dbn_or_bn()` function is used below to separate the DBN codes seen above into three separate columns: <b>district</b>, <b>borough</b>, and <b>number</b>.   "
   ]
  },
  {
   "cell_type": "code",
   "execution_count": 33,
   "metadata": {},
   "outputs": [
    {
     "name": "stdout",
     "output_type": "stream",
     "text": [
      "Shape of the dataset: (484, 4)\n"
     ]
    },
    {
     "data": {
      "text/html": [
       "<div>\n",
       "<style scoped>\n",
       "    .dataframe tbody tr th:only-of-type {\n",
       "        vertical-align: middle;\n",
       "    }\n",
       "\n",
       "    .dataframe tbody tr th {\n",
       "        vertical-align: top;\n",
       "    }\n",
       "\n",
       "    .dataframe thead th {\n",
       "        text-align: right;\n",
       "    }\n",
       "</style>\n",
       "<table border=\"1\" class=\"dataframe\">\n",
       "  <thead>\n",
       "    <tr style=\"text-align: right;\">\n",
       "      <th></th>\n",
       "      <th>Name</th>\n",
       "      <th>district</th>\n",
       "      <th>borough</th>\n",
       "      <th>number</th>\n",
       "    </tr>\n",
       "  </thead>\n",
       "  <tbody>\n",
       "    <tr>\n",
       "      <th>0</th>\n",
       "      <td>Park Terrace (P.S. 18)</td>\n",
       "      <td>6</td>\n",
       "      <td>Manhattan</td>\n",
       "      <td>18</td>\n",
       "    </tr>\n",
       "    <tr>\n",
       "      <th>1</th>\n",
       "      <td>I.S. 52 (Inwood Intermediate School 52)</td>\n",
       "      <td>6</td>\n",
       "      <td>Manhattan</td>\n",
       "      <td>52</td>\n",
       "    </tr>\n",
       "    <tr>\n",
       "      <th>2</th>\n",
       "      <td>Eleanor Roosevelt Intermediate School (I.S. 143)</td>\n",
       "      <td>6</td>\n",
       "      <td>Manhattan</td>\n",
       "      <td>143</td>\n",
       "    </tr>\n",
       "    <tr>\n",
       "      <th>3</th>\n",
       "      <td>Hudson Cliffs School (P.S./I.S. 187)</td>\n",
       "      <td>6</td>\n",
       "      <td>Manhattan</td>\n",
       "      <td>187</td>\n",
       "    </tr>\n",
       "    <tr>\n",
       "      <th>4</th>\n",
       "      <td>Hamilton Grange Middle School</td>\n",
       "      <td>6</td>\n",
       "      <td>Manhattan</td>\n",
       "      <td>209</td>\n",
       "    </tr>\n",
       "  </tbody>\n",
       "</table>\n",
       "</div>"
      ],
      "text/plain": [
       "                                               Name  district    borough  \\\n",
       "0                            Park Terrace (P.S. 18)         6  Manhattan   \n",
       "1           I.S. 52 (Inwood Intermediate School 52)         6  Manhattan   \n",
       "2  Eleanor Roosevelt Intermediate School (I.S. 143)         6  Manhattan   \n",
       "3              Hudson Cliffs School (P.S./I.S. 187)         6  Manhattan   \n",
       "4                     Hamilton Grange Middle School         6  Manhattan   \n",
       "\n",
       "   number  \n",
       "0      18  \n",
       "1      52  \n",
       "2     143  \n",
       "3     187  \n",
       "4     209  "
      ]
     },
     "execution_count": 33,
     "metadata": {},
     "output_type": "execute_result"
    }
   ],
   "source": [
    "# summary: separate the DBN codes of the ms directory into three separate columns: district, borough, and number. \n",
    "ms_directory_2018[['district', 'borough', 'number']] = ms_directory_2018.apply(\n",
    "    lambda row: pd.Series(separate_dbn_or_bn(row['schooldbn'])), axis = 1)\n",
    "\n",
    "ms_directory_2018 = ms_directory_2018.drop('schooldbn', axis = 1)\n",
    "print('Shape of the dataset: {}'.format(ms_directory_2018.shape))\n",
    "ms_directory_2018.head()"
   ]
  },
  {
   "cell_type": "markdown",
   "metadata": {},
   "source": [
    "To summarize, two separate dataframes (`ms_directory_2018` and `hs_directory_2018`) now contain the names, district, boroughs, and numbers for all NYC middle schools and high schools that were operational at the start of the 2018 school year. These two datasets are appended together, reorganized, and then reindexed in the following cell."
   ]
  },
  {
   "cell_type": "code",
   "execution_count": 34,
   "metadata": {},
   "outputs": [
    {
     "name": "stdout",
     "output_type": "stream",
     "text": [
      "Shape of the dataset: (919, 2)\n"
     ]
    },
    {
     "data": {
      "text/html": [
       "<div>\n",
       "<style scoped>\n",
       "    .dataframe tbody tr th:only-of-type {\n",
       "        vertical-align: middle;\n",
       "    }\n",
       "\n",
       "    .dataframe tbody tr th {\n",
       "        vertical-align: top;\n",
       "    }\n",
       "\n",
       "    .dataframe thead th {\n",
       "        text-align: right;\n",
       "    }\n",
       "</style>\n",
       "<table border=\"1\" class=\"dataframe\">\n",
       "  <thead>\n",
       "    <tr style=\"text-align: right;\">\n",
       "      <th></th>\n",
       "      <th></th>\n",
       "      <th>school_name</th>\n",
       "      <th>district</th>\n",
       "    </tr>\n",
       "    <tr>\n",
       "      <th>borough</th>\n",
       "      <th>number</th>\n",
       "      <th></th>\n",
       "      <th></th>\n",
       "    </tr>\n",
       "  </thead>\n",
       "  <tbody>\n",
       "    <tr>\n",
       "      <th rowspan=\"5\" valign=\"top\">Brooklyn</th>\n",
       "      <th>2</th>\n",
       "      <td>Parkside Preparatory Academy</td>\n",
       "      <td>17</td>\n",
       "    </tr>\n",
       "    <tr>\n",
       "      <th>8</th>\n",
       "      <td>Robert Fulton (P.S./M.S. 8)</td>\n",
       "      <td>13</td>\n",
       "    </tr>\n",
       "    <tr>\n",
       "      <th>14</th>\n",
       "      <td>Shell Bank (J.H.S. 14)</td>\n",
       "      <td>22</td>\n",
       "    </tr>\n",
       "    <tr>\n",
       "      <th>30</th>\n",
       "      <td>Mary White Ovington (P.S./I.S. 30)</td>\n",
       "      <td>20</td>\n",
       "    </tr>\n",
       "    <tr>\n",
       "      <th>35</th>\n",
       "      <td>Stephen Decatur Middle School 35</td>\n",
       "      <td>16</td>\n",
       "    </tr>\n",
       "  </tbody>\n",
       "</table>\n",
       "</div>"
      ],
      "text/plain": [
       "                                        school_name  district\n",
       "borough  number                                              \n",
       "Brooklyn 2             Parkside Preparatory Academy        17\n",
       "         8              Robert Fulton (P.S./M.S. 8)        13\n",
       "         14                  Shell Bank (J.H.S. 14)        22\n",
       "         30      Mary White Ovington (P.S./I.S. 30)        20\n",
       "         35        Stephen Decatur Middle School 35        16"
      ]
     },
     "execution_count": 34,
     "metadata": {},
     "output_type": "execute_result"
    }
   ],
   "source": [
    "# summary: append together the middle and high school directories, reorganize, and reindex them. \n",
    "school_directory_2018 = hs_directory_2018.append(ms_directory_2018)\n",
    "school_directory_2018.columns = ['school_name', 'district', 'borough', 'number']\n",
    "school_directory_2018 = school_directory_2018.set_index(['borough', 'number']).sort_index()\n",
    "print('Shape of the dataset: {}'.format(school_directory_2018.shape))\n",
    "school_directory_2018.head()"
   ]
  },
  {
   "cell_type": "markdown",
   "metadata": {},
   "source": [
    "The `school_directory_2018` dataframe now contains a list of all middle and high schools that were open as of the 2018 school year, which consists of 919 schools (484 middle schools, and 435 high schools). The goal in creating this dataframe was to provide a way to fill in the missing districts from the schools listed in the `public_school_ratings` dataframe. However, before doing so, the BN codes provided in the public school directory are broken up into their separate components using the `separate_dbn_or_bn()` function once again. This is done in the cell below:"
   ]
  },
  {
   "cell_type": "code",
   "execution_count": 35,
   "metadata": {},
   "outputs": [
    {
     "name": "stdout",
     "output_type": "stream",
     "text": [
      "Shape of the dataset: (4828, 5)\n"
     ]
    },
    {
     "data": {
      "text/html": [
       "<div>\n",
       "<style scoped>\n",
       "    .dataframe tbody tr th:only-of-type {\n",
       "        vertical-align: middle;\n",
       "    }\n",
       "\n",
       "    .dataframe tbody tr th {\n",
       "        vertical-align: top;\n",
       "    }\n",
       "\n",
       "    .dataframe thead th {\n",
       "        text-align: right;\n",
       "    }\n",
       "</style>\n",
       "<table border=\"1\" class=\"dataframe\">\n",
       "  <thead>\n",
       "    <tr style=\"text-align: right;\">\n",
       "      <th></th>\n",
       "      <th>bn</th>\n",
       "      <th>overall_rating</th>\n",
       "      <th>school_year</th>\n",
       "      <th>borough</th>\n",
       "      <th>number</th>\n",
       "    </tr>\n",
       "  </thead>\n",
       "  <tbody>\n",
       "    <tr>\n",
       "      <th>0</th>\n",
       "      <td>M307</td>\n",
       "      <td>P</td>\n",
       "      <td>2005</td>\n",
       "      <td>Manhattan</td>\n",
       "      <td>307</td>\n",
       "    </tr>\n",
       "    <tr>\n",
       "      <th>1</th>\n",
       "      <td>M459</td>\n",
       "      <td>P</td>\n",
       "      <td>2005</td>\n",
       "      <td>Manhattan</td>\n",
       "      <td>459</td>\n",
       "    </tr>\n",
       "    <tr>\n",
       "      <th>2</th>\n",
       "      <td>M560</td>\n",
       "      <td>WD</td>\n",
       "      <td>2005</td>\n",
       "      <td>Manhattan</td>\n",
       "      <td>560</td>\n",
       "    </tr>\n",
       "    <tr>\n",
       "      <th>3</th>\n",
       "      <td>M294</td>\n",
       "      <td>WD</td>\n",
       "      <td>2005</td>\n",
       "      <td>Manhattan</td>\n",
       "      <td>294</td>\n",
       "    </tr>\n",
       "    <tr>\n",
       "      <th>4</th>\n",
       "      <td>M299</td>\n",
       "      <td>P</td>\n",
       "      <td>2005</td>\n",
       "      <td>Manhattan</td>\n",
       "      <td>299</td>\n",
       "    </tr>\n",
       "  </tbody>\n",
       "</table>\n",
       "</div>"
      ],
      "text/plain": [
       "     bn overall_rating  school_year    borough  number\n",
       "0  M307              P         2005  Manhattan     307\n",
       "1  M459              P         2005  Manhattan     459\n",
       "2  M560             WD         2005  Manhattan     560\n",
       "3  M294             WD         2005  Manhattan     294\n",
       "4  M299              P         2005  Manhattan     299"
      ]
     },
     "execution_count": 35,
     "metadata": {},
     "output_type": "execute_result"
    }
   ],
   "source": [
    "public_school_ratings = public_school_ratings.drop(75).reset_index(drop = True) # Remove row with missing entry.\n",
    "public_school_ratings['bn'] = public_school_ratings['bn'].str.upper()\n",
    "\n",
    "public_school_ratings[['borough', 'number']] = public_school_ratings.apply(  \n",
    "    lambda row: pd.Series(separate_dbn_or_bn(row['bn'])), axis = 1)\n",
    "\n",
    "public_school_ratings.drop('bn', axis = 1)\n",
    "print('Shape of the dataset: {}'.format(public_school_ratings.shape))\n",
    "public_school_ratings.head()"
   ]
  },
  {
   "cell_type": "markdown",
   "metadata": {},
   "source": [
    "Now that `public_school_ratings` directory has had its BN codes separated into a <b>borough</b> and <b>number</b> column, the `school_directroy_2018` dataframe can be used to fill in the missing districts for each school. This is done below, using the `fill_name_and_district()` function in conjunction with an the `.apply()` method:"
   ]
  },
  {
   "cell_type": "code",
   "execution_count": 36,
   "metadata": {},
   "outputs": [
    {
     "name": "stdout",
     "output_type": "stream",
     "text": [
      "Shape of the dataset: (2246, 7)\n"
     ]
    },
    {
     "data": {
      "text/html": [
       "<div>\n",
       "<style scoped>\n",
       "    .dataframe tbody tr th:only-of-type {\n",
       "        vertical-align: middle;\n",
       "    }\n",
       "\n",
       "    .dataframe tbody tr th {\n",
       "        vertical-align: top;\n",
       "    }\n",
       "\n",
       "    .dataframe thead th {\n",
       "        text-align: right;\n",
       "    }\n",
       "</style>\n",
       "<table border=\"1\" class=\"dataframe\">\n",
       "  <thead>\n",
       "    <tr style=\"text-align: right;\">\n",
       "      <th></th>\n",
       "      <th>bn</th>\n",
       "      <th>overall_rating</th>\n",
       "      <th>school_year</th>\n",
       "      <th>borough</th>\n",
       "      <th>number</th>\n",
       "      <th>district</th>\n",
       "      <th>school_name</th>\n",
       "    </tr>\n",
       "  </thead>\n",
       "  <tbody>\n",
       "    <tr>\n",
       "      <th>0</th>\n",
       "      <td>M307</td>\n",
       "      <td>P</td>\n",
       "      <td>2005</td>\n",
       "      <td>Manhattan</td>\n",
       "      <td>307</td>\n",
       "      <td>3.0</td>\n",
       "      <td>Urban Assembly School for Media Studies, The</td>\n",
       "    </tr>\n",
       "    <tr>\n",
       "      <th>1</th>\n",
       "      <td>M459</td>\n",
       "      <td>P</td>\n",
       "      <td>2005</td>\n",
       "      <td>Manhattan</td>\n",
       "      <td>459</td>\n",
       "      <td>2.0</td>\n",
       "      <td>Manhattan International High School</td>\n",
       "    </tr>\n",
       "    <tr>\n",
       "      <th>2</th>\n",
       "      <td>M294</td>\n",
       "      <td>WD</td>\n",
       "      <td>2005</td>\n",
       "      <td>Manhattan</td>\n",
       "      <td>294</td>\n",
       "      <td>2.0</td>\n",
       "      <td>Essex Street Academy</td>\n",
       "    </tr>\n",
       "    <tr>\n",
       "      <th>3</th>\n",
       "      <td>M299</td>\n",
       "      <td>P</td>\n",
       "      <td>2005</td>\n",
       "      <td>Manhattan</td>\n",
       "      <td>299</td>\n",
       "      <td>3.0</td>\n",
       "      <td>The Maxine Greene High School for Imaginative ...</td>\n",
       "    </tr>\n",
       "    <tr>\n",
       "      <th>4</th>\n",
       "      <td>M407</td>\n",
       "      <td>WD</td>\n",
       "      <td>2005</td>\n",
       "      <td>Manhattan</td>\n",
       "      <td>407</td>\n",
       "      <td>2.0</td>\n",
       "      <td>Institute for Collaborative Education (ICE)</td>\n",
       "    </tr>\n",
       "  </tbody>\n",
       "</table>\n",
       "</div>"
      ],
      "text/plain": [
       "     bn overall_rating  school_year    borough  number  district  \\\n",
       "0  M307              P         2005  Manhattan     307       3.0   \n",
       "1  M459              P         2005  Manhattan     459       2.0   \n",
       "2  M294             WD         2005  Manhattan     294       2.0   \n",
       "3  M299              P         2005  Manhattan     299       3.0   \n",
       "4  M407             WD         2005  Manhattan     407       2.0   \n",
       "\n",
       "                                         school_name  \n",
       "0       Urban Assembly School for Media Studies, The  \n",
       "1                Manhattan International High School  \n",
       "2                               Essex Street Academy  \n",
       "3  The Maxine Greene High School for Imaginative ...  \n",
       "4        Institute for Collaborative Education (ICE)  "
      ]
     },
     "execution_count": 36,
     "metadata": {},
     "output_type": "execute_result"
    }
   ],
   "source": [
    "public_school_ratings[['district', 'school_name']] = public_school_ratings.apply(\n",
    "    lambda row: pd.Series(fill_name_and_district(row['borough'], row['number'], school_directory_2018)), axis = 1)\n",
    "\n",
    "# remove all schools that were not in the school directory:\n",
    "public_school_ratings = public_school_ratings.dropna(subset=['district']).reset_index(drop = True)\n",
    "print('Shape of the dataset: {}'.format(public_school_ratings.shape))\n",
    "public_school_ratings.head()"
   ]
  },
  {
   "cell_type": "markdown",
   "metadata": {},
   "source": [
    "As is clear in the dataframe header above, the `public_school_ratings` directory now includes the district and name for every school. Unfortunately, about half of the entires that were included in the dataset could not be matched to a name or district (the number of rows in the dataset decreased from 4,828 to 2,246). This is likely because the `school_directory_2018` dataframe does not include information for the city's elementary schools, which make up about half of all of NYC's public schools. An extensive search was done to try and find a comprehensive list of these schools (similar to the ones NYC Open Data had for middle and high schools), but none could be found. This is another consideration that needs to be taken into account regarding future analysis. <br>\n",
    "\n",
    "A sample of this dataset is shown in the cell below, and shows only the quality reviews that were given to district 1 schools. "
   ]
  },
  {
   "cell_type": "code",
   "execution_count": 37,
   "metadata": {},
   "outputs": [
    {
     "data": {
      "text/html": [
       "<div>\n",
       "<style scoped>\n",
       "    .dataframe tbody tr th:only-of-type {\n",
       "        vertical-align: middle;\n",
       "    }\n",
       "\n",
       "    .dataframe tbody tr th {\n",
       "        vertical-align: top;\n",
       "    }\n",
       "\n",
       "    .dataframe thead th {\n",
       "        text-align: right;\n",
       "    }\n",
       "</style>\n",
       "<table border=\"1\" class=\"dataframe\">\n",
       "  <thead>\n",
       "    <tr style=\"text-align: right;\">\n",
       "      <th></th>\n",
       "      <th>bn</th>\n",
       "      <th>overall_rating</th>\n",
       "      <th>school_year</th>\n",
       "      <th>borough</th>\n",
       "      <th>number</th>\n",
       "      <th>district</th>\n",
       "      <th>school_name</th>\n",
       "    </tr>\n",
       "  </thead>\n",
       "  <tbody>\n",
       "    <tr>\n",
       "      <th>8</th>\n",
       "      <td>M696</td>\n",
       "      <td>WD</td>\n",
       "      <td>2005</td>\n",
       "      <td>Manhattan</td>\n",
       "      <td>696</td>\n",
       "      <td>1.0</td>\n",
       "      <td>Bard High School Early College</td>\n",
       "    </tr>\n",
       "    <tr>\n",
       "      <th>250</th>\n",
       "      <td>M034</td>\n",
       "      <td>P</td>\n",
       "      <td>2006</td>\n",
       "      <td>Manhattan</td>\n",
       "      <td>34</td>\n",
       "      <td>1.0</td>\n",
       "      <td>Franklin Delano Roosevelt (P.S. 34)</td>\n",
       "    </tr>\n",
       "    <tr>\n",
       "      <th>253</th>\n",
       "      <td>M839</td>\n",
       "      <td>WD</td>\n",
       "      <td>2006</td>\n",
       "      <td>Manhattan</td>\n",
       "      <td>839</td>\n",
       "      <td>1.0</td>\n",
       "      <td>Tompkins Square Middle School</td>\n",
       "    </tr>\n",
       "    <tr>\n",
       "      <th>259</th>\n",
       "      <td>M140</td>\n",
       "      <td>P</td>\n",
       "      <td>2006</td>\n",
       "      <td>Manhattan</td>\n",
       "      <td>140</td>\n",
       "      <td>1.0</td>\n",
       "      <td>The Nathan Straus Preparatory School (P.S. 140)</td>\n",
       "    </tr>\n",
       "    <tr>\n",
       "      <th>262</th>\n",
       "      <td>M184</td>\n",
       "      <td>P</td>\n",
       "      <td>2006</td>\n",
       "      <td>Manhattan</td>\n",
       "      <td>184</td>\n",
       "      <td>1.0</td>\n",
       "      <td>Shuang Wen School (P.S. 184)</td>\n",
       "    </tr>\n",
       "  </tbody>\n",
       "</table>\n",
       "</div>"
      ],
      "text/plain": [
       "       bn overall_rating  school_year    borough  number  district  \\\n",
       "8    M696             WD         2005  Manhattan     696       1.0   \n",
       "250  M034              P         2006  Manhattan      34       1.0   \n",
       "253  M839             WD         2006  Manhattan     839       1.0   \n",
       "259  M140              P         2006  Manhattan     140       1.0   \n",
       "262  M184              P         2006  Manhattan     184       1.0   \n",
       "\n",
       "                                         school_name  \n",
       "8                     Bard High School Early College  \n",
       "250              Franklin Delano Roosevelt (P.S. 34)  \n",
       "253                    Tompkins Square Middle School  \n",
       "259  The Nathan Straus Preparatory School (P.S. 140)  \n",
       "262                     Shuang Wen School (P.S. 184)  "
      ]
     },
     "execution_count": 37,
     "metadata": {},
     "output_type": "execute_result"
    }
   ],
   "source": [
    "d1 = public_school_ratings[public_school_ratings['district'] == 1.0]\n",
    "d1.head()"
   ]
  },
  {
   "cell_type": "markdown",
   "metadata": {},
   "source": [
    "While the <b>overall_rating</b> column has been cleared of all of its 'No Data' entries, it still contains a number of ratings that were not included on the NYCDOE <a href=\"https://infohub.nyced.org/docs/default-source/default-document-library/quality-review-rubric_18-19.pdf\">2018-19 quality review rubric </a> (see section 1.2.3). The ratings, `UPF`, `DYO`, `U`, and `O` are all not listed as possible ratings:"
   ]
  },
  {
   "cell_type": "code",
   "execution_count": 38,
   "metadata": {},
   "outputs": [
    {
     "data": {
      "text/plain": [
       "P      1166\n",
       "WD      739\n",
       "D       176\n",
       "U        63\n",
       "UPF      60\n",
       "DYO      23\n",
       "UD       11\n",
       "O         8\n",
       "Name: overall_rating, dtype: int64"
      ]
     },
     "execution_count": 38,
     "metadata": {},
     "output_type": "execute_result"
    }
   ],
   "source": [
    "public_school_ratings['overall_rating'].value_counts()"
   ]
  },
  {
   "cell_type": "markdown",
   "metadata": {},
   "source": [
    "After some research, it was discovered that the `U` (unsatisfactory) and `UPF` (underperforming) ratings are outdated versions of what has now been replaced by the `UD` (underdeveloped) rating. No such information could be found regarding the `DYO` and `O` ratings. For this reason, the following cell performs two data cleaning steps:\n",
    "<ul>\n",
    "    <li>Removes all rows with DYO or O ratings</li>\n",
    "    <li>Replaces all UPF or U ratings with a UD rating.</li>\n",
    "</ul>\n",
    "\n",
    "The second of these steps is performed by use of the `fix_ratings` function in conjunction with the `.map()` method."
   ]
  },
  {
   "cell_type": "code",
   "execution_count": 39,
   "metadata": {},
   "outputs": [
    {
     "data": {
      "text/plain": [
       "P     1166\n",
       "WD     739\n",
       "D      176\n",
       "UD     134\n",
       "Name: overall_rating, dtype: int64"
      ]
     },
     "execution_count": 39,
     "metadata": {},
     "output_type": "execute_result"
    }
   ],
   "source": [
    "public_school_ratings = public_school_ratings[public_school_ratings['overall_rating'] != 'DYO'].reset_index(drop=True)\n",
    "public_school_ratings = public_school_ratings[public_school_ratings['overall_rating'] != 'O'].reset_index(drop=True)\n",
    "public_school_ratings['overall_rating'] = public_school_ratings['overall_rating'].map(fix_ratings)\n",
    "public_school_ratings['overall_rating'].value_counts()"
   ]
  },
  {
   "cell_type": "markdown",
   "metadata": {},
   "source": [
    "As is made clear in the `.value_counts()` printout above, the only ratings that are now included in the dataframe are those that actually appear on the NYCDOE quality review rubric. </br>\n",
    "\n",
    "The final step in cleaning this dataset is to now determine the most common rating given to the public schools in a district from the years 2005-2011. This is done in the cell below:"
   ]
  },
  {
   "cell_type": "code",
   "execution_count": 40,
   "metadata": {},
   "outputs": [
    {
     "data": {
      "text/html": [
       "<div>\n",
       "<style scoped>\n",
       "    .dataframe tbody tr th:only-of-type {\n",
       "        vertical-align: middle;\n",
       "    }\n",
       "\n",
       "    .dataframe tbody tr th {\n",
       "        vertical-align: top;\n",
       "    }\n",
       "\n",
       "    .dataframe thead th {\n",
       "        text-align: right;\n",
       "    }\n",
       "</style>\n",
       "<table border=\"1\" class=\"dataframe\">\n",
       "  <thead>\n",
       "    <tr style=\"text-align: right;\">\n",
       "      <th></th>\n",
       "      <th></th>\n",
       "      <th>most_common_rating</th>\n",
       "      <th>num_ratings</th>\n",
       "    </tr>\n",
       "    <tr>\n",
       "      <th>district</th>\n",
       "      <th>year</th>\n",
       "      <th></th>\n",
       "      <th></th>\n",
       "    </tr>\n",
       "  </thead>\n",
       "  <tbody>\n",
       "    <tr>\n",
       "      <th rowspan=\"5\" valign=\"top\">1.0</th>\n",
       "      <th>2005</th>\n",
       "      <td>WD</td>\n",
       "      <td>1</td>\n",
       "    </tr>\n",
       "    <tr>\n",
       "      <th>2006</th>\n",
       "      <td>P</td>\n",
       "      <td>12</td>\n",
       "    </tr>\n",
       "    <tr>\n",
       "      <th>2007</th>\n",
       "      <td>P</td>\n",
       "      <td>13</td>\n",
       "    </tr>\n",
       "    <tr>\n",
       "      <th>2008</th>\n",
       "      <td>P</td>\n",
       "      <td>3</td>\n",
       "    </tr>\n",
       "    <tr>\n",
       "      <th>2009</th>\n",
       "      <td>WD</td>\n",
       "      <td>8</td>\n",
       "    </tr>\n",
       "  </tbody>\n",
       "</table>\n",
       "</div>"
      ],
      "text/plain": [
       "              most_common_rating  num_ratings\n",
       "district year                                \n",
       "1.0      2005                 WD            1\n",
       "         2006                  P           12\n",
       "         2007                  P           13\n",
       "         2008                  P            3\n",
       "         2009                 WD            8"
      ]
     },
     "execution_count": 40,
     "metadata": {},
     "output_type": "execute_result"
    }
   ],
   "source": [
    "most_common_ratings = public_school_ratings.groupby(['district', 'school_year'])['overall_rating'].apply(\n",
    "    lambda x: x.value_counts().index[0]).reset_index()\n",
    "num_ratings = public_school_ratings.groupby(['district', 'school_year'])['bn'].count().values\n",
    "\n",
    "\n",
    "most_common_ratings.columns = ['district', 'year', 'most_common_rating']\n",
    "most_common_ratings['num_ratings'] = num_ratings\n",
    "most_common_ratings = most_common_ratings.set_index(['district', 'year'])\n",
    "\n",
    "most_common_ratings.head()"
   ]
  },
  {
   "cell_type": "markdown",
   "metadata": {},
   "source": [
    "With the creation of the `most_common_ratings` dataset, the cleaning of the public school data is complete. This dataframe now contains an organized list of the most common quality review rating in each district from the yers 2005-2011. In addition, the number of ratings that were given that year is district is provided by the <b>num_ratings</b> column."
   ]
  },
  {
   "cell_type": "markdown",
   "metadata": {},
   "source": [
    "## 2.3: Combining the Datasets"
   ]
  },
  {
   "cell_type": "markdown",
   "metadata": {},
   "source": [
    "The last step in the data cleaning process is to combine the public school and charter school data into one dataset. More specifically, the goal is to combine the `most_common_ratings` dataframe with the `num_charters` dataframe, which will a new dataframe that contains the most common rating public school rating, as well as the number of charter schools in each district from the years 2005-2011. As a reminder of the contents of the `most_common_ratings` and `num_charters_df` dataframe, the header of each is printed out below."
   ]
  },
  {
   "cell_type": "code",
   "execution_count": 41,
   "metadata": {},
   "outputs": [
    {
     "name": "stdout",
     "output_type": "stream",
     "text": [
      "Shape of the dataframe: (416, 3)\n"
     ]
    },
    {
     "data": {
      "text/html": [
       "<div>\n",
       "<style scoped>\n",
       "    .dataframe tbody tr th:only-of-type {\n",
       "        vertical-align: middle;\n",
       "    }\n",
       "\n",
       "    .dataframe tbody tr th {\n",
       "        vertical-align: top;\n",
       "    }\n",
       "\n",
       "    .dataframe thead th {\n",
       "        text-align: right;\n",
       "    }\n",
       "</style>\n",
       "<table border=\"1\" class=\"dataframe\">\n",
       "  <thead>\n",
       "    <tr style=\"text-align: right;\">\n",
       "      <th></th>\n",
       "      <th>district</th>\n",
       "      <th>year</th>\n",
       "      <th>num_charters</th>\n",
       "    </tr>\n",
       "  </thead>\n",
       "  <tbody>\n",
       "    <tr>\n",
       "      <th>0</th>\n",
       "      <td>1</td>\n",
       "      <td>2005</td>\n",
       "      <td>2</td>\n",
       "    </tr>\n",
       "    <tr>\n",
       "      <th>1</th>\n",
       "      <td>1</td>\n",
       "      <td>2006</td>\n",
       "      <td>2</td>\n",
       "    </tr>\n",
       "    <tr>\n",
       "      <th>2</th>\n",
       "      <td>1</td>\n",
       "      <td>2007</td>\n",
       "      <td>2</td>\n",
       "    </tr>\n",
       "    <tr>\n",
       "      <th>3</th>\n",
       "      <td>1</td>\n",
       "      <td>2008</td>\n",
       "      <td>2</td>\n",
       "    </tr>\n",
       "    <tr>\n",
       "      <th>4</th>\n",
       "      <td>1</td>\n",
       "      <td>2009</td>\n",
       "      <td>2</td>\n",
       "    </tr>\n",
       "  </tbody>\n",
       "</table>\n",
       "</div>"
      ],
      "text/plain": [
       "   district  year  num_charters\n",
       "0         1  2005             2\n",
       "1         1  2006             2\n",
       "2         1  2007             2\n",
       "3         1  2008             2\n",
       "4         1  2009             2"
      ]
     },
     "execution_count": 41,
     "metadata": {},
     "output_type": "execute_result"
    }
   ],
   "source": [
    "df1 = num_charters_df.reset_index()\n",
    "print('Shape of the dataframe: {}'.format(df1.shape))\n",
    "df1.head()"
   ]
  },
  {
   "cell_type": "code",
   "execution_count": 42,
   "metadata": {},
   "outputs": [
    {
     "name": "stdout",
     "output_type": "stream",
     "text": [
      "Shape of the dataframe: (218, 4)\n"
     ]
    },
    {
     "data": {
      "text/html": [
       "<div>\n",
       "<style scoped>\n",
       "    .dataframe tbody tr th:only-of-type {\n",
       "        vertical-align: middle;\n",
       "    }\n",
       "\n",
       "    .dataframe tbody tr th {\n",
       "        vertical-align: top;\n",
       "    }\n",
       "\n",
       "    .dataframe thead th {\n",
       "        text-align: right;\n",
       "    }\n",
       "</style>\n",
       "<table border=\"1\" class=\"dataframe\">\n",
       "  <thead>\n",
       "    <tr style=\"text-align: right;\">\n",
       "      <th></th>\n",
       "      <th>district</th>\n",
       "      <th>year</th>\n",
       "      <th>most_common_rating</th>\n",
       "      <th>num_ratings</th>\n",
       "    </tr>\n",
       "  </thead>\n",
       "  <tbody>\n",
       "    <tr>\n",
       "      <th>0</th>\n",
       "      <td>1.0</td>\n",
       "      <td>2005</td>\n",
       "      <td>WD</td>\n",
       "      <td>1</td>\n",
       "    </tr>\n",
       "    <tr>\n",
       "      <th>1</th>\n",
       "      <td>1.0</td>\n",
       "      <td>2006</td>\n",
       "      <td>P</td>\n",
       "      <td>12</td>\n",
       "    </tr>\n",
       "    <tr>\n",
       "      <th>2</th>\n",
       "      <td>1.0</td>\n",
       "      <td>2007</td>\n",
       "      <td>P</td>\n",
       "      <td>13</td>\n",
       "    </tr>\n",
       "    <tr>\n",
       "      <th>3</th>\n",
       "      <td>1.0</td>\n",
       "      <td>2008</td>\n",
       "      <td>P</td>\n",
       "      <td>3</td>\n",
       "    </tr>\n",
       "    <tr>\n",
       "      <th>4</th>\n",
       "      <td>1.0</td>\n",
       "      <td>2009</td>\n",
       "      <td>WD</td>\n",
       "      <td>8</td>\n",
       "    </tr>\n",
       "    <tr>\n",
       "      <th>5</th>\n",
       "      <td>1.0</td>\n",
       "      <td>2010</td>\n",
       "      <td>D</td>\n",
       "      <td>7</td>\n",
       "    </tr>\n",
       "    <tr>\n",
       "      <th>6</th>\n",
       "      <td>1.0</td>\n",
       "      <td>2011</td>\n",
       "      <td>D</td>\n",
       "      <td>3</td>\n",
       "    </tr>\n",
       "    <tr>\n",
       "      <th>7</th>\n",
       "      <td>2.0</td>\n",
       "      <td>2005</td>\n",
       "      <td>WD</td>\n",
       "      <td>10</td>\n",
       "    </tr>\n",
       "  </tbody>\n",
       "</table>\n",
       "</div>"
      ],
      "text/plain": [
       "   district  year most_common_rating  num_ratings\n",
       "0       1.0  2005                 WD            1\n",
       "1       1.0  2006                  P           12\n",
       "2       1.0  2007                  P           13\n",
       "3       1.0  2008                  P            3\n",
       "4       1.0  2009                 WD            8\n",
       "5       1.0  2010                  D            7\n",
       "6       1.0  2011                  D            3\n",
       "7       2.0  2005                 WD           10"
      ]
     },
     "execution_count": 42,
     "metadata": {},
     "output_type": "execute_result"
    }
   ],
   "source": [
    "df2 = most_common_ratings.reset_index()\n",
    "print('Shape of the dataframe: {}'.format(df2.shape))\n",
    "df2.head(8)"
   ]
  },
  {
   "cell_type": "markdown",
   "metadata": {},
   "source": [
    "Note that in the cells above, the `most_common_rating` and `num_charters_df` dataframe are flattened and defined as `df1` and `df2`. The purpose of this is to prepare for the datasets to be merged. The merging of these two datasets in performed in the cell below:"
   ]
  },
  {
   "cell_type": "code",
   "execution_count": 43,
   "metadata": {},
   "outputs": [
    {
     "name": "stdout",
     "output_type": "stream",
     "text": [
      "Shape of the dataframe: (218, 5)\n"
     ]
    },
    {
     "data": {
      "text/html": [
       "<div>\n",
       "<style scoped>\n",
       "    .dataframe tbody tr th:only-of-type {\n",
       "        vertical-align: middle;\n",
       "    }\n",
       "\n",
       "    .dataframe tbody tr th {\n",
       "        vertical-align: top;\n",
       "    }\n",
       "\n",
       "    .dataframe thead th {\n",
       "        text-align: right;\n",
       "    }\n",
       "</style>\n",
       "<table border=\"1\" class=\"dataframe\">\n",
       "  <thead>\n",
       "    <tr style=\"text-align: right;\">\n",
       "      <th></th>\n",
       "      <th>district</th>\n",
       "      <th>year</th>\n",
       "      <th>num_charters</th>\n",
       "      <th>most_common_rating</th>\n",
       "      <th>num_ratings</th>\n",
       "    </tr>\n",
       "  </thead>\n",
       "  <tbody>\n",
       "    <tr>\n",
       "      <th>0</th>\n",
       "      <td>1</td>\n",
       "      <td>2005</td>\n",
       "      <td>2</td>\n",
       "      <td>WD</td>\n",
       "      <td>1</td>\n",
       "    </tr>\n",
       "    <tr>\n",
       "      <th>1</th>\n",
       "      <td>1</td>\n",
       "      <td>2006</td>\n",
       "      <td>2</td>\n",
       "      <td>P</td>\n",
       "      <td>12</td>\n",
       "    </tr>\n",
       "    <tr>\n",
       "      <th>2</th>\n",
       "      <td>1</td>\n",
       "      <td>2007</td>\n",
       "      <td>2</td>\n",
       "      <td>P</td>\n",
       "      <td>13</td>\n",
       "    </tr>\n",
       "    <tr>\n",
       "      <th>3</th>\n",
       "      <td>1</td>\n",
       "      <td>2008</td>\n",
       "      <td>2</td>\n",
       "      <td>P</td>\n",
       "      <td>3</td>\n",
       "    </tr>\n",
       "    <tr>\n",
       "      <th>4</th>\n",
       "      <td>1</td>\n",
       "      <td>2009</td>\n",
       "      <td>2</td>\n",
       "      <td>WD</td>\n",
       "      <td>8</td>\n",
       "    </tr>\n",
       "    <tr>\n",
       "      <th>5</th>\n",
       "      <td>1</td>\n",
       "      <td>2010</td>\n",
       "      <td>2</td>\n",
       "      <td>D</td>\n",
       "      <td>7</td>\n",
       "    </tr>\n",
       "    <tr>\n",
       "      <th>6</th>\n",
       "      <td>1</td>\n",
       "      <td>2011</td>\n",
       "      <td>2</td>\n",
       "      <td>D</td>\n",
       "      <td>3</td>\n",
       "    </tr>\n",
       "    <tr>\n",
       "      <th>7</th>\n",
       "      <td>2</td>\n",
       "      <td>2005</td>\n",
       "      <td>1</td>\n",
       "      <td>WD</td>\n",
       "      <td>10</td>\n",
       "    </tr>\n",
       "  </tbody>\n",
       "</table>\n",
       "</div>"
      ],
      "text/plain": [
       "   district  year  num_charters most_common_rating  num_ratings\n",
       "0         1  2005             2                 WD            1\n",
       "1         1  2006             2                  P           12\n",
       "2         1  2007             2                  P           13\n",
       "3         1  2008             2                  P            3\n",
       "4         1  2009             2                 WD            8\n",
       "5         1  2010             2                  D            7\n",
       "6         1  2011             2                  D            3\n",
       "7         2  2005             1                 WD           10"
      ]
     },
     "execution_count": 43,
     "metadata": {},
     "output_type": "execute_result"
    }
   ],
   "source": [
    "df_merged = pd.merge(df1, df2, on=['district', 'year'])\n",
    "print('Shape of the dataframe: {}'.format(df_merged.shape))\n",
    "df_merged.head(8)"
   ]
  },
  {
   "cell_type": "markdown",
   "metadata": {},
   "source": [
    "Because the `most_common_ratings` dataframe only had entries between the years 2005-2011, many of the entries from the `num_charters_df` rating were lost by the merge. The result is a dataframe containing 218 entries. However, the actual number of entries should be:<br><br>\n",
    "<center>\n",
    "$32 \\text{ districts } \\cdot 7 \\text{ years} = 224 \\text{ entries}$\n",
    "</center>\n",
    "<br>\n",
    "The reason for the missing entries is most likely due to the O or DYO ratings that were removed, as these scores were not interpretable. <br>\n",
    "\n",
    "While this project was devised in the hopes of seeing if the number of charter schools in a district had any impact on the most common public school rating in that same district, it is more than plausible that the number of charters is not the only independent variable affecting the most common rating. As such, the final data cleaning step shown below creates two new columns, <b>num_public</b> and <b>pub_chtr_diff</b> which provide the number of public schools in a district and the difference between the number of public school and charter schools in a district, respectively. These values represent new independent variables that could be important predictors, and are still related to the number of charter schools in a district. "
   ]
  },
  {
   "cell_type": "code",
   "execution_count": 44,
   "metadata": {},
   "outputs": [
    {
     "data": {
      "text/html": [
       "<div>\n",
       "<style scoped>\n",
       "    .dataframe tbody tr th:only-of-type {\n",
       "        vertical-align: middle;\n",
       "    }\n",
       "\n",
       "    .dataframe tbody tr th {\n",
       "        vertical-align: top;\n",
       "    }\n",
       "\n",
       "    .dataframe thead th {\n",
       "        text-align: right;\n",
       "    }\n",
       "</style>\n",
       "<table border=\"1\" class=\"dataframe\">\n",
       "  <thead>\n",
       "    <tr style=\"text-align: right;\">\n",
       "      <th></th>\n",
       "      <th>district</th>\n",
       "      <th>year</th>\n",
       "      <th>num_charters</th>\n",
       "      <th>most_common_rating</th>\n",
       "      <th>num_ratings</th>\n",
       "      <th>num_public</th>\n",
       "      <th>pub_chtr_diff</th>\n",
       "    </tr>\n",
       "  </thead>\n",
       "  <tbody>\n",
       "    <tr>\n",
       "      <th>0</th>\n",
       "      <td>1</td>\n",
       "      <td>2005</td>\n",
       "      <td>2</td>\n",
       "      <td>WD</td>\n",
       "      <td>1</td>\n",
       "      <td>16</td>\n",
       "      <td>14</td>\n",
       "    </tr>\n",
       "    <tr>\n",
       "      <th>1</th>\n",
       "      <td>1</td>\n",
       "      <td>2006</td>\n",
       "      <td>2</td>\n",
       "      <td>P</td>\n",
       "      <td>12</td>\n",
       "      <td>16</td>\n",
       "      <td>14</td>\n",
       "    </tr>\n",
       "    <tr>\n",
       "      <th>2</th>\n",
       "      <td>1</td>\n",
       "      <td>2007</td>\n",
       "      <td>2</td>\n",
       "      <td>P</td>\n",
       "      <td>13</td>\n",
       "      <td>16</td>\n",
       "      <td>14</td>\n",
       "    </tr>\n",
       "    <tr>\n",
       "      <th>3</th>\n",
       "      <td>1</td>\n",
       "      <td>2008</td>\n",
       "      <td>2</td>\n",
       "      <td>P</td>\n",
       "      <td>3</td>\n",
       "      <td>16</td>\n",
       "      <td>14</td>\n",
       "    </tr>\n",
       "    <tr>\n",
       "      <th>4</th>\n",
       "      <td>1</td>\n",
       "      <td>2009</td>\n",
       "      <td>2</td>\n",
       "      <td>WD</td>\n",
       "      <td>8</td>\n",
       "      <td>16</td>\n",
       "      <td>14</td>\n",
       "    </tr>\n",
       "  </tbody>\n",
       "</table>\n",
       "</div>"
      ],
      "text/plain": [
       "   district  year  num_charters most_common_rating  num_ratings  num_public  \\\n",
       "0         1  2005             2                 WD            1          16   \n",
       "1         1  2006             2                  P           12          16   \n",
       "2         1  2007             2                  P           13          16   \n",
       "3         1  2008             2                  P            3          16   \n",
       "4         1  2009             2                 WD            8          16   \n",
       "\n",
       "   pub_chtr_diff  \n",
       "0             14  \n",
       "1             14  \n",
       "2             14  \n",
       "3             14  \n",
       "4             14  "
      ]
     },
     "execution_count": 44,
     "metadata": {},
     "output_type": "execute_result"
    }
   ],
   "source": [
    "# using 2018 directory for number of public schools for all years (maybe a bad idea?)\n",
    "num_public_schools = school_directory_2018.groupby(['district']).count() \n",
    "num_public_schools = num_public_schools.reset_index()\n",
    "num_public_schools.columns = ['district', 'num_public']\n",
    "df_final = pd.merge(df_merged, num_public_schools, on='district')\n",
    "df_final['pub_chtr_diff'] = df_final['num_public'] - df_final['num_charters']\n",
    "df_final.head()"
   ]
  },
  {
   "cell_type": "markdown",
   "metadata": {},
   "source": [
    "As is clear in the code above, the number of public schools (given by the <b>num_public</b> column) was determined by using the `school_directory_2018` directory, which lists only the schools that were active during the 2018 school year. The assumption being made here is that the number of public schools in a district does not vary much over the years, and that the number of public schools in a school district in 2018 is probably close to what it has been in preceding years. However, this could be an incorrect assumption, and is yet another consideration that needs to be taken into account regarding the upcoming analysis. An attempt was made to find a list of all public schools from the years 2005-2011, but could not be found on NYC's Open Data website, or anywhere else. <br>\n",
    "\n",
    "The <b>pub_chtr_diff</b> column was created simply by subtracting the number from the <b>num_charters</b> column from the number in the <b>num_public</b> column. <br>\n",
    "\n",
    "The dataset seen above represents the final, cleaned dataset that is used in future analysis.  "
   ]
  },
  {
   "cell_type": "markdown",
   "metadata": {},
   "source": [
    "# Section 3: Exploratory Data Analysis (EDA)"
   ]
  },
  {
   "cell_type": "markdown",
   "metadata": {},
   "source": [
    "The steps in this section present the exploratory data analysis that was performed before any predictive modeling was performed. All the subsections, with the exception of the first one, present a relevant conclusion that was a result of the exporatory data analysis along with appropriate evidence to support the claim. The first subsection (3.1) presents an argument for the conversion of the <b>most_common_rating</b> column of the `df_final` dataframe to two different numerical scales."
   ]
  },
  {
   "cell_type": "markdown",
   "metadata": {},
   "source": [
    "## 3.1: Numerical Conversions of the Quality Review Ratings\n",
    "For the purposes of analysis, having letter ratings present in the <b>most_common_rating</b> column of the `df_final` dataframe is not sufficient: no numerical operations can be performed using them. For the reason, two additional columns were added to the dataframe that provide numerical conversions for these ratings. \n"
   ]
  },
  {
   "cell_type": "markdown",
   "metadata": {},
   "source": [
    "### 3.1.1: Binary Variable Conversion\n",
    "\n",
    "Some of the analysis performed  required knowing simply if a quality review rating that was given was either positive (`WD` well-developed or `P` proficient) or negative (`D` developing or `UD` underdeveloped). For this reason, a new column named <b>mcr_binary</b> was added to the `df_final` dataframe in the cell below by using the `convert_to_binary()` function. "
   ]
  },
  {
   "cell_type": "code",
   "execution_count": 45,
   "metadata": {},
   "outputs": [
    {
     "data": {
      "text/html": [
       "<div>\n",
       "<style scoped>\n",
       "    .dataframe tbody tr th:only-of-type {\n",
       "        vertical-align: middle;\n",
       "    }\n",
       "\n",
       "    .dataframe tbody tr th {\n",
       "        vertical-align: top;\n",
       "    }\n",
       "\n",
       "    .dataframe thead th {\n",
       "        text-align: right;\n",
       "    }\n",
       "</style>\n",
       "<table border=\"1\" class=\"dataframe\">\n",
       "  <thead>\n",
       "    <tr style=\"text-align: right;\">\n",
       "      <th></th>\n",
       "      <th>district</th>\n",
       "      <th>year</th>\n",
       "      <th>num_charters</th>\n",
       "      <th>most_common_rating</th>\n",
       "      <th>num_ratings</th>\n",
       "      <th>num_public</th>\n",
       "      <th>pub_chtr_diff</th>\n",
       "      <th>mcr_binary</th>\n",
       "    </tr>\n",
       "  </thead>\n",
       "  <tbody>\n",
       "    <tr>\n",
       "      <th>0</th>\n",
       "      <td>1</td>\n",
       "      <td>2005</td>\n",
       "      <td>2</td>\n",
       "      <td>WD</td>\n",
       "      <td>1</td>\n",
       "      <td>16</td>\n",
       "      <td>14</td>\n",
       "      <td>1</td>\n",
       "    </tr>\n",
       "    <tr>\n",
       "      <th>1</th>\n",
       "      <td>1</td>\n",
       "      <td>2006</td>\n",
       "      <td>2</td>\n",
       "      <td>P</td>\n",
       "      <td>12</td>\n",
       "      <td>16</td>\n",
       "      <td>14</td>\n",
       "      <td>1</td>\n",
       "    </tr>\n",
       "    <tr>\n",
       "      <th>2</th>\n",
       "      <td>1</td>\n",
       "      <td>2007</td>\n",
       "      <td>2</td>\n",
       "      <td>P</td>\n",
       "      <td>13</td>\n",
       "      <td>16</td>\n",
       "      <td>14</td>\n",
       "      <td>1</td>\n",
       "    </tr>\n",
       "    <tr>\n",
       "      <th>3</th>\n",
       "      <td>1</td>\n",
       "      <td>2008</td>\n",
       "      <td>2</td>\n",
       "      <td>P</td>\n",
       "      <td>3</td>\n",
       "      <td>16</td>\n",
       "      <td>14</td>\n",
       "      <td>1</td>\n",
       "    </tr>\n",
       "    <tr>\n",
       "      <th>4</th>\n",
       "      <td>1</td>\n",
       "      <td>2009</td>\n",
       "      <td>2</td>\n",
       "      <td>WD</td>\n",
       "      <td>8</td>\n",
       "      <td>16</td>\n",
       "      <td>14</td>\n",
       "      <td>1</td>\n",
       "    </tr>\n",
       "  </tbody>\n",
       "</table>\n",
       "</div>"
      ],
      "text/plain": [
       "   district  year  num_charters most_common_rating  num_ratings  num_public  \\\n",
       "0         1  2005             2                 WD            1          16   \n",
       "1         1  2006             2                  P           12          16   \n",
       "2         1  2007             2                  P           13          16   \n",
       "3         1  2008             2                  P            3          16   \n",
       "4         1  2009             2                 WD            8          16   \n",
       "\n",
       "   pub_chtr_diff  mcr_binary  \n",
       "0             14           1  \n",
       "1             14           1  \n",
       "2             14           1  \n",
       "3             14           1  \n",
       "4             14           1  "
      ]
     },
     "execution_count": 45,
     "metadata": {},
     "output_type": "execute_result"
    }
   ],
   "source": [
    "df_final['mcr_binary'] = df_final['most_common_rating'].map(convert_to_binary)\n",
    "df_final.head()"
   ]
  },
  {
   "cell_type": "markdown",
   "metadata": {},
   "source": [
    "As you can see in the printout above, the <b>mcr_binary</b> column in the `df_final` dataframe represents a binary variable that is equal to 1 if rating in the <b>most_common_rating</b> column is positive, and 0 if the rating is negative."
   ]
  },
  {
   "cell_type": "markdown",
   "metadata": {},
   "source": [
    "### 3.1.2: Ordinal Variable Conversion\n",
    "\n",
    "In addition to a binary variable, the ratings from the <b>most_common_rating</b> column were also converted to an ordinal variable according to the following scale:\n",
    "\n",
    "<table>\n",
    "    <tr>\n",
    "        <th>Letter Rating</th>\n",
    "        <th>Numerical Rating</th>\n",
    "    </tr>\n",
    "    <tr>\n",
    "        <td>WD - Well Developed</td>\n",
    "        <td>3</td>\n",
    "    </tr>\n",
    "        <tr>\n",
    "        <td>P - Proficient</td>\n",
    "        <td>2</td>\n",
    "    </tr>\n",
    "        <tr>\n",
    "        <td>D - Developing</td>\n",
    "        <td>1</td>\n",
    "    </tr>\n",
    "    <tr>\n",
    "        <td>UD - Underdeveloped</td>\n",
    "        <td>0 </td>\n",
    "    </tr>\n",
    "</table>\n",
    "\n",
    "The conversion is performed below by use of the `make_numerical_ratings()` function, and the results of this conversion are stored in a new column named <b>mcr_ordinal</b>. "
   ]
  },
  {
   "cell_type": "code",
   "execution_count": 46,
   "metadata": {},
   "outputs": [
    {
     "data": {
      "text/html": [
       "<div>\n",
       "<style scoped>\n",
       "    .dataframe tbody tr th:only-of-type {\n",
       "        vertical-align: middle;\n",
       "    }\n",
       "\n",
       "    .dataframe tbody tr th {\n",
       "        vertical-align: top;\n",
       "    }\n",
       "\n",
       "    .dataframe thead th {\n",
       "        text-align: right;\n",
       "    }\n",
       "</style>\n",
       "<table border=\"1\" class=\"dataframe\">\n",
       "  <thead>\n",
       "    <tr style=\"text-align: right;\">\n",
       "      <th></th>\n",
       "      <th>district</th>\n",
       "      <th>year</th>\n",
       "      <th>num_charters</th>\n",
       "      <th>most_common_rating</th>\n",
       "      <th>num_ratings</th>\n",
       "      <th>num_public</th>\n",
       "      <th>pub_chtr_diff</th>\n",
       "      <th>mcr_binary</th>\n",
       "      <th>mcr_ordinal</th>\n",
       "    </tr>\n",
       "  </thead>\n",
       "  <tbody>\n",
       "    <tr>\n",
       "      <th>0</th>\n",
       "      <td>1</td>\n",
       "      <td>2005</td>\n",
       "      <td>2</td>\n",
       "      <td>WD</td>\n",
       "      <td>1</td>\n",
       "      <td>16</td>\n",
       "      <td>14</td>\n",
       "      <td>1</td>\n",
       "      <td>3</td>\n",
       "    </tr>\n",
       "    <tr>\n",
       "      <th>1</th>\n",
       "      <td>1</td>\n",
       "      <td>2006</td>\n",
       "      <td>2</td>\n",
       "      <td>P</td>\n",
       "      <td>12</td>\n",
       "      <td>16</td>\n",
       "      <td>14</td>\n",
       "      <td>1</td>\n",
       "      <td>2</td>\n",
       "    </tr>\n",
       "    <tr>\n",
       "      <th>2</th>\n",
       "      <td>1</td>\n",
       "      <td>2007</td>\n",
       "      <td>2</td>\n",
       "      <td>P</td>\n",
       "      <td>13</td>\n",
       "      <td>16</td>\n",
       "      <td>14</td>\n",
       "      <td>1</td>\n",
       "      <td>2</td>\n",
       "    </tr>\n",
       "    <tr>\n",
       "      <th>3</th>\n",
       "      <td>1</td>\n",
       "      <td>2008</td>\n",
       "      <td>2</td>\n",
       "      <td>P</td>\n",
       "      <td>3</td>\n",
       "      <td>16</td>\n",
       "      <td>14</td>\n",
       "      <td>1</td>\n",
       "      <td>2</td>\n",
       "    </tr>\n",
       "    <tr>\n",
       "      <th>4</th>\n",
       "      <td>1</td>\n",
       "      <td>2009</td>\n",
       "      <td>2</td>\n",
       "      <td>WD</td>\n",
       "      <td>8</td>\n",
       "      <td>16</td>\n",
       "      <td>14</td>\n",
       "      <td>1</td>\n",
       "      <td>3</td>\n",
       "    </tr>\n",
       "  </tbody>\n",
       "</table>\n",
       "</div>"
      ],
      "text/plain": [
       "   district  year  num_charters most_common_rating  num_ratings  num_public  \\\n",
       "0         1  2005             2                 WD            1          16   \n",
       "1         1  2006             2                  P           12          16   \n",
       "2         1  2007             2                  P           13          16   \n",
       "3         1  2008             2                  P            3          16   \n",
       "4         1  2009             2                 WD            8          16   \n",
       "\n",
       "   pub_chtr_diff  mcr_binary  mcr_ordinal  \n",
       "0             14           1            3  \n",
       "1             14           1            2  \n",
       "2             14           1            2  \n",
       "3             14           1            2  \n",
       "4             14           1            3  "
      ]
     },
     "execution_count": 46,
     "metadata": {},
     "output_type": "execute_result"
    }
   ],
   "source": [
    "df_final['mcr_ordinal'] = df_final['most_common_rating'].map(make_numerical_ratings)\n",
    "df_final.head()"
   ]
  },
  {
   "cell_type": "markdown",
   "metadata": {},
   "source": [
    "It should be noted that while the creation of an ordinal scale is necessary in order to implement future numerical analysis (such as linear regression), the true quantitative differneces between the values on this scale are unknown. While this is concerning, the NYCDOE also uses a numerical scale when performing analysis on its own analysis on quality review ratings helps to reassure confidence in future results. <br>\n",
    "\n",
    "The following cell simply reorganizes the final dataset in more logical fashion."
   ]
  },
  {
   "cell_type": "code",
   "execution_count": 47,
   "metadata": {},
   "outputs": [
    {
     "data": {
      "text/html": [
       "<div>\n",
       "<style scoped>\n",
       "    .dataframe tbody tr th:only-of-type {\n",
       "        vertical-align: middle;\n",
       "    }\n",
       "\n",
       "    .dataframe tbody tr th {\n",
       "        vertical-align: top;\n",
       "    }\n",
       "\n",
       "    .dataframe thead th {\n",
       "        text-align: right;\n",
       "    }\n",
       "</style>\n",
       "<table border=\"1\" class=\"dataframe\">\n",
       "  <thead>\n",
       "    <tr style=\"text-align: right;\">\n",
       "      <th></th>\n",
       "      <th>district</th>\n",
       "      <th>year</th>\n",
       "      <th>num_charters</th>\n",
       "      <th>num_public</th>\n",
       "      <th>pub_chtr_diff</th>\n",
       "      <th>num_ratings</th>\n",
       "      <th>most_common_rating</th>\n",
       "      <th>mcr_binary</th>\n",
       "      <th>mcr_ordinal</th>\n",
       "    </tr>\n",
       "  </thead>\n",
       "  <tbody>\n",
       "    <tr>\n",
       "      <th>0</th>\n",
       "      <td>1</td>\n",
       "      <td>2005</td>\n",
       "      <td>2</td>\n",
       "      <td>16</td>\n",
       "      <td>14</td>\n",
       "      <td>1</td>\n",
       "      <td>WD</td>\n",
       "      <td>1</td>\n",
       "      <td>3</td>\n",
       "    </tr>\n",
       "    <tr>\n",
       "      <th>1</th>\n",
       "      <td>1</td>\n",
       "      <td>2006</td>\n",
       "      <td>2</td>\n",
       "      <td>16</td>\n",
       "      <td>14</td>\n",
       "      <td>12</td>\n",
       "      <td>P</td>\n",
       "      <td>1</td>\n",
       "      <td>2</td>\n",
       "    </tr>\n",
       "    <tr>\n",
       "      <th>2</th>\n",
       "      <td>1</td>\n",
       "      <td>2007</td>\n",
       "      <td>2</td>\n",
       "      <td>16</td>\n",
       "      <td>14</td>\n",
       "      <td>13</td>\n",
       "      <td>P</td>\n",
       "      <td>1</td>\n",
       "      <td>2</td>\n",
       "    </tr>\n",
       "    <tr>\n",
       "      <th>3</th>\n",
       "      <td>1</td>\n",
       "      <td>2008</td>\n",
       "      <td>2</td>\n",
       "      <td>16</td>\n",
       "      <td>14</td>\n",
       "      <td>3</td>\n",
       "      <td>P</td>\n",
       "      <td>1</td>\n",
       "      <td>2</td>\n",
       "    </tr>\n",
       "    <tr>\n",
       "      <th>4</th>\n",
       "      <td>1</td>\n",
       "      <td>2009</td>\n",
       "      <td>2</td>\n",
       "      <td>16</td>\n",
       "      <td>14</td>\n",
       "      <td>8</td>\n",
       "      <td>WD</td>\n",
       "      <td>1</td>\n",
       "      <td>3</td>\n",
       "    </tr>\n",
       "  </tbody>\n",
       "</table>\n",
       "</div>"
      ],
      "text/plain": [
       "   district  year  num_charters  num_public  pub_chtr_diff  num_ratings  \\\n",
       "0         1  2005             2          16             14            1   \n",
       "1         1  2006             2          16             14           12   \n",
       "2         1  2007             2          16             14           13   \n",
       "3         1  2008             2          16             14            3   \n",
       "4         1  2009             2          16             14            8   \n",
       "\n",
       "  most_common_rating  mcr_binary  mcr_ordinal  \n",
       "0                 WD           1            3  \n",
       "1                  P           1            2  \n",
       "2                  P           1            2  \n",
       "3                  P           1            2  \n",
       "4                 WD           1            3  "
      ]
     },
     "execution_count": 47,
     "metadata": {},
     "output_type": "execute_result"
    }
   ],
   "source": [
    "col_names = ['district', 'year', 'num_charters', 'num_public', 'pub_chtr_diff', 'num_ratings', \\\n",
    "             'most_common_rating', 'mcr_binary', 'mcr_ordinal']\n",
    "df_final = df_final[col_names]\n",
    "df_final.head()"
   ]
  },
  {
   "cell_type": "markdown",
   "metadata": {},
   "source": [
    "## 3.2: Trend in the Number of Charter Schools by School District from 2005-2011\n",
    "The first finding that came as a result of the exploratory data analysis shows that the number of charter schools in <b><i>all</i></b> districts from 2005-2011 has either stayed the same or increased, confirming their recent popularity and prevalance within the NYC school system. The figures presented in this section provide evidence for this claim. "
   ]
  },
  {
   "cell_type": "markdown",
   "metadata": {},
   "source": [
    "The code seen in the cell provided below creates histograms counting the number (frequency) of districts that have different numbers of charter schools. Seven different histograms are provided, one for each of the years between 2005 and 2011:"
   ]
  },
  {
   "cell_type": "code",
   "execution_count": 48,
   "metadata": {},
   "outputs": [
    {
     "data": {
      "image/png": "[encoded data removed]",
      "text/plain": [
       "<Figure size 864x3240 with 7 Axes>"
      ]
     },
     "metadata": {
      "needs_background": "light"
     },
     "output_type": "display_data"
    }
   ],
   "source": [
    "plt.figure(figsize = (12,45))\n",
    "for year in range(2005, 2012):\n",
    "    plt.subplot(7, 1, year - 2004)\n",
    "    tmp = df_final[df_final['year'] == year].num_charters\n",
    "    bins = np.arange(tmp.min(), tmp.max()+2, 1) - 0.5\n",
    "    \n",
    "    plt.hist(x=tmp, bins = bins , color='#0504aa', rwidth = 0.85, alpha = 0.7)\n",
    "    plt.grid(axis='y', alpha=0.75)\n",
    "    plt.xlabel('Number of Charter Schools')\n",
    "    plt.ylabel('Frequency (Number of Districts)')\n",
    "    plt.title('Number of Charter Schools Histogram (%d) ' %year)\n",
    "    plt.ylim([0,12]);"
   ]
  },
  {
   "cell_type": "markdown",
   "metadata": {},
   "source": [
    "Note how in the first histogram (the one representing school districts from 2005), the peak of the distribtion is shifted entirely to the left, at 0. However, as the years progress, this peak starts to become less pronouced, and by 2009 starts to shift to the rights. In the histogram representing schools from 2011, the peak of the distribution is now located at 2 charter schools, and the distribution itself is much more even looking. This smoothing of the distribution is the first indiction that the number of charter schools across all districts is most likely increasing. \n",
    "\n",
    "_______________"
   ]
  },
  {
   "cell_type": "markdown",
   "metadata": {},
   "source": [
    "In addition to the histograms seen above, the figure seen below provides further evidence that the number of charter schools in each district has done nothing but increase. The following cell includes code used to create a line plot showing the number of charter schools as a function of time for every 3rd school district. Not every school district was included for the purpose of clarity. "
   ]
  },
  {
   "cell_type": "code",
   "execution_count": 49,
   "metadata": {},
   "outputs": [
    {
     "data": {
      "image/png": "[encoded data removed]",
      "text/plain": [
       "<Figure size 864x720 with 1 Axes>"
      ]
     },
     "metadata": {
      "needs_background": "light"
     },
     "output_type": "display_data"
    }
   ],
   "source": [
    "plt.figure(figsize = (12, 10))\n",
    "plt.title('Number of Charter Schools Per District by Year')\n",
    "\n",
    "plt.ylabel('Number of Charter Schools')\n",
    "plt.xlabel('Year')\n",
    "for district in range(1, 33, 3):\n",
    "    tmp = df_final[df_final['district'] == district]\n",
    "    plt.plot(tmp['year'], tmp['num_charters'], alpha = 0.5, label = 'District %d' %district)\n",
    "    plt.legend()"
   ]
  },
  {
   "cell_type": "markdown",
   "metadata": {},
   "source": [
    "As is made clear by the figure above, every school district represented has either the number of charter schools stay the same or increase. Because the above picture only shows every 3rd school district, the following cell makes sure that this is the case for all of them:"
   ]
  },
  {
   "cell_type": "code",
   "execution_count": 50,
   "metadata": {},
   "outputs": [
    {
     "name": "stdout",
     "output_type": "stream",
     "text": [
      "Total number of charter schools in 2005: 42\n",
      "Total number of charter schools in 2011: 127\n",
      "Number of school districts that had less charter schools in 2011 compared to 2005: 0\n"
     ]
    }
   ],
   "source": [
    "num_charters_2005 = df_final[df_final['year'] == 2005].num_charters.sum()\n",
    "num_charters_2011 = df_final[df_final['year'] == 2011].num_charters.sum()\n",
    "\n",
    "counter = 0\n",
    "for district in range(1, 33):\n",
    "    tmp = df_final[df_final['district'] == district]\n",
    "    max_year = tmp[tmp['year'] == tmp.year.max()]\n",
    "    min_year = tmp[tmp['year'] == tmp.year.min()]\n",
    "    if max_year['num_charters'].values[0] < min_year['num_charters'].values[0]:\n",
    "        counter += 1\n",
    "\n",
    "num_charters_2005 = df_final[df_final['year'] == 2005].num_charters.sum()\n",
    "num_charters_2011 = df_final[df_final['year'] == 2011].num_charters.sum()\n",
    "\n",
    "\n",
    "print('Total number of charter schools in 2005: {}'.format(num_charters_2005))\n",
    "print('Total number of charter schools in 2011: {}'.format(num_charters_2011))\n",
    "print('Number of school districts that had less charter schools in 2011 compared to 2005: {}'.format(counter))\n"
   ]
  },
  {
   "cell_type": "markdown",
   "metadata": {},
   "source": [
    "The cell above also provides code to determine the total number of charter schools in both 2005 and 2011. As is clear from the information printed above, charter schools are clearly beginning to become more prevalent in the NYC school system. This finding is a satifying result, as it gives validity to the relevance of the question being explored."
   ]
  },
  {
   "cell_type": "markdown",
   "metadata": {},
   "source": [
    "## 3.3: Most Common Ratings Given to NYC Public Schools\n",
    "\n",
    "The second finding that came as a result of the preliminary, exploratory data analysis was that a large majority of the quality review ratings given to NYC public schools are positve (either `WD` well-developed or `P` proficient). However, despite this majority, the percentage of the total number of ratings that were positive has decreased over the years from 2005-2011. "
   ]
  },
  {
   "cell_type": "markdown",
   "metadata": {},
   "source": [
    "The cell below includes code that creates histograms of the most common rating given to schools in a district. As in the previous subsection, seven histograms are included representing each of the seven years between 2005 and 2011. These histograms are the first piece of evidence to support the claim that the overwhelming majoirty of quality review ratings given to NYC public schools are positive."
   ]
  },
  {
   "cell_type": "code",
   "execution_count": 51,
   "metadata": {},
   "outputs": [
    {
     "data": {
      "image/png": "[encoded data removed]",
      "text/plain": [
       "<Figure size 864x3240 with 7 Axes>"
      ]
     },
     "metadata": {
      "needs_background": "light"
     },
     "output_type": "display_data"
    }
   ],
   "source": [
    "plt.figure(figsize = (12,45))\n",
    "for year in range(2005, 2012):\n",
    "    plt.subplot(7, 1, year - 2004)\n",
    "    tmp = df_final[df_final['year'] == year].most_common_rating\n",
    "    tmp.value_counts().plot.bar(alpha = 0.7)\n",
    "    plt.grid(axis='y', alpha=0.75)\n",
    "    plt.xlabel('Most Common Rating in District')\n",
    "    plt.ylabel('Frequency (Number of Districts)')\n",
    "    plt.title('Most Common Rating per District Histogram (%d) ' %year)"
   ]
  },
  {
   "cell_type": "markdown",
   "metadata": {},
   "source": [
    "A quick review of the histograms above results in some interesting findings, which are listed below:\n",
    "<ol>\n",
    "    <li> In all the histograms, the highest frequency most common rating is one of the positive rankings (<code>P</code> or <code>WD</code>).</li>\n",
    "    <li> In all of the histograms, either one or both of negative ratings (<code>UD</code> or <code>D</code>) has a frequency of 0.\n",
    "    <li> Only in the years 2008 and 2009 is there a significant occurance of a negative most common rating (<code>D</code>).\n",
    "</ol>\n",
    "\n",
    "The more obvious of conclusions that can be drawn from these findings is that quality review ratings, on average, tend to be pretty good. Despite this, given the resuls seen in the 2008 and 2009 histograms, it might be the case that the number of positive ratings begin to decline as time goes on."
   ]
  },
  {
   "cell_type": "markdown",
   "metadata": {},
   "source": [
    "The cell below uses the <b>mcr_numerical</b> column of the `df_final` dataframe in order to determine the average  most common rating across all school districts as a function of time. "
   ]
  },
  {
   "cell_type": "code",
   "execution_count": 52,
   "metadata": {},
   "outputs": [
    {
     "data": {
      "image/png": "[encoded data removed]",
      "text/plain": [
       "<Figure size 864x720 with 1 Axes>"
      ]
     },
     "metadata": {
      "needs_background": "light"
     },
     "output_type": "display_data"
    }
   ],
   "source": [
    "plt.figure(figsize = (12, 10))\n",
    "plt.title('Average Most Common Rating For All Districts From 2005-2011')\n",
    "plt.ylabel('Average Most Common Rating')\n",
    "plt.xlabel('Year')\n",
    "plt.ylim([0,3])\n",
    "\n",
    "plt.plot(range(df_final['year'].min(), df_final['year'].max()+1), \\\n",
    "         df_final.groupby(['year']).mean()['mcr_ordinal'], \\\n",
    "         marker=\".\");\n",
    "plt.text(2007.25, 1.2, \"* Each point represents the average rating of all 32 school districts in that year.\");\n"
   ]
  },
  {
   "cell_type": "markdown",
   "metadata": {},
   "source": [
    "While the graph above does show some flucuations, it is clear that the overall trend in seems to be that the average most common rating for all school districts has decreased over the year. The following cells provide a brief linear regression analysis for these results, along with the pearson correlation coeficient: "
   ]
  },
  {
   "cell_type": "code",
   "execution_count": 53,
   "metadata": {},
   "outputs": [
    {
     "name": "stdout",
     "output_type": "stream",
     "text": [
      "Linear Regression Results: \n",
      "\n",
      "a = -0.13442060291859825\n",
      "b = 272.0569636456964\n",
      "r = -0.6890367846687387\n"
     ]
    }
   ],
   "source": [
    "x = np.array(range(df_final['year'].min(), df_final['year'].max()+1))\n",
    "y = df_final.groupby(['year']).mean()['mcr_ordinal'].values\n",
    "a, b = np.polyfit(x, y, 1)\n",
    "r = pearsonr(x, y)[0]\n",
    "\n",
    "print('Linear Regression Results: \\n')\n",
    "print('a = {}'.format(a))\n",
    "print('b = {}'.format(b))\n",
    "print('r = {}'.format(r))"
   ]
  },
  {
   "cell_type": "markdown",
   "metadata": {},
   "source": [
    "Note that the linear results shown above correspond to a linear model of the following form: <br>\n",
    "<center>\n",
    "$\\hat{Y} = aX + b$\n",
    "</center>\n",
    "\n",
    "These results (especially a relatively low $r$ value of $\\approx$ -0.65) indicate that there is indeed a quantifiable correlation between the average most common rating in a district and time. The cell below checks to see if this correlation is statistically significant, and also gives the 95% confidence interval for the ($a$) value seen above. Each was calculated via the use of bootstrap replicates."
   ]
  },
  {
   "cell_type": "code",
   "execution_count": 54,
   "metadata": {},
   "outputs": [
    {
     "name": "stdout",
     "output_type": "stream",
     "text": [
      "a (95% confidence interval):  [-0.30749273 -0.03058814]\n",
      "r (p value): 0.0423\n"
     ]
    }
   ],
   "source": [
    "a_b_replicates = regression_replicates(replicates_size, x, y, 1)\n",
    "a_replicates = a_b_replicates[:,0]\n",
    "b_replicates = a_b_replicates[:,1]\n",
    "p_value_r = r_value_p_calc(replicates_size, x, y)\n",
    "\n",
    "print('a (95% confidence interval): ', np.percentile(a_replicates, [2.5, 97.5]))\n",
    "print('r (p value): {}'.format(p_value_r))"
   ]
  },
  {
   "cell_type": "markdown",
   "metadata": {},
   "source": [
    "According to the results above, the $p$ calculated on the correlation coefficient is almost nearly below the threshold of significance ($\\alpha =$ 0.05). In addition, we can say with 95% confidence that the coefficient determining the relationship between these two variables is a negative value approximately -0.29 and -0.03. In other words, we can say with a high degree of confidence that the decrease in the average most common public school rating over the years is statistically significant. The figure created by the code below simply summarizes these findings into a graph."
   ]
  },
  {
   "cell_type": "code",
   "execution_count": 55,
   "metadata": {},
   "outputs": [
    {
     "data": {
      "image/png": "[encoded data removed]",
      "text/plain": [
       "<Figure size 864x720 with 1 Axes>"
      ]
     },
     "metadata": {
      "needs_background": "light"
     },
     "output_type": "display_data"
    }
   ],
   "source": [
    "plt.figure(figsize = (12, 10))\n",
    "plt.scatter(x, y)\n",
    "plt.plot(x, a*x+b, color='red')\n",
    "plt.title('Average Most Common Rating For All Districts From 2005-2011 (With Fit)')\n",
    "plt.ylabel('Average Most Common Rating')\n",
    "plt.xlabel('Year')\n",
    "plt.ylim([0,3])\n",
    "plt.text(2005, 1.25, 'Linear Regression Results:');\n",
    "plt.text(2005, 1.15, 'a = {}'.format(a));\n",
    "plt.text(2005, 1.08, 'b = {}'.format(b));\n",
    "plt.text(2009.75, 1.25, 'Correlation Results:');\n",
    "plt.text(2009.75, 1.15, 'r = {}'.format(r));\n",
    "plt.text(2009.75, 1.08, 'p = {}'.format(p_value_r));"
   ]
  },
  {
   "cell_type": "markdown",
   "metadata": {},
   "source": [
    "These results are exciting because now in addition to seeing an increase in the number of charter schools over the years, we also see hints that the public school ratings over that same time period have started to decrease in quality. In other words, it might be the case that the two variables in question maintain a negative correlation. "
   ]
  },
  {
   "cell_type": "markdown",
   "metadata": {},
   "source": [
    "## 3.4: Correlation Between Number of Charters and Most Common Public School Rating\n",
    "\n",
    "At this point, the logical next step is to examine the correlation between the two variables of interest in this project: the number of charter schools in a distrct, and the most common public school rating in that same district. The code in the cell below produces a scatterplot allowing us to do just that:"
   ]
  },
  {
   "cell_type": "code",
   "execution_count": 56,
   "metadata": {},
   "outputs": [
    {
     "data": {
      "image/png": "[encoded data removed]",
      "text/plain": [
       "<Figure size 864x720 with 1 Axes>"
      ]
     },
     "metadata": {
      "needs_background": "light"
     },
     "output_type": "display_data"
    }
   ],
   "source": [
    "plt.figure(figsize = (12, 10))\n",
    "plt.scatter(df_final.num_charters, df_final.mcr_ordinal)\n",
    "plt.xlabel('Number of Charters')\n",
    "plt.title('Most Common Rating vs. Number of Charters')\n",
    "plt.ylabel('Most Common Rating')\n",
    "plt.ylim([-0.5,3.5])\n",
    "r = pearsonr(df_final.num_charters, df_final.mcr_ordinal)[0]\n",
    "plt.text(5.2, 3.3, 'Pearson Correlation Coefficent (r) =  %f' %r);\n",
    "plt.text(5.2, 3.2, 'Each Point Represents one school district for a particular year.');"
   ]
  },
  {
   "cell_type": "markdown",
   "metadata": {},
   "source": [
    "Upon first inspection, the graph below looks quite awkward due to the fact that the most common rating in a district can take only four different possible values, and that many dots are stacked on top of each other. However, despite this awkward looking graph, the calculated $r$ value  of approximately -0.22 is low enough to make the claim that their exists a slight negative correlation between the two variables. The cell below determines the $p$ value for this correlation coefficient:"
   ]
  },
  {
   "cell_type": "code",
   "execution_count": 57,
   "metadata": {},
   "outputs": [
    {
     "name": "stdout",
     "output_type": "stream",
     "text": [
      "Correlation Results:\n",
      "\n",
      "r = -0.25672434247677056\n",
      "p = 0.0001\n"
     ]
    }
   ],
   "source": [
    "p = r_value_p_calc(replicates_size, df_final.num_charters, df_final.mcr_ordinal)\n",
    "print('Correlation Results:\\n')\n",
    "print('r = {}'.format(r))\n",
    "print('p = {}'.format(p))"
   ]
  },
  {
   "cell_type": "markdown",
   "metadata": {},
   "source": [
    "According to the results above, the slight correlation that exists between the two variables is statistically significant! This bodes well for the prospects of more in-depth analysis."
   ]
  },
  {
   "cell_type": "markdown",
   "metadata": {},
   "source": [
    "## 3.5: Correlation Between Number of Charters and Average Public School Rating"
   ]
  },
  {
   "cell_type": "markdown",
   "metadata": {},
   "source": [
    "Despite the facts that the previous subsection produced results indicating that further analysis might provide fruitful results, it was difficult to note the correlation between the number of charters and the most common rating due to the fact that the most common rating in a district can only be one of four values. In addition, as shown in section 3.3, the most common ratings in each district are overwhelmingly positive. For the reason, it might be the case that aggregating by the average rating in a district might provide clearer results as opposed to aggregating by the most common rating in a district. The code in the cell below creates a new column in the `df_final` dataframe named <b>avg_rating</b> which aggregates the quality review ratings by the average rating in a district each year:"
   ]
  },
  {
   "cell_type": "code",
   "execution_count": 58,
   "metadata": {},
   "outputs": [
    {
     "data": {
      "text/html": [
       "<div>\n",
       "<style scoped>\n",
       "    .dataframe tbody tr th:only-of-type {\n",
       "        vertical-align: middle;\n",
       "    }\n",
       "\n",
       "    .dataframe tbody tr th {\n",
       "        vertical-align: top;\n",
       "    }\n",
       "\n",
       "    .dataframe thead th {\n",
       "        text-align: right;\n",
       "    }\n",
       "</style>\n",
       "<table border=\"1\" class=\"dataframe\">\n",
       "  <thead>\n",
       "    <tr style=\"text-align: right;\">\n",
       "      <th></th>\n",
       "      <th>district</th>\n",
       "      <th>year</th>\n",
       "      <th>num_charters</th>\n",
       "      <th>num_public</th>\n",
       "      <th>pub_chtr_diff</th>\n",
       "      <th>num_ratings</th>\n",
       "      <th>most_common_rating</th>\n",
       "      <th>mcr_binary</th>\n",
       "      <th>mcr_ordinal</th>\n",
       "      <th>avg_rating</th>\n",
       "    </tr>\n",
       "  </thead>\n",
       "  <tbody>\n",
       "    <tr>\n",
       "      <th>0</th>\n",
       "      <td>1</td>\n",
       "      <td>2005</td>\n",
       "      <td>2</td>\n",
       "      <td>16</td>\n",
       "      <td>14</td>\n",
       "      <td>1</td>\n",
       "      <td>WD</td>\n",
       "      <td>1</td>\n",
       "      <td>3</td>\n",
       "      <td>3.000000</td>\n",
       "    </tr>\n",
       "    <tr>\n",
       "      <th>1</th>\n",
       "      <td>1</td>\n",
       "      <td>2006</td>\n",
       "      <td>2</td>\n",
       "      <td>16</td>\n",
       "      <td>14</td>\n",
       "      <td>12</td>\n",
       "      <td>P</td>\n",
       "      <td>1</td>\n",
       "      <td>2</td>\n",
       "      <td>1.833333</td>\n",
       "    </tr>\n",
       "    <tr>\n",
       "      <th>2</th>\n",
       "      <td>1</td>\n",
       "      <td>2007</td>\n",
       "      <td>2</td>\n",
       "      <td>16</td>\n",
       "      <td>14</td>\n",
       "      <td>13</td>\n",
       "      <td>P</td>\n",
       "      <td>1</td>\n",
       "      <td>2</td>\n",
       "      <td>2.153846</td>\n",
       "    </tr>\n",
       "    <tr>\n",
       "      <th>3</th>\n",
       "      <td>1</td>\n",
       "      <td>2008</td>\n",
       "      <td>2</td>\n",
       "      <td>16</td>\n",
       "      <td>14</td>\n",
       "      <td>3</td>\n",
       "      <td>P</td>\n",
       "      <td>1</td>\n",
       "      <td>2</td>\n",
       "      <td>1.333333</td>\n",
       "    </tr>\n",
       "    <tr>\n",
       "      <th>4</th>\n",
       "      <td>1</td>\n",
       "      <td>2009</td>\n",
       "      <td>2</td>\n",
       "      <td>16</td>\n",
       "      <td>14</td>\n",
       "      <td>8</td>\n",
       "      <td>WD</td>\n",
       "      <td>1</td>\n",
       "      <td>3</td>\n",
       "      <td>2.250000</td>\n",
       "    </tr>\n",
       "  </tbody>\n",
       "</table>\n",
       "</div>"
      ],
      "text/plain": [
       "   district  year  num_charters  num_public  pub_chtr_diff  num_ratings  \\\n",
       "0         1  2005             2          16             14            1   \n",
       "1         1  2006             2          16             14           12   \n",
       "2         1  2007             2          16             14           13   \n",
       "3         1  2008             2          16             14            3   \n",
       "4         1  2009             2          16             14            8   \n",
       "\n",
       "  most_common_rating  mcr_binary  mcr_ordinal  avg_rating  \n",
       "0                 WD           1            3    3.000000  \n",
       "1                  P           1            2    1.833333  \n",
       "2                  P           1            2    2.153846  \n",
       "3                  P           1            2    1.333333  \n",
       "4                 WD           1            3    2.250000  "
      ]
     },
     "execution_count": 58,
     "metadata": {},
     "output_type": "execute_result"
    }
   ],
   "source": [
    "tmp = public_school_ratings.copy()\n",
    "tmp['overall_rating'] = tmp['overall_rating'].map(make_numerical_ratings)\n",
    "tmp = tmp.groupby(['district', 'school_year']).mean()\n",
    "tmp = tmp.reset_index().drop('number', axis = 1)\n",
    "tmp.columns = ['district', 'year', 'avg_rating']\n",
    "df_final['avg_rating'] = tmp['avg_rating']\n",
    "df_final.head()"
   ]
  },
  {
   "cell_type": "markdown",
   "metadata": {},
   "source": [
    "As can be seen in the header printed above, the `df_final` dataframe now contains the <b>avg_rating</b> column, containing the average rating from all schools in a district each year calculated using the ordinal scale first described in section 3.1.2.<br>\n",
    "\n",
    "Let's now examine the correlation between the number of charter schools and this new version of our dependent variable:"
   ]
  },
  {
   "cell_type": "code",
   "execution_count": 59,
   "metadata": {},
   "outputs": [
    {
     "data": {
      "image/png": "[encoded data removed]",
      "text/plain": [
       "<Figure size 864x720 with 1 Axes>"
      ]
     },
     "metadata": {
      "needs_background": "light"
     },
     "output_type": "display_data"
    }
   ],
   "source": [
    "plt.figure(figsize = (12, 10))\n",
    "plt.scatter(df_final.num_charters, df_final.avg_rating)\n",
    "plt.xlabel('Number of Charters')\n",
    "plt.title('Average Rating vs. Number of Charters')\n",
    "plt.ylabel('Average Rating')\n",
    "plt.ylim([-0.5, 3.5])\n",
    "r = pearsonr(df_final.num_charters, df_final.avg_rating)[0]\n",
    "plt.text(5.2, 3.3, 'Pearson Correlation Coefficent (r) =  %f' %r);\n",
    "plt.text(5.2, 3.2, 'Each Point Represents one school district for a particular year.');"
   ]
  },
  {
   "cell_type": "markdown",
   "metadata": {},
   "source": [
    "The graph below makes the relationship between the frequency of charter schools and public school performance a little clearer. By aggregating the quality review ratings in a district by their average as opposed to their mode, we get a clearer picture of the correlation between them. Quantitatively, the $r$ value has also become more pronounced and reaches a value of approximately -0.34 (still not remarkable, but defintiely more impressive than the -0.22 value seen in section 3.4). The cell below checks the $p$ value for this correlation. "
   ]
  },
  {
   "cell_type": "code",
   "execution_count": 60,
   "metadata": {},
   "outputs": [
    {
     "name": "stdout",
     "output_type": "stream",
     "text": [
      "Correlation Results:\n",
      "\n",
      "r = -0.3371272214540595\n",
      "p = 0.0\n"
     ]
    }
   ],
   "source": [
    "p = r_value_p_calc(replicates_size, df_final.num_charters, df_final.avg_rating)\n",
    "print('Correlation Results:\\n')\n",
    "print('r = {}'.format(r))\n",
    "print('p = {}'.format(p))"
   ]
  },
  {
   "cell_type": "markdown",
   "metadata": {},
   "source": [
    "As can be seen in the printout above, the $p$ value in this case has actually reached 0, meaning that none of the $r$ bootstrap replicates reached a value that was less than or equal to -0.33.  "
   ]
  },
  {
   "cell_type": "markdown",
   "metadata": {},
   "source": [
    "## 3.6: Summary of Exploratory Data Analysis\n",
    "\n",
    "The exploratory data analysis that was performed in this section produced three results that hint at the possibility for a genuine connection between the number of charter schools in a district and public school performance in that same district. These are summarized below:\n",
    "<ol>\n",
    "    <li><b>The number of charter schools in a has either stayed the same or increased for all school districts from the years 2005-2011.</b></li>\n",
    "    <li><b>Public school quality review ratings tend to be positve, but on average seem decline over the course of the years 2005-2011.</b></li>\n",
    "    <li><b>There exists a small, but statistically significant negative correlation between the number of charter schools in a district and the most common public school rating given in that same distirct. In additon, when looking instead at the average public school rating in a district, this correlation becomes more significant.</b></li>\n",
    "</ol>\n",
    "\n",
    "The results provided in this section are enough to prove that the question attempted to be answered is relevant, and that it warrants further analysis. "
   ]
  },
  {
   "cell_type": "markdown",
   "metadata": {},
   "source": [
    "# Section 4: In-Depth Analysis and Predictive Modeling\n",
    "\n",
    "The work done in this section aims to prove the extent to which the correlation seen between the number of charter schools in a district and public school performance in that same district can be used to create effective predictive models. In doing so, we can further analyze the relationship between the two and make a better determination as to the genuine nature of their apparent connection. Three different models are created in this section: a linear regression model, a logistic regression model, and a k-nearest neighbors model. "
   ]
  },
  {
   "cell_type": "markdown",
   "metadata": {},
   "source": [
    "## 4.1: Linear Model Analysis\n",
    "\n",
    "\n"
   ]
  },
  {
   "cell_type": "markdown",
   "metadata": {},
   "source": [
    "### 4.1.1: OLS Model Summaries"
   ]
  },
  {
   "cell_type": "code",
   "execution_count": 61,
   "metadata": {},
   "outputs": [
    {
     "name": "stdout",
     "output_type": "stream",
     "text": [
      "                            OLS Regression Results                            \n",
      "==============================================================================\n",
      "Dep. Variable:             avg_rating   R-squared:                       0.114\n",
      "Model:                            OLS   Adj. R-squared:                  0.110\n",
      "Method:                 Least Squares   F-statistic:                     27.70\n",
      "Date:                Thu, 04 Jul 2019   Prob (F-statistic):           3.41e-07\n",
      "Time:                        01:23:24   Log-Likelihood:                -127.77\n",
      "No. Observations:                 218   AIC:                             259.5\n",
      "Df Residuals:                     216   BIC:                             266.3\n",
      "Df Model:                           1                                         \n",
      "Covariance Type:            nonrobust                                         \n",
      "================================================================================\n",
      "                   coef    std err          t      P>|t|      [0.025      0.975]\n",
      "--------------------------------------------------------------------------------\n",
      "Intercept        2.2095      0.043     50.875      0.000       2.124       2.295\n",
      "num_charters    -0.0651      0.012     -5.263      0.000      -0.090      -0.041\n",
      "==============================================================================\n",
      "Omnibus:                        4.780   Durbin-Watson:                   1.856\n",
      "Prob(Omnibus):                  0.092   Jarque-Bera (JB):                4.479\n",
      "Skew:                          -0.343   Prob(JB):                        0.107\n",
      "Kurtosis:                       3.149   Cond. No.                         5.38\n",
      "==============================================================================\n",
      "\n",
      "Warnings:\n",
      "[1] Standard Errors assume that the covariance matrix of the errors is correctly specified.\n"
     ]
    }
   ],
   "source": [
    "m = ols('avg_rating ~ num_charters', df_final).fit()\n",
    "print(m.summary())"
   ]
  },
  {
   "cell_type": "code",
   "execution_count": 62,
   "metadata": {},
   "outputs": [
    {
     "name": "stdout",
     "output_type": "stream",
     "text": [
      "                            OLS Regression Results                            \n",
      "==============================================================================\n",
      "Dep. Variable:             avg_rating   R-squared:                       0.003\n",
      "Model:                            OLS   Adj. R-squared:                 -0.001\n",
      "Method:                 Least Squares   F-statistic:                    0.7105\n",
      "Date:                Thu, 04 Jul 2019   Prob (F-statistic):              0.400\n",
      "Time:                        01:23:24   Log-Likelihood:                -140.56\n",
      "No. Observations:                 218   AIC:                             285.1\n",
      "Df Residuals:                     216   BIC:                             291.9\n",
      "Df Model:                           1                                         \n",
      "Covariance Type:            nonrobust                                         \n",
      "=================================================================================\n",
      "                    coef    std err          t      P>|t|      [0.025      0.975]\n",
      "---------------------------------------------------------------------------------\n",
      "Intercept         1.9922      0.067     29.712      0.000       1.860       2.124\n",
      "pub_chtr_diff     0.0019      0.002      0.843      0.400      -0.003       0.006\n",
      "==============================================================================\n",
      "Omnibus:                        1.445   Durbin-Watson:                   1.784\n",
      "Prob(Omnibus):                  0.486   Jarque-Bera (JB):                1.540\n",
      "Skew:                          -0.174   Prob(JB):                        0.463\n",
      "Kurtosis:                       2.780   Cond. No.                         64.0\n",
      "==============================================================================\n",
      "\n",
      "Warnings:\n",
      "[1] Standard Errors assume that the covariance matrix of the errors is correctly specified.\n"
     ]
    }
   ],
   "source": [
    "m = ols('avg_rating ~ pub_chtr_diff', df_final).fit()\n",
    "print(m.summary())"
   ]
  },
  {
   "cell_type": "code",
   "execution_count": 63,
   "metadata": {},
   "outputs": [
    {
     "name": "stdout",
     "output_type": "stream",
     "text": [
      "                            OLS Regression Results                            \n",
      "==============================================================================\n",
      "Dep. Variable:             avg_rating   R-squared:                       0.114\n",
      "Model:                            OLS   Adj. R-squared:                  0.105\n",
      "Method:                 Least Squares   F-statistic:                     13.78\n",
      "Date:                Thu, 04 Jul 2019   Prob (F-statistic):           2.33e-06\n",
      "Time:                        01:23:24   Log-Likelihood:                -127.77\n",
      "No. Observations:                 218   AIC:                             261.5\n",
      "Df Residuals:                     215   BIC:                             271.7\n",
      "Df Model:                           2                                         \n",
      "Covariance Type:            nonrobust                                         \n",
      "=================================================================================\n",
      "                    coef    std err          t      P>|t|      [0.025      0.975]\n",
      "---------------------------------------------------------------------------------\n",
      "Intercept         2.2088      0.076     29.081      0.000       2.059       2.359\n",
      "pub_chtr_diff  2.298e-05      0.002      0.011      0.991      -0.004       0.004\n",
      "num_charters     -0.0651      0.013     -5.174      0.000      -0.090      -0.040\n",
      "==============================================================================\n",
      "Omnibus:                        4.771   Durbin-Watson:                   1.856\n",
      "Prob(Omnibus):                  0.092   Jarque-Bera (JB):                4.470\n",
      "Skew:                          -0.343   Prob(JB):                        0.107\n",
      "Kurtosis:                       3.149   Cond. No.                         77.1\n",
      "==============================================================================\n",
      "\n",
      "Warnings:\n",
      "[1] Standard Errors assume that the covariance matrix of the errors is correctly specified.\n"
     ]
    }
   ],
   "source": [
    "m = ols('avg_rating ~ pub_chtr_diff + num_charters', df_final).fit()\n",
    "print(m.summary())"
   ]
  },
  {
   "cell_type": "code",
   "execution_count": 64,
   "metadata": {},
   "outputs": [
    {
     "name": "stdout",
     "output_type": "stream",
     "text": [
      "                            OLS Regression Results                            \n",
      "==============================================================================\n",
      "Dep. Variable:            mcr_ordinal   R-squared:                       0.066\n",
      "Model:                            OLS   Adj. R-squared:                  0.062\n",
      "Method:                 Least Squares   F-statistic:                     15.24\n",
      "Date:                Thu, 04 Jul 2019   Prob (F-statistic):           0.000127\n",
      "Time:                        01:23:24   Log-Likelihood:                -206.84\n",
      "No. Observations:                 218   AIC:                             417.7\n",
      "Df Residuals:                     216   BIC:                             424.5\n",
      "Df Model:                           1                                         \n",
      "Covariance Type:            nonrobust                                         \n",
      "================================================================================\n",
      "                   coef    std err          t      P>|t|      [0.025      0.975]\n",
      "--------------------------------------------------------------------------------\n",
      "Intercept        2.3114      0.062     37.030      0.000       2.188       2.434\n",
      "num_charters    -0.0694      0.018     -3.904      0.000      -0.105      -0.034\n",
      "==============================================================================\n",
      "Omnibus:                       16.337   Durbin-Watson:                   1.892\n",
      "Prob(Omnibus):                  0.000   Jarque-Bera (JB):               19.576\n",
      "Skew:                          -0.566   Prob(JB):                     5.61e-05\n",
      "Kurtosis:                       3.936   Cond. No.                         5.38\n",
      "==============================================================================\n",
      "\n",
      "Warnings:\n",
      "[1] Standard Errors assume that the covariance matrix of the errors is correctly specified.\n"
     ]
    }
   ],
   "source": [
    "m = ols('mcr_ordinal ~ num_charters', df_final).fit()\n",
    "print(m.summary())"
   ]
  },
  {
   "cell_type": "code",
   "execution_count": 65,
   "metadata": {},
   "outputs": [
    {
     "name": "stdout",
     "output_type": "stream",
     "text": [
      "                            OLS Regression Results                            \n",
      "==============================================================================\n",
      "Dep. Variable:             avg_rating   R-squared:                       0.117\n",
      "Model:                            OLS   Adj. R-squared:                  0.104\n",
      "Method:                 Least Squares   F-statistic:                     9.439\n",
      "Date:                Thu, 04 Jul 2019   Prob (F-statistic):           6.95e-06\n",
      "Time:                        01:23:24   Log-Likelihood:                -127.37\n",
      "No. Observations:                 218   AIC:                             262.7\n",
      "Df Residuals:                     214   BIC:                             276.3\n",
      "Df Model:                           3                                         \n",
      "Covariance Type:            nonrobust                                         \n",
      "==============================================================================================\n",
      "                                 coef    std err          t      P>|t|      [0.025      0.975]\n",
      "----------------------------------------------------------------------------------------------\n",
      "Intercept                      2.1650      0.091     23.843      0.000       1.986       2.344\n",
      "num_charters                  -0.0425      0.029     -1.484      0.139      -0.099       0.014\n",
      "pub_chtr_diff                  0.0020      0.003      0.644      0.520      -0.004       0.008\n",
      "num_charters:pub_chtr_diff    -0.0011      0.001     -0.881      0.379      -0.003       0.001\n",
      "==============================================================================\n",
      "Omnibus:                        4.577   Durbin-Watson:                   1.862\n",
      "Prob(Omnibus):                  0.101   Jarque-Bera (JB):                4.268\n",
      "Skew:                          -0.334   Prob(JB):                        0.118\n",
      "Kurtosis:                       3.151   Cond. No.                         277.\n",
      "==============================================================================\n",
      "\n",
      "Warnings:\n",
      "[1] Standard Errors assume that the covariance matrix of the errors is correctly specified.\n"
     ]
    }
   ],
   "source": [
    "m = ols('avg_rating ~ num_charters + pub_chtr_diff + num_charters*pub_chtr_diff', df_final).fit()\n",
    "print(m.summary())"
   ]
  },
  {
   "cell_type": "markdown",
   "metadata": {},
   "source": [
    "### 4.1.2: Building A Linear Regression Model"
   ]
  },
  {
   "cell_type": "code",
   "execution_count": 66,
   "metadata": {},
   "outputs": [],
   "source": [
    "X = df_final.num_charters.values.reshape(-1, 1)\n",
    "y = df_final.avg_rating.values.reshape(-1, 1)\n",
    "X_train, X_test, y_train, y_test = train_test_split(X, y, test_size = 0.3, random_state = rs, stratify = X)"
   ]
  },
  {
   "cell_type": "code",
   "execution_count": 67,
   "metadata": {},
   "outputs": [
    {
     "name": "stdout",
     "output_type": "stream",
     "text": [
      "Median R^2 value: 0.10465509910904447\n"
     ]
    }
   ],
   "source": [
    "lin_reg_model = LinearRegression()\n",
    "cv_scores = cross_val_score(lin_reg_model, X, y, cv = 4)\n",
    "print('Median R^2 value: {}'.format(np.median(cv_scores)))"
   ]
  },
  {
   "cell_type": "code",
   "execution_count": 68,
   "metadata": {},
   "outputs": [
    {
     "name": "stdout",
     "output_type": "stream",
     "text": [
      "R^2: 0.05162429953080294\n",
      "Root Mean Squared Error: 0.39110202394050214\n",
      "Coefficient: -0.0713352955147082\n",
      "Intercept: 2.207104102216128\n"
     ]
    }
   ],
   "source": [
    "lin_reg_model = LinearRegression()\n",
    "lin_reg_model.fit(X_train, y_train)\n",
    "predictions = lin_reg_model.predict(X_test)\n",
    "coefficient = lin_reg_model.coef_[0][0]\n",
    "intercept = lin_reg_model.intercept_[0]\n",
    "print(\"R^2: {}\".format(lin_reg_model.score(X_test, y_test)))\n",
    "rmse = np.sqrt(mean_squared_error(y_test, predictions))\n",
    "print(\"Root Mean Squared Error: {}\".format(rmse))\n",
    "print('Coefficient: {}'.format(coefficient))\n",
    "print('Intercept: {}'.format(intercept))"
   ]
  },
  {
   "cell_type": "code",
   "execution_count": 69,
   "metadata": {},
   "outputs": [
    {
     "data": {
      "image/png": "[encoded data removed]",
      "text/plain": [
       "<Figure size 864x720 with 1 Axes>"
      ]
     },
     "metadata": {
      "needs_background": "light"
     },
     "output_type": "display_data"
    }
   ],
   "source": [
    "plt.figure(figsize = (12, 10))\n",
    "plt.scatter(X_test, y_test, label = 'Test Data')\n",
    "plt.scatter(X_test, predictions, label = 'Predictions')\n",
    "plt.plot(X_test, (X_test * coefficient) + intercept, color = 'red', linewidth = 0.1, label = 'Model')\n",
    "plt.legend()\n",
    "plt.xlabel('Number of Charter Schools');\n",
    "plt.ylabel('Average Public School Rating');\n",
    "plt.title('Linear Regression Test Data With Predictions')\n",
    "plt.text(5, 2.85, '* Each Point Represents one school district for a particular year.');\n",
    "plt.text(8, 1.7, 'y = %0.3f + %1.3f' %(coefficient, intercept), rotation = -16);"
   ]
  },
  {
   "cell_type": "code",
   "execution_count": 70,
   "metadata": {},
   "outputs": [],
   "source": [
    "all_predictions = (X * coefficient) + intercept\n",
    "residuals = all_predictions - y\n",
    "std_residuals = (residuals - np.mean(residuals))/ np.std(residuals)"
   ]
  },
  {
   "cell_type": "code",
   "execution_count": 71,
   "metadata": {},
   "outputs": [
    {
     "data": {
      "image/png": "[encoded data removed]",
      "text/plain": [
       "<Figure size 864x1152 with 2 Axes>"
      ]
     },
     "metadata": {
      "needs_background": "light"
     },
     "output_type": "display_data"
    }
   ],
   "source": [
    "plt.figure(figsize = (12, 16))\n",
    "plt.subplot(2, 1, 1)\n",
    "plt.xlabel('Predictions')\n",
    "plt.ylabel('Residuals')\n",
    "plt.title('Residual Plot')\n",
    "plt.scatter(all_predictions, residuals)\n",
    "plt.subplot(2, 1, 2)\n",
    "plt.xlabel('Predictions')\n",
    "plt.ylabel('Standardized Residuals')\n",
    "plt.title('Standardized Residual Plot')\n",
    "plt.scatter(all_predictions, std_residuals);"
   ]
  },
  {
   "cell_type": "code",
   "execution_count": 72,
   "metadata": {},
   "outputs": [
    {
     "data": {
      "image/png": "[encoded data removed]",
      "text/plain": [
       "<Figure size 864x720 with 1 Axes>"
      ]
     },
     "metadata": {
      "needs_background": "light"
     },
     "output_type": "display_data"
    }
   ],
   "source": [
    "plt.figure(figsize = (12, 10))\n",
    "num_bins = int(np.sqrt(len(residuals)))\n",
    "plt.hist(std_residuals, num_bins)\n",
    "plt.xlabel('Standardized Residual')\n",
    "plt.ylabel('Count')\n",
    "plt.title('Standardized Residuals Histogram')\n",
    "_, DP_pval = stats.normaltest(std_residuals) # D'Agostino-Pearson Test\n",
    "plt.text(0.85, 37, 'p-value from D\\'Agostino-Pearson Test for Normality: %0.3f' %DP_pval[0]);"
   ]
  },
  {
   "cell_type": "markdown",
   "metadata": {},
   "source": [
    "## 4.2: Logistic Regression Analysis"
   ]
  },
  {
   "cell_type": "code",
   "execution_count": 73,
   "metadata": {},
   "outputs": [
    {
     "name": "stdout",
     "output_type": "stream",
     "text": [
      "Optimization terminated successfully.\n",
      "         Current function value: 0.557474\n",
      "         Iterations 6\n",
      "                           Logit Regression Results                           \n",
      "==============================================================================\n",
      "Dep. Variable:             mcr_binary   No. Observations:                  218\n",
      "Model:                          Logit   Df Residuals:                      217\n",
      "Method:                           MLE   Df Model:                            0\n",
      "Date:                Thu, 04 Jul 2019   Pseudo R-squ.:                 -0.4885\n",
      "Time:                        01:23:25   Log-Likelihood:                -121.53\n",
      "converged:                       True   LL-Null:                       -81.648\n",
      "                                        LLR p-value:                       nan\n",
      "================================================================================\n",
      "                   coef    std err          z      P>|z|      [0.025      0.975]\n",
      "--------------------------------------------------------------------------------\n",
      "num_charters     0.3840      0.063      6.133      0.000       0.261       0.507\n",
      "================================================================================\n"
     ]
    }
   ],
   "source": [
    "m = Logit(df_final.mcr_binary, df_final.num_charters).fit()\n",
    "print(m.summary())"
   ]
  },
  {
   "cell_type": "markdown",
   "metadata": {},
   "source": [
    "## 4.3: K-Nearest Neighbor Analysis "
   ]
  },
  {
   "cell_type": "code",
   "execution_count": 74,
   "metadata": {},
   "outputs": [],
   "source": [
    "X = df_final.num_charters.values.reshape(-1, 1)\n",
    "y = df_final.mcr_ordinal.values.reshape(-1, )\n",
    "X_train, X_test, y_train, y_test = train_test_split(X, y, test_size = 0.30, random_state = rs, stratify = y)"
   ]
  },
  {
   "cell_type": "code",
   "execution_count": 75,
   "metadata": {},
   "outputs": [
    {
     "name": "stdout",
     "output_type": "stream",
     "text": [
      "Accuracy Score: 0.3787878787878788\n"
     ]
    }
   ],
   "source": [
    "k_neighbors_model = KNeighborsClassifier(n_neighbors = 1)\n",
    "k_neighbors_model.fit(X_train, y_train)\n",
    "predictions = k_neighbors_model.predict(X_test)\n",
    "print(\"Accuracy Score: {}\".format(k_neighbors_model.score(X_test, y_test)))"
   ]
  },
  {
   "cell_type": "code",
   "execution_count": 76,
   "metadata": {},
   "outputs": [
    {
     "data": {
      "image/png": "[encoded data removed]",
      "text/plain": [
       "<Figure size 864x288 with 1 Axes>"
      ]
     },
     "metadata": {
      "needs_background": "light"
     },
     "output_type": "display_data"
    }
   ],
   "source": [
    "prediction_df = pd.DataFrame({'x': X_test.reshape(-1, ), 'y': predictions})\n",
    "fig, ax = plt.subplots(figsize =(12, 4))\n",
    "for i in range(0, 4):\n",
    "    subset = prediction_df[prediction_df['y'] == i]\n",
    "    if i == 0:\n",
    "        color = 'blue'\n",
    "    elif i == 1: \n",
    "        color = 'red'\n",
    "    elif i == 2:\n",
    "        color = 'green'\n",
    "    else:\n",
    "        color = 'orange'\n",
    "    plt.scatter(subset.x, np.zeros(len(subset.x)), color = color, label = i)\n",
    "plt.legend(title = 'Most Common Rating Prediction',loc = 'lower right')\n",
    "plt.xlabel('Number of Charter Schools')\n",
    "plt.title('Predictions Made By K-Nearest Neighbors Classifier (n-neighbors = 1)')\n",
    "ax.set_yticks([]);"
   ]
  },
  {
   "cell_type": "code",
   "execution_count": 77,
   "metadata": {},
   "outputs": [
    {
     "data": {
      "image/png": "[encoded data removed]",
      "text/plain": [
       "<Figure size 864x720 with 1 Axes>"
      ]
     },
     "metadata": {
      "needs_background": "light"
     },
     "output_type": "display_data"
    }
   ],
   "source": [
    "plt.figure(figsize = (12, 10))\n",
    "prediction_df['y'].value_counts().plot.bar(alpha = 0.7)\n",
    "plt.xlabel('Most Common Rating Prediction')\n",
    "plt.ylabel('Count')\n",
    "plt.title('Most Common Rating Predicitons Histogram');"
   ]
  },
  {
   "cell_type": "code",
   "execution_count": 78,
   "metadata": {},
   "outputs": [],
   "source": [
    "X = df_final[['num_charters', 'pub_chtr_diff']].values\n",
    "y = df_final.mcr_ordinal.values.reshape(-1, )\n",
    "X_train, X_test, y_train, y_test = train_test_split(X, y, test_size = 0.3, random_state = rs, stratify = y)"
   ]
  },
  {
   "cell_type": "code",
   "execution_count": 79,
   "metadata": {},
   "outputs": [
    {
     "name": "stdout",
     "output_type": "stream",
     "text": [
      "Accuracy Score: 0.5606060606060606\n"
     ]
    }
   ],
   "source": [
    "k_neighbors_model = KNeighborsClassifier(n_neighbors = 1)\n",
    "k_neighbors_model.fit(X_train, y_train)\n",
    "predictions = k_neighbors_model.predict(X_test)\n",
    "print(\"Accuracy Score: {}\".format(k_neighbors_model.score(X_test, y_test)))"
   ]
  },
  {
   "cell_type": "code",
   "execution_count": 80,
   "metadata": {},
   "outputs": [
    {
     "data": {
      "image/png": "[encoded data removed]",
      "text/plain": [
       "<Figure size 864x720 with 1 Axes>"
      ]
     },
     "metadata": {
      "needs_background": "light"
     },
     "output_type": "display_data"
    }
   ],
   "source": [
    "df_predictions = pd.DataFrame(X_test)\n",
    "df_predictions['y'] = predictions\n",
    "df_predictions.columns = ['x1', 'x2', 'y']\n",
    "plt.figure(figsize = (12, 10))\n",
    "for i in range(0, 4):\n",
    "    subset = df_predictions[df_predictions['y'] == i]\n",
    "    if i == 0:\n",
    "        color = 'blue'\n",
    "    elif i == 1: \n",
    "        color = 'red'\n",
    "    elif i == 2:\n",
    "        color = 'green'\n",
    "    else:\n",
    "        color = 'orange'\n",
    "    plt.scatter(subset.x1, subset.x2, color = color, label = i)\n",
    "    plt.legend(title = 'Most Common Rating Prediction')\n",
    "    plt.xlabel('Number of Charter Schools')\n",
    "    plt.ylabel('Difference Between Number of Public Schools and Number of Charter Schools ')\n",
    "    plt.title('K-Nearest Neighbor ')"
   ]
  },
  {
   "cell_type": "code",
   "execution_count": 81,
   "metadata": {},
   "outputs": [
    {
     "data": {
      "image/png": "[encoded data removed]",
      "text/plain": [
       "<Figure size 864x720 with 1 Axes>"
      ]
     },
     "metadata": {
      "needs_background": "light"
     },
     "output_type": "display_data"
    }
   ],
   "source": [
    "plt.figure(figsize = (12, 10))\n",
    "max_n = 15\n",
    "neighbors = np.arange(1, max_n+1)\n",
    "train_scores = np.empty(len(neighbors))\n",
    "test_scores = np.empty(len(neighbors))\n",
    "for i, k in enumerate(neighbors):\n",
    "    knn_tmp = KNeighborsClassifier(n_neighbors = k)\n",
    "    knn_tmp.fit(X_train, y_train)\n",
    "    train_scores[i] = knn_tmp.score(X_train, y_train)\n",
    "    test_scores[i] = knn_tmp.score(X_test, y_test)\n",
    "\n",
    "plt.plot(neighbors, train_scores, label = 'Training Set Performance')\n",
    "plt.plot(neighbors, test_scores, label = 'Test Set Performance')\n",
    "plt.legend(loc='upper right')\n",
    "plt.xlabel('Neighbors (n)')\n",
    "plt.ylabel('Accuracy Score')\n",
    "plt.title('Comparison of Train/Test Data Set Performance With Different Number of Neighbors');\n",
    "    "
   ]
  },
  {
   "cell_type": "code",
   "execution_count": 82,
   "metadata": {},
   "outputs": [
    {
     "name": "stdout",
     "output_type": "stream",
     "text": [
      "Accuracy Score: 0.5303030303030303\n"
     ]
    }
   ],
   "source": [
    "k_neighbors_model = KNeighborsClassifier(n_neighbors = 2)\n",
    "k_neighbors_model.fit(X_train, y_train)\n",
    "predictions = k_neighbors_model.predict(X_test)\n",
    "print(\"Accuracy Score: {}\".format(k_neighbors_model.score(X_test, y_test)))"
   ]
  },
  {
   "cell_type": "code",
   "execution_count": 83,
   "metadata": {},
   "outputs": [
    {
     "data": {
      "image/png": "[encoded data removed]",
      "text/plain": [
       "<Figure size 864x720 with 1 Axes>"
      ]
     },
     "metadata": {
      "needs_background": "light"
     },
     "output_type": "display_data"
    }
   ],
   "source": [
    "df_predictions = pd.DataFrame(X_test)\n",
    "df_predictions['y'] = predictions\n",
    "df_predictions.columns = ['x1', 'x2', 'y']\n",
    "plt.figure(figsize = (12, 10))\n",
    "for i in range(0, 4):\n",
    "    subset = df_predictions[df_predictions['y'] == i]\n",
    "    if i == 0:\n",
    "        color = 'blue'\n",
    "    elif i == 1: \n",
    "        color = 'red'\n",
    "    elif i == 2:\n",
    "        color = 'green'\n",
    "    else:\n",
    "        color = 'orange'\n",
    "    plt.scatter(subset.x1, subset.x2, color = color, label = i)\n",
    "    plt.legend(title = 'Most Common Rating Prediction')\n",
    "    plt.xlabel('Number of Charter Schools')\n",
    "    plt.ylabel('Difference Between Number of Public Schools and Number of Charter Schools ')\n",
    "    plt.title('K-Nearest Neighbor ')"
   ]
  },
  {
   "cell_type": "markdown",
   "metadata": {},
   "source": [
    "----------------------------------------"
   ]
  },
  {
   "cell_type": "code",
   "execution_count": null,
   "metadata": {},
   "outputs": [],
   "source": []
  },
  {
   "cell_type": "code",
   "execution_count": null,
   "metadata": {},
   "outputs": [],
   "source": []
  },
  {
   "cell_type": "code",
   "execution_count": null,
   "metadata": {},
   "outputs": [],
   "source": []
  },
  {
   "cell_type": "code",
   "execution_count": 84,
   "metadata": {},
   "outputs": [
    {
     "data": {
      "text/html": [
       "<div>\n",
       "<style scoped>\n",
       "    .dataframe tbody tr th:only-of-type {\n",
       "        vertical-align: middle;\n",
       "    }\n",
       "\n",
       "    .dataframe tbody tr th {\n",
       "        vertical-align: top;\n",
       "    }\n",
       "\n",
       "    .dataframe thead th {\n",
       "        text-align: right;\n",
       "    }\n",
       "</style>\n",
       "<table border=\"1\" class=\"dataframe\">\n",
       "  <thead>\n",
       "    <tr style=\"text-align: right;\">\n",
       "      <th></th>\n",
       "      <th>_progress_report_grade_1</th>\n",
       "      <th>_progress_report_grade_2</th>\n",
       "      <th>_progress_report_grade_3</th>\n",
       "      <th>_progress_report_grade_4</th>\n",
       "      <th>bn</th>\n",
       "      <th>progress_report_type</th>\n",
       "      <th>school_name</th>\n",
       "    </tr>\n",
       "  </thead>\n",
       "  <tbody>\n",
       "    <tr>\n",
       "      <th>0</th>\n",
       "      <td>C</td>\n",
       "      <td>A</td>\n",
       "      <td>B</td>\n",
       "      <td>B</td>\n",
       "      <td>K001</td>\n",
       "      <td>EMS</td>\n",
       "      <td>P.S. 001 The Bergen</td>\n",
       "    </tr>\n",
       "    <tr>\n",
       "      <th>1</th>\n",
       "      <td>B</td>\n",
       "      <td>A</td>\n",
       "      <td>A</td>\n",
       "      <td>B</td>\n",
       "      <td>K002</td>\n",
       "      <td>EMS</td>\n",
       "      <td>M.S. 002</td>\n",
       "    </tr>\n",
       "    <tr>\n",
       "      <th>2</th>\n",
       "      <td>C</td>\n",
       "      <td>A</td>\n",
       "      <td>A</td>\n",
       "      <td>C</td>\n",
       "      <td>K003</td>\n",
       "      <td>EMS</td>\n",
       "      <td>P.S. 003 The Bedford Village</td>\n",
       "    </tr>\n",
       "    <tr>\n",
       "      <th>3</th>\n",
       "      <td>B</td>\n",
       "      <td>A</td>\n",
       "      <td>A</td>\n",
       "      <td>F</td>\n",
       "      <td>K005</td>\n",
       "      <td>EMS</td>\n",
       "      <td>P.S. 005 Dr. Ronald Mcnair</td>\n",
       "    </tr>\n",
       "    <tr>\n",
       "      <th>4</th>\n",
       "      <td>B</td>\n",
       "      <td>A</td>\n",
       "      <td>A</td>\n",
       "      <td>B</td>\n",
       "      <td>K006</td>\n",
       "      <td>EMS</td>\n",
       "      <td>P.S. 006</td>\n",
       "    </tr>\n",
       "  </tbody>\n",
       "</table>\n",
       "</div>"
      ],
      "text/plain": [
       "  _progress_report_grade_1 _progress_report_grade_2 _progress_report_grade_3  \\\n",
       "0                        C                        A                        B   \n",
       "1                        B                        A                        A   \n",
       "2                        C                        A                        A   \n",
       "3                        B                        A                        A   \n",
       "4                        B                        A                        A   \n",
       "\n",
       "  _progress_report_grade_4    bn progress_report_type  \\\n",
       "0                        B  K001                  EMS   \n",
       "1                        B  K002                  EMS   \n",
       "2                        C  K003                  EMS   \n",
       "3                        F  K005                  EMS   \n",
       "4                        B  K006                  EMS   \n",
       "\n",
       "                    school_name  \n",
       "0           P.S. 001 The Bergen  \n",
       "1                      M.S. 002  \n",
       "2  P.S. 003 The Bedford Village  \n",
       "3    P.S. 005 Dr. Ronald Mcnair  \n",
       "4                      P.S. 006  "
      ]
     },
     "execution_count": 84,
     "metadata": {},
     "output_type": "execute_result"
    }
   ],
   "source": [
    "row_limit = '10000'\n",
    "cols = 'BN,school_year,overall_rating'\n",
    "SoQL_query = '&$select=' + cols\n",
    "r = rq.get('https://data.cityofnewyork.us/resource/rwa3-b3wr.json?$limit=' + row_limit)\n",
    "public_schools =  pd.DataFrame(r.json())\n",
    "public_schools.head()"
   ]
  },
  {
   "cell_type": "code",
   "execution_count": 85,
   "metadata": {},
   "outputs": [
    {
     "data": {
      "text/html": [
       "<div>\n",
       "<style scoped>\n",
       "    .dataframe tbody tr th:only-of-type {\n",
       "        vertical-align: middle;\n",
       "    }\n",
       "\n",
       "    .dataframe tbody tr th {\n",
       "        vertical-align: top;\n",
       "    }\n",
       "\n",
       "    .dataframe thead th {\n",
       "        text-align: right;\n",
       "    }\n",
       "</style>\n",
       "<table border=\"1\" class=\"dataframe\">\n",
       "  <thead>\n",
       "    <tr style=\"text-align: right;\">\n",
       "      <th></th>\n",
       "      <th>_progress_report_grade_1</th>\n",
       "      <th>_progress_report_grade_2</th>\n",
       "      <th>_progress_report_grade_3</th>\n",
       "      <th>_progress_report_grade_4</th>\n",
       "      <th>bn</th>\n",
       "      <th>progress_report_type</th>\n",
       "      <th>school_name</th>\n",
       "      <th>borough</th>\n",
       "      <th>number</th>\n",
       "    </tr>\n",
       "  </thead>\n",
       "  <tbody>\n",
       "    <tr>\n",
       "      <th>0</th>\n",
       "      <td>C</td>\n",
       "      <td>A</td>\n",
       "      <td>B</td>\n",
       "      <td>B</td>\n",
       "      <td>K001</td>\n",
       "      <td>EMS</td>\n",
       "      <td>P.S. 001 The Bergen</td>\n",
       "      <td>Brooklyn</td>\n",
       "      <td>1</td>\n",
       "    </tr>\n",
       "    <tr>\n",
       "      <th>1</th>\n",
       "      <td>B</td>\n",
       "      <td>A</td>\n",
       "      <td>A</td>\n",
       "      <td>B</td>\n",
       "      <td>K002</td>\n",
       "      <td>EMS</td>\n",
       "      <td>M.S. 002</td>\n",
       "      <td>Brooklyn</td>\n",
       "      <td>2</td>\n",
       "    </tr>\n",
       "    <tr>\n",
       "      <th>2</th>\n",
       "      <td>C</td>\n",
       "      <td>A</td>\n",
       "      <td>A</td>\n",
       "      <td>C</td>\n",
       "      <td>K003</td>\n",
       "      <td>EMS</td>\n",
       "      <td>P.S. 003 The Bedford Village</td>\n",
       "      <td>Brooklyn</td>\n",
       "      <td>3</td>\n",
       "    </tr>\n",
       "    <tr>\n",
       "      <th>3</th>\n",
       "      <td>B</td>\n",
       "      <td>A</td>\n",
       "      <td>A</td>\n",
       "      <td>F</td>\n",
       "      <td>K005</td>\n",
       "      <td>EMS</td>\n",
       "      <td>P.S. 005 Dr. Ronald Mcnair</td>\n",
       "      <td>Brooklyn</td>\n",
       "      <td>5</td>\n",
       "    </tr>\n",
       "    <tr>\n",
       "      <th>4</th>\n",
       "      <td>B</td>\n",
       "      <td>A</td>\n",
       "      <td>A</td>\n",
       "      <td>B</td>\n",
       "      <td>K006</td>\n",
       "      <td>EMS</td>\n",
       "      <td>P.S. 006</td>\n",
       "      <td>Brooklyn</td>\n",
       "      <td>6</td>\n",
       "    </tr>\n",
       "  </tbody>\n",
       "</table>\n",
       "</div>"
      ],
      "text/plain": [
       "  _progress_report_grade_1 _progress_report_grade_2 _progress_report_grade_3  \\\n",
       "0                        C                        A                        B   \n",
       "1                        B                        A                        A   \n",
       "2                        C                        A                        A   \n",
       "3                        B                        A                        A   \n",
       "4                        B                        A                        A   \n",
       "\n",
       "  _progress_report_grade_4    bn progress_report_type  \\\n",
       "0                        B  K001                  EMS   \n",
       "1                        B  K002                  EMS   \n",
       "2                        C  K003                  EMS   \n",
       "3                        F  K005                  EMS   \n",
       "4                        B  K006                  EMS   \n",
       "\n",
       "                    school_name   borough  number  \n",
       "0           P.S. 001 The Bergen  Brooklyn       1  \n",
       "1                      M.S. 002  Brooklyn       2  \n",
       "2  P.S. 003 The Bedford Village  Brooklyn       3  \n",
       "3    P.S. 005 Dr. Ronald Mcnair  Brooklyn       5  \n",
       "4                      P.S. 006  Brooklyn       6  "
      ]
     },
     "execution_count": 85,
     "metadata": {},
     "output_type": "execute_result"
    }
   ],
   "source": [
    "public_schools[['borough', 'number']] = public_schools.apply(  \n",
    "    lambda row: pd.Series(separate_dbn_or_bn(row['bn'])), axis = 1)\n",
    "public_schools.head()"
   ]
  },
  {
   "cell_type": "code",
   "execution_count": 86,
   "metadata": {},
   "outputs": [
    {
     "data": {
      "text/html": [
       "<div>\n",
       "<style scoped>\n",
       "    .dataframe tbody tr th:only-of-type {\n",
       "        vertical-align: middle;\n",
       "    }\n",
       "\n",
       "    .dataframe tbody tr th {\n",
       "        vertical-align: top;\n",
       "    }\n",
       "\n",
       "    .dataframe thead th {\n",
       "        text-align: right;\n",
       "    }\n",
       "</style>\n",
       "<table border=\"1\" class=\"dataframe\">\n",
       "  <thead>\n",
       "    <tr style=\"text-align: right;\">\n",
       "      <th></th>\n",
       "      <th>_progress_report_grade_1</th>\n",
       "      <th>_progress_report_grade_2</th>\n",
       "      <th>_progress_report_grade_3</th>\n",
       "      <th>_progress_report_grade_4</th>\n",
       "      <th>bn</th>\n",
       "      <th>borough</th>\n",
       "      <th>number</th>\n",
       "    </tr>\n",
       "  </thead>\n",
       "  <tbody>\n",
       "    <tr>\n",
       "      <th>0</th>\n",
       "      <td>C</td>\n",
       "      <td>A</td>\n",
       "      <td>B</td>\n",
       "      <td>B</td>\n",
       "      <td>K001</td>\n",
       "      <td>Brooklyn</td>\n",
       "      <td>1</td>\n",
       "    </tr>\n",
       "    <tr>\n",
       "      <th>1</th>\n",
       "      <td>B</td>\n",
       "      <td>A</td>\n",
       "      <td>A</td>\n",
       "      <td>B</td>\n",
       "      <td>K002</td>\n",
       "      <td>Brooklyn</td>\n",
       "      <td>2</td>\n",
       "    </tr>\n",
       "    <tr>\n",
       "      <th>2</th>\n",
       "      <td>C</td>\n",
       "      <td>A</td>\n",
       "      <td>A</td>\n",
       "      <td>C</td>\n",
       "      <td>K003</td>\n",
       "      <td>Brooklyn</td>\n",
       "      <td>3</td>\n",
       "    </tr>\n",
       "    <tr>\n",
       "      <th>3</th>\n",
       "      <td>B</td>\n",
       "      <td>A</td>\n",
       "      <td>A</td>\n",
       "      <td>F</td>\n",
       "      <td>K005</td>\n",
       "      <td>Brooklyn</td>\n",
       "      <td>5</td>\n",
       "    </tr>\n",
       "    <tr>\n",
       "      <th>4</th>\n",
       "      <td>B</td>\n",
       "      <td>A</td>\n",
       "      <td>A</td>\n",
       "      <td>B</td>\n",
       "      <td>K006</td>\n",
       "      <td>Brooklyn</td>\n",
       "      <td>6</td>\n",
       "    </tr>\n",
       "  </tbody>\n",
       "</table>\n",
       "</div>"
      ],
      "text/plain": [
       "  _progress_report_grade_1 _progress_report_grade_2 _progress_report_grade_3  \\\n",
       "0                        C                        A                        B   \n",
       "1                        B                        A                        A   \n",
       "2                        C                        A                        A   \n",
       "3                        B                        A                        A   \n",
       "4                        B                        A                        A   \n",
       "\n",
       "  _progress_report_grade_4    bn   borough  number  \n",
       "0                        B  K001  Brooklyn       1  \n",
       "1                        B  K002  Brooklyn       2  \n",
       "2                        C  K003  Brooklyn       3  \n",
       "3                        F  K005  Brooklyn       5  \n",
       "4                        B  K006  Brooklyn       6  "
      ]
     },
     "execution_count": 86,
     "metadata": {},
     "output_type": "execute_result"
    }
   ],
   "source": [
    "public_schools = public_schools.drop(columns = ['progress_report_type', 'school_name'])\n",
    "public_schools.head()"
   ]
  },
  {
   "cell_type": "code",
   "execution_count": 87,
   "metadata": {},
   "outputs": [
    {
     "data": {
      "text/html": [
       "<div>\n",
       "<style scoped>\n",
       "    .dataframe tbody tr th:only-of-type {\n",
       "        vertical-align: middle;\n",
       "    }\n",
       "\n",
       "    .dataframe tbody tr th {\n",
       "        vertical-align: top;\n",
       "    }\n",
       "\n",
       "    .dataframe thead th {\n",
       "        text-align: right;\n",
       "    }\n",
       "</style>\n",
       "<table border=\"1\" class=\"dataframe\">\n",
       "  <thead>\n",
       "    <tr style=\"text-align: right;\">\n",
       "      <th></th>\n",
       "      <th>2009_grade</th>\n",
       "      <th>2008_grade</th>\n",
       "      <th>2007_grade</th>\n",
       "      <th>2006_grade</th>\n",
       "      <th>bn</th>\n",
       "      <th>borough</th>\n",
       "      <th>number</th>\n",
       "    </tr>\n",
       "  </thead>\n",
       "  <tbody>\n",
       "    <tr>\n",
       "      <th>0</th>\n",
       "      <td>C</td>\n",
       "      <td>A</td>\n",
       "      <td>B</td>\n",
       "      <td>B</td>\n",
       "      <td>K001</td>\n",
       "      <td>Brooklyn</td>\n",
       "      <td>1</td>\n",
       "    </tr>\n",
       "    <tr>\n",
       "      <th>1</th>\n",
       "      <td>B</td>\n",
       "      <td>A</td>\n",
       "      <td>A</td>\n",
       "      <td>B</td>\n",
       "      <td>K002</td>\n",
       "      <td>Brooklyn</td>\n",
       "      <td>2</td>\n",
       "    </tr>\n",
       "    <tr>\n",
       "      <th>2</th>\n",
       "      <td>C</td>\n",
       "      <td>A</td>\n",
       "      <td>A</td>\n",
       "      <td>C</td>\n",
       "      <td>K003</td>\n",
       "      <td>Brooklyn</td>\n",
       "      <td>3</td>\n",
       "    </tr>\n",
       "    <tr>\n",
       "      <th>3</th>\n",
       "      <td>B</td>\n",
       "      <td>A</td>\n",
       "      <td>A</td>\n",
       "      <td>F</td>\n",
       "      <td>K005</td>\n",
       "      <td>Brooklyn</td>\n",
       "      <td>5</td>\n",
       "    </tr>\n",
       "    <tr>\n",
       "      <th>4</th>\n",
       "      <td>B</td>\n",
       "      <td>A</td>\n",
       "      <td>A</td>\n",
       "      <td>B</td>\n",
       "      <td>K006</td>\n",
       "      <td>Brooklyn</td>\n",
       "      <td>6</td>\n",
       "    </tr>\n",
       "  </tbody>\n",
       "</table>\n",
       "</div>"
      ],
      "text/plain": [
       "  2009_grade 2008_grade 2007_grade 2006_grade    bn   borough  number\n",
       "0          C          A          B          B  K001  Brooklyn       1\n",
       "1          B          A          A          B  K002  Brooklyn       2\n",
       "2          C          A          A          C  K003  Brooklyn       3\n",
       "3          B          A          A          F  K005  Brooklyn       5\n",
       "4          B          A          A          B  K006  Brooklyn       6"
      ]
     },
     "execution_count": 87,
     "metadata": {},
     "output_type": "execute_result"
    }
   ],
   "source": [
    "public_schools.columns = ['2009_grade', '2008_grade', '2007_grade', '2006_grade', 'bn', 'borough', 'number']\n",
    "public_schools.head()"
   ]
  },
  {
   "cell_type": "code",
   "execution_count": null,
   "metadata": {},
   "outputs": [],
   "source": []
  }
 ],
 "metadata": {
  "kernelspec": {
   "display_name": "Python 3",
   "language": "python",
   "name": "python3"
  },
  "language_info": {
   "codemirror_mode": {
    "name": "ipython",
    "version": 3
   },
   "file_extension": ".py",
   "mimetype": "text/x-python",
   "name": "python",
   "nbconvert_exporter": "python",
   "pygments_lexer": "ipython3",
   "version": "3.7.1"
  }
 },
 "nbformat": 4,
 "nbformat_minor": 2
}
