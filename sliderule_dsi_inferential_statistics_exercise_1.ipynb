{
 "cells": [
  {
   "cell_type": "markdown",
   "metadata": {},
   "source": [
    "# What is the True Normal Human Body Temperature? \n",
    "\n",
    "#### Background\n",
    "\n",
    "The mean normal body temperature was held to be 37$^{\\circ}$C or 98.6$^{\\circ}$F for more than 120 years since it was first conceptualized and reported by Carl Wunderlich in a famous 1868 book. But, is this value statistically correct?"
   ]
  },
  {
   "cell_type": "markdown",
   "metadata": {},
   "source": [
    "<h3>Exercises</h3>\n",
    "\n",
    "<p>In this exercise, you will analyze a dataset of human body temperatures and employ the concepts of hypothesis testing, confidence intervals, and statistical significance.</p>\n",
    "\n",
    "<p>Answer the following questions <b>in this notebook below and submit to your Github account</b>.</p> \n",
    "\n",
    "<ol>\n",
    "<li>  Is the distribution of body temperatures normal? \n",
    "    <ul>\n",
    "    <li> Although this is not a requirement for the Central Limit Theorem to hold (read the introduction on Wikipedia's page about the CLT carefully: https://en.wikipedia.org/wiki/Central_limit_theorem), it gives us some peace of mind that the population may also be normally distributed if we assume that this sample is representative of the population.\n",
    "    <li> Think about the way you're going to check for the normality of the distribution. Graphical methods are usually used first, but there are also other ways: https://en.wikipedia.org/wiki/Normality_test\n",
    "    </ul>\n",
    "<li>  Is the sample size large? Are the observations independent?\n",
    "    <ul>\n",
    "    <li> Remember that this is a condition for the Central Limit Theorem, and hence the statistical tests we are using, to apply.\n",
    "    </ul>\n",
    "<li>  Is the true population mean really 98.6 degrees F?\n",
    "    <ul>\n",
    "    <li> First, try a bootstrap hypothesis test.\n",
    "    <li> Now, let's try frequentist statistical testing. Would you use a one-sample or two-sample test? Why?\n",
    "    <li> In this situation, is it appropriate to use the $t$ or $z$ statistic? \n",
    "    <li> Now try using the other test. How is the result be different? Why?\n",
    "    </ul>\n",
    "<li>  Draw a small sample of size 10 from the data and repeat both frequentist tests. \n",
    "    <ul>\n",
    "    <li> Which one is the correct one to use? \n",
    "    <li> What do you notice? What does this tell you about the difference in application of the $t$ and $z$ statistic?\n",
    "    </ul>\n",
    "<li>  At what temperature should we consider someone's temperature to be \"abnormal\"?\n",
    "    <ul>\n",
    "    <li> As in the previous example, try calculating everything using the boostrap approach, as well as the frequentist approach.\n",
    "    <li> Start by computing the margin of error and confidence interval. When calculating the confidence interval, keep in mind that you should use the appropriate formula for one draw, and not N draws.\n",
    "    </ul>\n",
    "<li>  Is there a significant difference between males and females in normal temperature?\n",
    "    <ul>\n",
    "    <li> What testing approach did you use and why?\n",
    "    <li> Write a story with your conclusion in the context of the original problem.\n",
    "    </ul>\n",
    "</ol>\n",
    "\n",
    "You can include written notes in notebook cells using Markdown: \n",
    "   - In the control panel at the top, choose Cell > Cell Type > Markdown\n",
    "   - Markdown syntax: http://nestacms.com/docs/creating-content/markdown-cheat-sheet\n",
    "\n",
    "#### Resources\n",
    "\n",
    "+ Information and data sources: http://www.amstat.org/publications/jse/datasets/normtemp.txt, http://www.amstat.org/publications/jse/jse_data_archive.htm\n",
    "+ Markdown syntax: http://nestacms.com/docs/creating-content/markdown-cheat-sheet\n",
    "\n",
    "****"
   ]
  },
  {
   "cell_type": "code",
   "execution_count": 1,
   "metadata": {},
   "outputs": [],
   "source": [
    "import pandas as pd\n",
    "import numpy as np\n",
    "import seaborn as sns\n",
    "import matplotlib.pyplot as plt\n",
    "from scipy import stats\n",
    "\n",
    "sns.set()"
   ]
  },
  {
   "cell_type": "code",
   "execution_count": 2,
   "metadata": {},
   "outputs": [],
   "source": [
    "def create_bootstrap_replicate(data, func):\n",
    "    \"\"\"Create one bootstrap replicate from a data set using a given function.\"\"\"\n",
    "    replicate = func(np.random.choice(data, size=len(data)))\n",
    "    return replicate\n",
    "\n",
    "def bootstrap_hypothesis_test(data, func, size=1):\n",
    "    \"\"\"Retrun an array of bootstrap replicates with given size and function. \"\"\"\n",
    "    bs_replicates = np.empty(size)\n",
    "    for i in range(size):\n",
    "        bs_replicates[i] = create_bootstrap_replicate(data, func)\n",
    "    return bs_replicates\n",
    "\n",
    "def ecdf(data):\n",
    "    \"\"\"Compute ECDF for a given set of data.\"\"\"\n",
    "    n = len(data)\n",
    "    x = np.sort(data)\n",
    "    y = np.arange(1, n+1) / n\n",
    "    return x, y"
   ]
  },
  {
   "cell_type": "code",
   "execution_count": 3,
   "metadata": {},
   "outputs": [
    {
     "data": {
      "text/html": [
       "<div>\n",
       "<style scoped>\n",
       "    .dataframe tbody tr th:only-of-type {\n",
       "        vertical-align: middle;\n",
       "    }\n",
       "\n",
       "    .dataframe tbody tr th {\n",
       "        vertical-align: top;\n",
       "    }\n",
       "\n",
       "    .dataframe thead th {\n",
       "        text-align: right;\n",
       "    }\n",
       "</style>\n",
       "<table border=\"1\" class=\"dataframe\">\n",
       "  <thead>\n",
       "    <tr style=\"text-align: right;\">\n",
       "      <th></th>\n",
       "      <th>temperature</th>\n",
       "      <th>gender</th>\n",
       "      <th>heart_rate</th>\n",
       "    </tr>\n",
       "  </thead>\n",
       "  <tbody>\n",
       "    <tr>\n",
       "      <th>0</th>\n",
       "      <td>99.3</td>\n",
       "      <td>F</td>\n",
       "      <td>68.0</td>\n",
       "    </tr>\n",
       "    <tr>\n",
       "      <th>1</th>\n",
       "      <td>98.4</td>\n",
       "      <td>F</td>\n",
       "      <td>81.0</td>\n",
       "    </tr>\n",
       "    <tr>\n",
       "      <th>2</th>\n",
       "      <td>97.8</td>\n",
       "      <td>M</td>\n",
       "      <td>73.0</td>\n",
       "    </tr>\n",
       "    <tr>\n",
       "      <th>3</th>\n",
       "      <td>99.2</td>\n",
       "      <td>F</td>\n",
       "      <td>66.0</td>\n",
       "    </tr>\n",
       "    <tr>\n",
       "      <th>4</th>\n",
       "      <td>98.0</td>\n",
       "      <td>F</td>\n",
       "      <td>73.0</td>\n",
       "    </tr>\n",
       "  </tbody>\n",
       "</table>\n",
       "</div>"
      ],
      "text/plain": [
       "   temperature gender  heart_rate\n",
       "0         99.3      F        68.0\n",
       "1         98.4      F        81.0\n",
       "2         97.8      M        73.0\n",
       "3         99.2      F        66.0\n",
       "4         98.0      F        73.0"
      ]
     },
     "execution_count": 3,
     "metadata": {},
     "output_type": "execute_result"
    }
   ],
   "source": [
    "df = pd.read_csv('data/human_body_temperature.csv')\n",
    "df.head()"
   ]
  },
  {
   "cell_type": "markdown",
   "metadata": {},
   "source": [
    "# Question 1\n",
    "***Is the distribution of body temperatures normal?***"
   ]
  },
  {
   "cell_type": "code",
   "execution_count": 4,
   "metadata": {},
   "outputs": [
    {
     "data": {
      "image/png": "[encoded data removed]",
      "text/plain": [
       "<Figure size 432x288 with 1 Axes>"
      ]
     },
     "metadata": {
      "needs_background": "light"
     },
     "output_type": "display_data"
    }
   ],
   "source": [
    "# To check for normality visaully, first view a histogram of the temperature data.\n",
    "temp_mean = df['temperature'].mean()\n",
    "temp_std = df['temperature'].std()\n",
    "sorted_temps = df['temperature'].sort_values()\n",
    "normal_fit = stats.norm.pdf(sorted_temps, temp_mean, temp_std)\n",
    "n_rows = len(df.index)\n",
    "n_bins = int(np.sqrt(n_rows))\n",
    "plt.hist(df['temperature'], bins = n_bins, density = True)\n",
    "plt.plot(sorted_temps, normal_fit)\n",
    "plt.xlabel(\"Temperature (F)\")\n",
    "plt.ylabel(\"Probability Density\")\n",
    "plt.show()"
   ]
  },
  {
   "cell_type": "code",
   "execution_count": 5,
   "metadata": {},
   "outputs": [
    {
     "name": "stdout",
     "output_type": "stream",
     "text": [
      "Using Shapiro-Wilk Test: p = 0.233175\n",
      "Using Kolmorgorov-Smirnov Test: p = 0.645031\n",
      "Using D'Agostino-Pearson Test: p = 0.258748\n"
     ]
    }
   ],
   "source": [
    "# Data looks pretty normal, but let's check to be sure. \n",
    "_, SW_pval = stats.shapiro(df.temperature) # Shapiro-Wilk Test\n",
    "_, KS_pval = stats.kstest(df.temperature, 'norm', args=(temp_mean, temp_std)) # Kolmorgorov-Smirnov Test\n",
    "_, DP_pval = stats.normaltest(df.temperature) # D'Agostino-Pearson Test\n",
    "print(\"Using Shapiro-Wilk Test: p = %f\" % SW_pval)\n",
    "print(\"Using Kolmorgorov-Smirnov Test: p = %f\" % KS_pval)\n",
    "print(\"Using D'Agostino-Pearson Test: p = %f\" % DP_pval)"
   ]
  },
  {
   "cell_type": "markdown",
   "metadata": {},
   "source": [
    "For each test, the *p* values are > 0.05. As a result we can confirm the null hypothesis and assume that the distribution of temperatures is normal"
   ]
  },
  {
   "cell_type": "markdown",
   "metadata": {},
   "source": [
    "# Question 2\n",
    "\n",
    "***Is the sample size large? Are the observations independent?***"
   ]
  },
  {
   "cell_type": "code",
   "execution_count": 6,
   "metadata": {},
   "outputs": [
    {
     "data": {
      "text/html": [
       "<div>\n",
       "<style scoped>\n",
       "    .dataframe tbody tr th:only-of-type {\n",
       "        vertical-align: middle;\n",
       "    }\n",
       "\n",
       "    .dataframe tbody tr th {\n",
       "        vertical-align: top;\n",
       "    }\n",
       "\n",
       "    .dataframe thead th {\n",
       "        text-align: right;\n",
       "    }\n",
       "</style>\n",
       "<table border=\"1\" class=\"dataframe\">\n",
       "  <thead>\n",
       "    <tr style=\"text-align: right;\">\n",
       "      <th></th>\n",
       "      <th>temperature</th>\n",
       "      <th>heart_rate</th>\n",
       "    </tr>\n",
       "    <tr>\n",
       "      <th>gender</th>\n",
       "      <th></th>\n",
       "      <th></th>\n",
       "    </tr>\n",
       "  </thead>\n",
       "  <tbody>\n",
       "    <tr>\n",
       "      <th>F</th>\n",
       "      <td>65</td>\n",
       "      <td>65</td>\n",
       "    </tr>\n",
       "    <tr>\n",
       "      <th>M</th>\n",
       "      <td>65</td>\n",
       "      <td>65</td>\n",
       "    </tr>\n",
       "  </tbody>\n",
       "</table>\n",
       "</div>"
      ],
      "text/plain": [
       "        temperature  heart_rate\n",
       "gender                         \n",
       "F                65          65\n",
       "M                65          65"
      ]
     },
     "execution_count": 6,
     "metadata": {},
     "output_type": "execute_result"
    }
   ],
   "source": [
    "df.groupby('gender').count()"
   ]
  },
  {
   "cell_type": "markdown",
   "metadata": {},
   "source": [
    "The general rule of thumb is that if n > 30, the central limit theorem will apply. Because the sample in this case is n = 65 + 65 = 130.  we CAN assume that the central limit theorem will apply in this case. We can also rule out any gender bias because the sample population is split evenly among men and women (65 men, 65 women). Furthermore, size of the subpopulations for men and women both exceed 30. \n",
    "\n",
    "\n",
    "We can also assume that each of these observations are independent, due to the fact that a sample size of 130 is definitely less than 10% of entire population of men and women."
   ]
  },
  {
   "cell_type": "markdown",
   "metadata": {},
   "source": [
    "# Question 3\n",
    "***Is the true population mean really 98.6 degrees F?***\n"
   ]
  },
  {
   "cell_type": "code",
   "execution_count": 7,
   "metadata": {},
   "outputs": [
    {
     "data": {
      "image/png": "[encoded data removed]",
      "text/plain": [
       "<Figure size 432x288 with 1 Axes>"
      ]
     },
     "metadata": {
      "needs_background": "light"
     },
     "output_type": "display_data"
    },
    {
     "name": "stdout",
     "output_type": "stream",
     "text": [
      "mean temperature from dataset: 98.249231\n",
      "p-value for bootstrap hypothesis test: 0.000000\n"
     ]
    }
   ],
   "source": [
    "# First, we do a bootsrap hypothesis test:\n",
    "# Null hypothesis: The true mean of human body temperature is 98.6 degrees. \n",
    "temps = df['temperature'].values\n",
    "temp_mean = np.mean(temps)\n",
    "shifted_temps = temps - temp_mean + 98.6\n",
    "mean_temp_bs_reps = bootstrap_hypothesis_test(shifted_temps, np.mean, size = 10000)\n",
    "p = np.sum(mean_temp_bs_reps <= temp_mean) / len(mean_temp_bs_reps)\n",
    "_ = plt.hist(mean_temp_bs_reps, bins = 100)\n",
    "_ = plt.xlabel('Mean Temperature')\n",
    "_ = plt.ylabel('Count')\n",
    "plt.show()\n",
    "print('mean temperature from dataset: %f' %temp_mean)\n",
    "print('p-value for bootstrap hypothesis test: %f' % p)"
   ]
  },
  {
   "cell_type": "markdown",
   "metadata": {},
   "source": [
    "The result of the bootstrap hypothesis test shown above show that there was not one bootstrap replicate that had a mean less than the actual mean from the data set (approximately 98.25). As such, the bootstrap hypothesis test resulted in a p value of 0. This means that we can reject the null hypothesis, and conclude that is it extremely unlikely that we would generate this data set if the actual mean body temperature is 98.6 degrees. "
   ]
  },
  {
   "cell_type": "markdown",
   "metadata": {},
   "source": [
    "***Now, let's try frequentist statistical testing. Would you use a one-sample or two-sample test? Why?***\n",
    "\n",
    "Since we are comparing a dataset to a single value (the supposed human body temperature mean of 98.6 degrees), we should complete a one sample test\n",
    "\n",
    "***In this situation, is it appropriate to use the  𝑡  or  𝑧  statistic?***\n",
    "\n",
    "Well, in order to calculate the z statistic we would need the standard deviation of the mean body temperatures for the entire population, which we do not have. As such, we should calculate the t statistic. "
   ]
  },
  {
   "cell_type": "code",
   "execution_count": 8,
   "metadata": {},
   "outputs": [
    {
     "name": "stdout",
     "output_type": "stream",
     "text": [
      "Value of t-statistic: -5.454823\n",
      "p-value: 0.000000\n"
     ]
    }
   ],
   "source": [
    "t_stat, p_value = stats.ttest_1samp(temps, 98.6)\n",
    "print('Value of t-statistic: %f' % t_stat)\n",
    "print('p-value: %f' % p_value)"
   ]
  },
  {
   "cell_type": "markdown",
   "metadata": {},
   "source": [
    "Once again, our test resulted in a p-value of 0, indicating that we can reject the null hypothesis and assume that it would be highly unlikely to acquire the given dataset if the true population mean was actually 98.6"
   ]
  },
  {
   "cell_type": "markdown",
   "metadata": {},
   "source": [
    "***Now try using the other test. How is the result be different? Why?***\n",
    "\n",
    "Once again, since we do not know the population standard deviation, we cannot perform a z test"
   ]
  },
  {
   "cell_type": "markdown",
   "metadata": {},
   "source": [
    "# Question 4\n",
    "***Draw a small sample of size 10 from the data and repeat both frequentist tests.***"
   ]
  },
  {
   "cell_type": "code",
   "execution_count": 9,
   "metadata": {},
   "outputs": [
    {
     "name": "stdout",
     "output_type": "stream",
     "text": [
      "Value of t-statistic: -0.301511\n",
      "p-value: 0.769875\n"
     ]
    }
   ],
   "source": [
    "resample = np.random.choice(temps, size = 10)\n",
    "t_stat, p_value = stats.ttest_1samp(resample, 98.6)\n",
    "print('Value of t-statistic: %f' % t_stat)\n",
    "print('p-value: %f' % p_value)"
   ]
  },
  {
   "cell_type": "markdown",
   "metadata": {},
   "source": [
    "As seen above, doing the 1 sample t test with a resampled dataset only including 10 temperatures gave us a p value > 0.05. As such we can no longer reject the null hypothesis and conclude that the true population mean is not equal to 98.6 degrees. This goes to show that it is better to perform hypothesis testing with a larger sample population. Indeed, if we repeat the process shown above many times (as shown below), we get a large variability in the p value."
   ]
  },
  {
   "cell_type": "code",
   "execution_count": 10,
   "metadata": {},
   "outputs": [
    {
     "data": {
      "image/png": "[encoded data removed]",
      "text/plain": [
       "<Figure size 432x288 with 1 Axes>"
      ]
     },
     "metadata": {
      "needs_background": "light"
     },
     "output_type": "display_data"
    }
   ],
   "source": [
    "p_values = np.empty(10000)\n",
    "for i in range(10000):\n",
    "    resample = np.random.choice(temps, size = 10)\n",
    "    t_stat, p_value = stats.ttest_1samp(resample, 98.6)\n",
    "    p_values[i] = p_value\n",
    "\n",
    "_ = plt.hist(p_values, bins = 100)\n",
    "_ = plt.xlabel('p values of 1 sample t test')\n",
    "_ = plt.ylabel('Count')\n",
    "plt.show()"
   ]
  },
  {
   "cell_type": "markdown",
   "metadata": {},
   "source": [
    "# Question 5:\n",
    "***At what temperature should we consider someone's temperature to be \"abnormal\"?***"
   ]
  },
  {
   "cell_type": "markdown",
   "metadata": {},
   "source": [
    "***As in the previous example, try calculating everything using the boostrap approach, as well as the frequentist approach.***"
   ]
  },
  {
   "cell_type": "code",
   "execution_count": 11,
   "metadata": {},
   "outputs": [
    {
     "name": "stdout",
     "output_type": "stream",
     "text": [
      "Normal Temperature Range: 98.08 - 98.42\n"
     ]
    }
   ],
   "source": [
    "# Using bootstrap method:\n",
    "temp_means = bootstrap_hypothesis_test(temps, np.mean, size = 10000)\n",
    "# I will use the quartile definition of an outlier to determine temperatures that are abnormal.\n",
    "# More specifically any temperatures that are more than 1.5 times the IQR below Q1 or above Q3 will are 'abnormal'.\n",
    "Q1, Q3 = np.percentile(temp_means, [25, 75])\n",
    "IQR = Q3 - Q1\n",
    "min_normal = Q1 - (1.5 * IQR)\n",
    "max_normal = Q3 + (1.5 * IQR)\n",
    "print('Normal Temperature Range: %3.2f - %3.2f' % (min_normal, max_normal))"
   ]
  },
  {
   "cell_type": "markdown",
   "metadata": {},
   "source": [
    "# Question 6\n",
    "***Is there a significant difference between males and females in normal temperature?***\n"
   ]
  },
  {
   "cell_type": "code",
   "execution_count": 12,
   "metadata": {},
   "outputs": [
    {
     "data": {
      "image/png": "[encoded data removed]",
      "text/plain": [
       "<Figure size 432x288 with 1 Axes>"
      ]
     },
     "metadata": {
      "needs_background": "light"
     },
     "output_type": "display_data"
    }
   ],
   "source": [
    "# First do some EDA:\n",
    "_ = sns.swarmplot(x=df['gender'], y=df['temperature'], data=df)"
   ]
  },
  {
   "cell_type": "code",
   "execution_count": 13,
   "metadata": {},
   "outputs": [
    {
     "data": {
      "image/png": "[encoded data removed]",
      "text/plain": [
       "<Figure size 432x288 with 1 Axes>"
      ]
     },
     "metadata": {
      "needs_background": "light"
     },
     "output_type": "display_data"
    }
   ],
   "source": [
    "temps_f = df['temperature'][df['gender'] == 'F'].values\n",
    "temps_m = df['temperature'][df['gender'] == 'M'].values\n",
    "x_f, y_f = ecdf(temps_f)\n",
    "x_m, y_m = ecdf(temps_m)\n",
    "_ = plt.plot(x_f, y_f, marker='.', color='blue', linestyle='none')\n",
    "_ = plt.plot(x_m, y_m, marker='.', color='red', linestyle='none')\n",
    "_ = plt.xlabel('Body Temperature')\n",
    "_ = plt.ylabel('ECDF')\n",
    "plt.show()"
   ]
  },
  {
   "cell_type": "markdown",
   "metadata": {},
   "source": [
    "Based on the two graphical representations of the data, we can see that there might indeed be a difference between the two genders when it comes to body temperature. Let's now test this by first doing a bootstrap hypothesis test for the difference between the two means. "
   ]
  },
  {
   "cell_type": "code",
   "execution_count": 14,
   "metadata": {},
   "outputs": [
    {
     "name": "stdout",
     "output_type": "stream",
     "text": [
      "p-value: 0.010300\n"
     ]
    }
   ],
   "source": [
    "# Bootstrap hypothesis test\n",
    "# Null hypothesis: The mean body temperature for men and women is the same. \n",
    "combined_mean = np.mean(np.concatenate((temps_f, temps_m)))\n",
    "temps_f_shifted = temps_f - np.mean(temps_f) + combined_mean\n",
    "temps_m_shifted = temps_m - np.mean(temps_m) + combined_mean\n",
    "bs_reps_f = bootstrap_hypothesis_test(temps_f_shifted, np.mean, size = 10000)\n",
    "bs_reps_m = bootstrap_hypothesis_test(temps_m_shifted, np.mean, size = 10000)\n",
    "mean_differences = bs_reps_m - bs_reps_f\n",
    "p_value = np.sum(mean_differences > (np.mean(temps_f) - np.mean(temps_m))) / len(mean_differences)\n",
    "print('p-value: %f' % p_value)"
   ]
  },
  {
   "cell_type": "markdown",
   "metadata": {},
   "source": [
    "According to the results of the bootstrap hypothesis test, a comparison of the mean body temperature for both genders results in a p-value of approximately 0.01. Since this result is below 0.05, we can reject the null hypothesis test and conclude that is highly unlikey we would have acquired this data if the mean body temperature for men and women is the same. This is in agreement with the preliminary results of our EDA, which seemed to show that the average body temperature for men was slightly lower than the average body temperature for women. "
   ]
  },
  {
   "cell_type": "code",
   "execution_count": 15,
   "metadata": {},
   "outputs": [
    {
     "name": "stdout",
     "output_type": "stream",
     "text": [
      "t statistic: 2.285435\n",
      "p value: 0.023932\n"
     ]
    }
   ],
   "source": [
    "t_stat, p_value = stats.ttest_ind(temps_f, temps_m)\n",
    "print('t statistic: %f' % t_stat)\n",
    "print('p value: %f' % p_value)"
   ]
  },
  {
   "cell_type": "markdown",
   "metadata": {},
   "source": [
    "Using scipy.stats' independent samples t test confirms the results of the bootstrap hypothesis test, resulting in a value of approximately 0.024."
   ]
  }
 ],
 "metadata": {
  "kernelspec": {
   "display_name": "Python 3",
   "language": "python",
   "name": "python3"
  },
  "language_info": {
   "codemirror_mode": {
    "name": "ipython",
    "version": 3
   },
   "file_extension": ".py",
   "mimetype": "text/x-python",
   "name": "python",
   "nbconvert_exporter": "python",
   "pygments_lexer": "ipython3",
   "version": "3.7.1"
  }
 },
 "nbformat": 4,
 "nbformat_minor": 1
}
