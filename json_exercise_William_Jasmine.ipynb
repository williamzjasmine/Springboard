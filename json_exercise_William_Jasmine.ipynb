{
 "cells": [
  {
   "cell_type": "markdown",
   "metadata": {},
   "source": [
    "# JSON examples and exercise\n",
    "****\n",
    "+ get familiar with packages for dealing with JSON\n",
    "+ study examples with JSON strings and files \n",
    "+ work on exercise to be completed and submitted \n",
    "****\n",
    "+ reference: http://pandas.pydata.org/pandas-docs/stable/io.html#io-json-reader\n",
    "+ data source: http://jsonstudio.com/resources/\n",
    "****"
   ]
  },
  {
   "cell_type": "code",
   "execution_count": 1,
   "metadata": {
    "collapsed": true
   },
   "outputs": [],
   "source": [
    "import pandas as pd\n",
    "import numpy as np"
   ]
  },
  {
   "cell_type": "markdown",
   "metadata": {},
   "source": [
    "## imports for Python, Pandas"
   ]
  },
  {
   "cell_type": "code",
   "execution_count": 2,
   "metadata": {
    "collapsed": true
   },
   "outputs": [],
   "source": [
    "import json\n",
    "from pandas.io.json import json_normalize"
   ]
  },
  {
   "cell_type": "markdown",
   "metadata": {},
   "source": [
    "## JSON example, with string\n",
    "\n",
    "+ demonstrates creation of normalized dataframes (tables) from nested json string\n",
    "+ source: http://pandas.pydata.org/pandas-docs/stable/io.html#normalization"
   ]
  },
  {
   "cell_type": "code",
   "execution_count": 3,
   "metadata": {
    "collapsed": true
   },
   "outputs": [],
   "source": [
    "# define json string\n",
    "data = [{'state': 'Florida', \n",
    "         'shortname': 'FL',\n",
    "         'info': {'governor': 'Rick Scott'},\n",
    "         'counties': [{'name': 'Dade', 'population': 12345},\n",
    "                      {'name': 'Broward', 'population': 40000},\n",
    "                      {'name': 'Palm Beach', 'population': 60000}]},\n",
    "        {'state': 'Ohio',\n",
    "         'shortname': 'OH',\n",
    "         'info': {'governor': 'John Kasich'},\n",
    "         'counties': [{'name': 'Summit', 'population': 1234},\n",
    "                      {'name': 'Cuyahoga', 'population': 1337}]}]"
   ]
  },
  {
   "cell_type": "code",
   "execution_count": 4,
   "metadata": {
    "collapsed": false
   },
   "outputs": [
    {
     "data": {
      "text/html": [
       "<div>\n",
       "<table border=\"1\" class=\"dataframe\">\n",
       "  <thead>\n",
       "    <tr style=\"text-align: right;\">\n",
       "      <th></th>\n",
       "      <th>name</th>\n",
       "      <th>population</th>\n",
       "    </tr>\n",
       "  </thead>\n",
       "  <tbody>\n",
       "    <tr>\n",
       "      <th>0</th>\n",
       "      <td>Dade</td>\n",
       "      <td>12345</td>\n",
       "    </tr>\n",
       "    <tr>\n",
       "      <th>1</th>\n",
       "      <td>Broward</td>\n",
       "      <td>40000</td>\n",
       "    </tr>\n",
       "    <tr>\n",
       "      <th>2</th>\n",
       "      <td>Palm Beach</td>\n",
       "      <td>60000</td>\n",
       "    </tr>\n",
       "    <tr>\n",
       "      <th>3</th>\n",
       "      <td>Summit</td>\n",
       "      <td>1234</td>\n",
       "    </tr>\n",
       "    <tr>\n",
       "      <th>4</th>\n",
       "      <td>Cuyahoga</td>\n",
       "      <td>1337</td>\n",
       "    </tr>\n",
       "  </tbody>\n",
       "</table>\n",
       "</div>"
      ],
      "text/plain": [
       "         name  population\n",
       "0        Dade       12345\n",
       "1     Broward       40000\n",
       "2  Palm Beach       60000\n",
       "3      Summit        1234\n",
       "4    Cuyahoga        1337"
      ]
     },
     "execution_count": 4,
     "metadata": {},
     "output_type": "execute_result"
    }
   ],
   "source": [
    "# use normalization to create tables from nested element\n",
    "json_normalize(data, 'counties')"
   ]
  },
  {
   "cell_type": "code",
   "execution_count": 5,
   "metadata": {
    "collapsed": false
   },
   "outputs": [
    {
     "data": {
      "text/html": [
       "<div>\n",
       "<table border=\"1\" class=\"dataframe\">\n",
       "  <thead>\n",
       "    <tr style=\"text-align: right;\">\n",
       "      <th></th>\n",
       "      <th>name</th>\n",
       "      <th>population</th>\n",
       "      <th>info.governor</th>\n",
       "      <th>state</th>\n",
       "      <th>shortname</th>\n",
       "    </tr>\n",
       "  </thead>\n",
       "  <tbody>\n",
       "    <tr>\n",
       "      <th>0</th>\n",
       "      <td>Dade</td>\n",
       "      <td>12345</td>\n",
       "      <td>Rick Scott</td>\n",
       "      <td>Florida</td>\n",
       "      <td>FL</td>\n",
       "    </tr>\n",
       "    <tr>\n",
       "      <th>1</th>\n",
       "      <td>Broward</td>\n",
       "      <td>40000</td>\n",
       "      <td>Rick Scott</td>\n",
       "      <td>Florida</td>\n",
       "      <td>FL</td>\n",
       "    </tr>\n",
       "    <tr>\n",
       "      <th>2</th>\n",
       "      <td>Palm Beach</td>\n",
       "      <td>60000</td>\n",
       "      <td>Rick Scott</td>\n",
       "      <td>Florida</td>\n",
       "      <td>FL</td>\n",
       "    </tr>\n",
       "    <tr>\n",
       "      <th>3</th>\n",
       "      <td>Summit</td>\n",
       "      <td>1234</td>\n",
       "      <td>John Kasich</td>\n",
       "      <td>Ohio</td>\n",
       "      <td>OH</td>\n",
       "    </tr>\n",
       "    <tr>\n",
       "      <th>4</th>\n",
       "      <td>Cuyahoga</td>\n",
       "      <td>1337</td>\n",
       "      <td>John Kasich</td>\n",
       "      <td>Ohio</td>\n",
       "      <td>OH</td>\n",
       "    </tr>\n",
       "  </tbody>\n",
       "</table>\n",
       "</div>"
      ],
      "text/plain": [
       "         name  population info.governor    state shortname\n",
       "0        Dade       12345    Rick Scott  Florida        FL\n",
       "1     Broward       40000    Rick Scott  Florida        FL\n",
       "2  Palm Beach       60000    Rick Scott  Florida        FL\n",
       "3      Summit        1234   John Kasich     Ohio        OH\n",
       "4    Cuyahoga        1337   John Kasich     Ohio        OH"
      ]
     },
     "execution_count": 5,
     "metadata": {},
     "output_type": "execute_result"
    }
   ],
   "source": [
    "# further populate tables created from nested element\n",
    "json_normalize(data, 'counties', ['state', 'shortname', ['info', 'governor']])"
   ]
  },
  {
   "cell_type": "markdown",
   "metadata": {},
   "source": [
    "****\n",
    "## JSON example, with file\n",
    "\n",
    "+ demonstrates reading in a json file as a string and as a table\n",
    "+ uses small sample file containing data about projects funded by the World Bank \n",
    "+ data source: http://jsonstudio.com/resources/"
   ]
  },
  {
   "cell_type": "code",
   "execution_count": 6,
   "metadata": {
    "collapsed": false
   },
   "outputs": [],
   "source": [
    "# load json as string\n",
    "json.load((open('data/world_bank_projects_less.json')));"
   ]
  },
  {
   "cell_type": "code",
   "execution_count": 7,
   "metadata": {
    "collapsed": false
   },
   "outputs": [
    {
     "data": {
      "text/html": [
       "<div>\n",
       "<table border=\"1\" class=\"dataframe\">\n",
       "  <thead>\n",
       "    <tr style=\"text-align: right;\">\n",
       "      <th></th>\n",
       "      <th>_id</th>\n",
       "      <th>approvalfy</th>\n",
       "      <th>board_approval_month</th>\n",
       "      <th>boardapprovaldate</th>\n",
       "      <th>borrower</th>\n",
       "      <th>closingdate</th>\n",
       "      <th>country_namecode</th>\n",
       "      <th>countrycode</th>\n",
       "      <th>countryname</th>\n",
       "      <th>countryshortname</th>\n",
       "      <th>...</th>\n",
       "      <th>sectorcode</th>\n",
       "      <th>source</th>\n",
       "      <th>status</th>\n",
       "      <th>supplementprojectflg</th>\n",
       "      <th>theme1</th>\n",
       "      <th>theme_namecode</th>\n",
       "      <th>themecode</th>\n",
       "      <th>totalamt</th>\n",
       "      <th>totalcommamt</th>\n",
       "      <th>url</th>\n",
       "    </tr>\n",
       "  </thead>\n",
       "  <tbody>\n",
       "    <tr>\n",
       "      <th>0</th>\n",
       "      <td>{u'$oid': u'52b213b38594d8a2be17c780'}</td>\n",
       "      <td>1999</td>\n",
       "      <td>November</td>\n",
       "      <td>2013-11-12T00:00:00Z</td>\n",
       "      <td>FEDERAL DEMOCRATIC REPUBLIC OF ETHIOPIA</td>\n",
       "      <td>2018-07-07T00:00:00Z</td>\n",
       "      <td>Federal Democratic Republic of Ethiopia!$!ET</td>\n",
       "      <td>ET</td>\n",
       "      <td>Federal Democratic Republic of Ethiopia</td>\n",
       "      <td>Ethiopia</td>\n",
       "      <td>...</td>\n",
       "      <td>ET,BS,ES,EP</td>\n",
       "      <td>IBRD</td>\n",
       "      <td>Active</td>\n",
       "      <td>N</td>\n",
       "      <td>{u'Percent': 100, u'Name': u'Education for all'}</td>\n",
       "      <td>[{u'code': u'65', u'name': u'Education for all'}]</td>\n",
       "      <td>65</td>\n",
       "      <td>130000000</td>\n",
       "      <td>130000000</td>\n",
       "      <td>http://www.worldbank.org/projects/P129828/ethi...</td>\n",
       "    </tr>\n",
       "    <tr>\n",
       "      <th>1</th>\n",
       "      <td>{u'$oid': u'52b213b38594d8a2be17c781'}</td>\n",
       "      <td>2015</td>\n",
       "      <td>November</td>\n",
       "      <td>2013-11-04T00:00:00Z</td>\n",
       "      <td>GOVERNMENT OF TUNISIA</td>\n",
       "      <td>NaN</td>\n",
       "      <td>Republic of Tunisia!$!TN</td>\n",
       "      <td>TN</td>\n",
       "      <td>Republic of Tunisia</td>\n",
       "      <td>Tunisia</td>\n",
       "      <td>...</td>\n",
       "      <td>BZ,BS</td>\n",
       "      <td>IBRD</td>\n",
       "      <td>Active</td>\n",
       "      <td>N</td>\n",
       "      <td>{u'Percent': 30, u'Name': u'Other economic man...</td>\n",
       "      <td>[{u'code': u'24', u'name': u'Other economic ma...</td>\n",
       "      <td>54,24</td>\n",
       "      <td>0</td>\n",
       "      <td>4700000</td>\n",
       "      <td>http://www.worldbank.org/projects/P144674?lang=en</td>\n",
       "    </tr>\n",
       "  </tbody>\n",
       "</table>\n",
       "<p>2 rows × 50 columns</p>\n",
       "</div>"
      ],
      "text/plain": [
       "                                      _id  approvalfy board_approval_month  \\\n",
       "0  {u'$oid': u'52b213b38594d8a2be17c780'}        1999             November   \n",
       "1  {u'$oid': u'52b213b38594d8a2be17c781'}        2015             November   \n",
       "\n",
       "      boardapprovaldate                                 borrower  \\\n",
       "0  2013-11-12T00:00:00Z  FEDERAL DEMOCRATIC REPUBLIC OF ETHIOPIA   \n",
       "1  2013-11-04T00:00:00Z                    GOVERNMENT OF TUNISIA   \n",
       "\n",
       "            closingdate                              country_namecode  \\\n",
       "0  2018-07-07T00:00:00Z  Federal Democratic Republic of Ethiopia!$!ET   \n",
       "1                   NaN                      Republic of Tunisia!$!TN   \n",
       "\n",
       "  countrycode                              countryname countryshortname  \\\n",
       "0          ET  Federal Democratic Republic of Ethiopia         Ethiopia   \n",
       "1          TN                      Republic of Tunisia          Tunisia   \n",
       "\n",
       "                         ...                           sectorcode source  \\\n",
       "0                        ...                          ET,BS,ES,EP   IBRD   \n",
       "1                        ...                                BZ,BS   IBRD   \n",
       "\n",
       "   status  supplementprojectflg  \\\n",
       "0  Active                     N   \n",
       "1  Active                     N   \n",
       "\n",
       "                                              theme1  \\\n",
       "0   {u'Percent': 100, u'Name': u'Education for all'}   \n",
       "1  {u'Percent': 30, u'Name': u'Other economic man...   \n",
       "\n",
       "                                      theme_namecode themecode   totalamt  \\\n",
       "0  [{u'code': u'65', u'name': u'Education for all'}]        65  130000000   \n",
       "1  [{u'code': u'24', u'name': u'Other economic ma...     54,24          0   \n",
       "\n",
       "  totalcommamt                                                url  \n",
       "0    130000000  http://www.worldbank.org/projects/P129828/ethi...  \n",
       "1      4700000  http://www.worldbank.org/projects/P144674?lang=en  \n",
       "\n",
       "[2 rows x 50 columns]"
      ]
     },
     "execution_count": 7,
     "metadata": {},
     "output_type": "execute_result"
    }
   ],
   "source": [
    "# load as Pandas dataframe\n",
    "sample_json_df = pd.read_json('data/world_bank_projects_less.json')\n",
    "sample_json_df"
   ]
  },
  {
   "cell_type": "markdown",
   "metadata": {},
   "source": [
    "****\n",
    "## JSON exercises\n",
    "\n",
    "Using data in file 'data/world_bank_projects.json' and the techniques demonstrated above,\n",
    "1. Find the 10 countries with most projects\n",
    "2. Find the top 10 major project themes (using column 'mjtheme_namecode')\n",
    "3. In 2. above you will notice that some entries have only the code and the name is missing. Create a dataframe with the missing names filled in."
   ]
  },
  {
   "cell_type": "markdown",
   "metadata": {},
   "source": [
    " ## Exercise 1\n",
    " First, import world bank data and store it as a dataframe named ```wb_json_df```.\n",
    " \n",
    " The output of ```wb_json_df```'s shape attribute for reveals that the dataframe contains 500 rows and 50 columns. "
   ]
  },
  {
   "cell_type": "code",
   "execution_count": 8,
   "metadata": {
    "collapsed": false
   },
   "outputs": [
    {
     "data": {
      "text/html": [
       "<div>\n",
       "<table border=\"1\" class=\"dataframe\">\n",
       "  <thead>\n",
       "    <tr style=\"text-align: right;\">\n",
       "      <th></th>\n",
       "      <th>_id</th>\n",
       "      <th>approvalfy</th>\n",
       "      <th>board_approval_month</th>\n",
       "      <th>boardapprovaldate</th>\n",
       "      <th>borrower</th>\n",
       "      <th>closingdate</th>\n",
       "      <th>country_namecode</th>\n",
       "      <th>countrycode</th>\n",
       "      <th>countryname</th>\n",
       "      <th>countryshortname</th>\n",
       "      <th>...</th>\n",
       "      <th>sectorcode</th>\n",
       "      <th>source</th>\n",
       "      <th>status</th>\n",
       "      <th>supplementprojectflg</th>\n",
       "      <th>theme1</th>\n",
       "      <th>theme_namecode</th>\n",
       "      <th>themecode</th>\n",
       "      <th>totalamt</th>\n",
       "      <th>totalcommamt</th>\n",
       "      <th>url</th>\n",
       "    </tr>\n",
       "  </thead>\n",
       "  <tbody>\n",
       "    <tr>\n",
       "      <th>0</th>\n",
       "      <td>{u'$oid': u'52b213b38594d8a2be17c780'}</td>\n",
       "      <td>1999</td>\n",
       "      <td>November</td>\n",
       "      <td>2013-11-12T00:00:00Z</td>\n",
       "      <td>FEDERAL DEMOCRATIC REPUBLIC OF ETHIOPIA</td>\n",
       "      <td>2018-07-07T00:00:00Z</td>\n",
       "      <td>Federal Democratic Republic of Ethiopia!$!ET</td>\n",
       "      <td>ET</td>\n",
       "      <td>Federal Democratic Republic of Ethiopia</td>\n",
       "      <td>Ethiopia</td>\n",
       "      <td>...</td>\n",
       "      <td>ET,BS,ES,EP</td>\n",
       "      <td>IBRD</td>\n",
       "      <td>Active</td>\n",
       "      <td>N</td>\n",
       "      <td>{u'Percent': 100, u'Name': u'Education for all'}</td>\n",
       "      <td>[{u'code': u'65', u'name': u'Education for all'}]</td>\n",
       "      <td>65</td>\n",
       "      <td>130000000</td>\n",
       "      <td>130000000</td>\n",
       "      <td>http://www.worldbank.org/projects/P129828/ethi...</td>\n",
       "    </tr>\n",
       "    <tr>\n",
       "      <th>1</th>\n",
       "      <td>{u'$oid': u'52b213b38594d8a2be17c781'}</td>\n",
       "      <td>2015</td>\n",
       "      <td>November</td>\n",
       "      <td>2013-11-04T00:00:00Z</td>\n",
       "      <td>GOVERNMENT OF TUNISIA</td>\n",
       "      <td>NaN</td>\n",
       "      <td>Republic of Tunisia!$!TN</td>\n",
       "      <td>TN</td>\n",
       "      <td>Republic of Tunisia</td>\n",
       "      <td>Tunisia</td>\n",
       "      <td>...</td>\n",
       "      <td>BZ,BS</td>\n",
       "      <td>IBRD</td>\n",
       "      <td>Active</td>\n",
       "      <td>N</td>\n",
       "      <td>{u'Percent': 30, u'Name': u'Other economic man...</td>\n",
       "      <td>[{u'code': u'24', u'name': u'Other economic ma...</td>\n",
       "      <td>54,24</td>\n",
       "      <td>0</td>\n",
       "      <td>4700000</td>\n",
       "      <td>http://www.worldbank.org/projects/P144674?lang=en</td>\n",
       "    </tr>\n",
       "    <tr>\n",
       "      <th>2</th>\n",
       "      <td>{u'$oid': u'52b213b38594d8a2be17c782'}</td>\n",
       "      <td>2014</td>\n",
       "      <td>November</td>\n",
       "      <td>2013-11-01T00:00:00Z</td>\n",
       "      <td>MINISTRY OF FINANCE AND ECONOMIC DEVEL</td>\n",
       "      <td>NaN</td>\n",
       "      <td>Tuvalu!$!TV</td>\n",
       "      <td>TV</td>\n",
       "      <td>Tuvalu</td>\n",
       "      <td>Tuvalu</td>\n",
       "      <td>...</td>\n",
       "      <td>TI</td>\n",
       "      <td>IBRD</td>\n",
       "      <td>Active</td>\n",
       "      <td>Y</td>\n",
       "      <td>{u'Percent': 46, u'Name': u'Regional integrati...</td>\n",
       "      <td>[{u'code': u'47', u'name': u'Regional integrat...</td>\n",
       "      <td>52,81,25,47</td>\n",
       "      <td>6060000</td>\n",
       "      <td>6060000</td>\n",
       "      <td>http://www.worldbank.org/projects/P145310?lang=en</td>\n",
       "    </tr>\n",
       "    <tr>\n",
       "      <th>3</th>\n",
       "      <td>{u'$oid': u'52b213b38594d8a2be17c783'}</td>\n",
       "      <td>2014</td>\n",
       "      <td>October</td>\n",
       "      <td>2013-10-31T00:00:00Z</td>\n",
       "      <td>MIN. OF PLANNING AND INT'L COOPERATION</td>\n",
       "      <td>NaN</td>\n",
       "      <td>Republic of Yemen!$!RY</td>\n",
       "      <td>RY</td>\n",
       "      <td>Republic of Yemen</td>\n",
       "      <td>Yemen, Republic of</td>\n",
       "      <td>...</td>\n",
       "      <td>JB</td>\n",
       "      <td>IBRD</td>\n",
       "      <td>Active</td>\n",
       "      <td>N</td>\n",
       "      <td>{u'Percent': 50, u'Name': u'Participation and ...</td>\n",
       "      <td>[{u'code': u'57', u'name': u'Participation and...</td>\n",
       "      <td>59,57</td>\n",
       "      <td>0</td>\n",
       "      <td>1500000</td>\n",
       "      <td>http://www.worldbank.org/projects/P144665?lang=en</td>\n",
       "    </tr>\n",
       "    <tr>\n",
       "      <th>4</th>\n",
       "      <td>{u'$oid': u'52b213b38594d8a2be17c784'}</td>\n",
       "      <td>2014</td>\n",
       "      <td>October</td>\n",
       "      <td>2013-10-31T00:00:00Z</td>\n",
       "      <td>MINISTRY OF FINANCE</td>\n",
       "      <td>2019-04-30T00:00:00Z</td>\n",
       "      <td>Kingdom of Lesotho!$!LS</td>\n",
       "      <td>LS</td>\n",
       "      <td>Kingdom of Lesotho</td>\n",
       "      <td>Lesotho</td>\n",
       "      <td>...</td>\n",
       "      <td>FH,YW,YZ</td>\n",
       "      <td>IBRD</td>\n",
       "      <td>Active</td>\n",
       "      <td>N</td>\n",
       "      <td>{u'Percent': 30, u'Name': u'Export development...</td>\n",
       "      <td>[{u'code': u'45', u'name': u'Export developmen...</td>\n",
       "      <td>41,45</td>\n",
       "      <td>13100000</td>\n",
       "      <td>13100000</td>\n",
       "      <td>http://www.worldbank.org/projects/P144933/seco...</td>\n",
       "    </tr>\n",
       "  </tbody>\n",
       "</table>\n",
       "<p>5 rows × 50 columns</p>\n",
       "</div>"
      ],
      "text/plain": [
       "                                      _id  approvalfy board_approval_month  \\\n",
       "0  {u'$oid': u'52b213b38594d8a2be17c780'}        1999             November   \n",
       "1  {u'$oid': u'52b213b38594d8a2be17c781'}        2015             November   \n",
       "2  {u'$oid': u'52b213b38594d8a2be17c782'}        2014             November   \n",
       "3  {u'$oid': u'52b213b38594d8a2be17c783'}        2014              October   \n",
       "4  {u'$oid': u'52b213b38594d8a2be17c784'}        2014              October   \n",
       "\n",
       "      boardapprovaldate                                 borrower  \\\n",
       "0  2013-11-12T00:00:00Z  FEDERAL DEMOCRATIC REPUBLIC OF ETHIOPIA   \n",
       "1  2013-11-04T00:00:00Z                    GOVERNMENT OF TUNISIA   \n",
       "2  2013-11-01T00:00:00Z   MINISTRY OF FINANCE AND ECONOMIC DEVEL   \n",
       "3  2013-10-31T00:00:00Z   MIN. OF PLANNING AND INT'L COOPERATION   \n",
       "4  2013-10-31T00:00:00Z                      MINISTRY OF FINANCE   \n",
       "\n",
       "            closingdate                              country_namecode  \\\n",
       "0  2018-07-07T00:00:00Z  Federal Democratic Republic of Ethiopia!$!ET   \n",
       "1                   NaN                      Republic of Tunisia!$!TN   \n",
       "2                   NaN                                   Tuvalu!$!TV   \n",
       "3                   NaN                        Republic of Yemen!$!RY   \n",
       "4  2019-04-30T00:00:00Z                       Kingdom of Lesotho!$!LS   \n",
       "\n",
       "  countrycode                              countryname    countryshortname  \\\n",
       "0          ET  Federal Democratic Republic of Ethiopia            Ethiopia   \n",
       "1          TN                      Republic of Tunisia             Tunisia   \n",
       "2          TV                                   Tuvalu              Tuvalu   \n",
       "3          RY                        Republic of Yemen  Yemen, Republic of   \n",
       "4          LS                       Kingdom of Lesotho             Lesotho   \n",
       "\n",
       "                         ...                           sectorcode source  \\\n",
       "0                        ...                          ET,BS,ES,EP   IBRD   \n",
       "1                        ...                                BZ,BS   IBRD   \n",
       "2                        ...                                   TI   IBRD   \n",
       "3                        ...                                   JB   IBRD   \n",
       "4                        ...                             FH,YW,YZ   IBRD   \n",
       "\n",
       "   status  supplementprojectflg  \\\n",
       "0  Active                     N   \n",
       "1  Active                     N   \n",
       "2  Active                     Y   \n",
       "3  Active                     N   \n",
       "4  Active                     N   \n",
       "\n",
       "                                              theme1  \\\n",
       "0   {u'Percent': 100, u'Name': u'Education for all'}   \n",
       "1  {u'Percent': 30, u'Name': u'Other economic man...   \n",
       "2  {u'Percent': 46, u'Name': u'Regional integrati...   \n",
       "3  {u'Percent': 50, u'Name': u'Participation and ...   \n",
       "4  {u'Percent': 30, u'Name': u'Export development...   \n",
       "\n",
       "                                      theme_namecode    themecode   totalamt  \\\n",
       "0  [{u'code': u'65', u'name': u'Education for all'}]           65  130000000   \n",
       "1  [{u'code': u'24', u'name': u'Other economic ma...        54,24          0   \n",
       "2  [{u'code': u'47', u'name': u'Regional integrat...  52,81,25,47    6060000   \n",
       "3  [{u'code': u'57', u'name': u'Participation and...        59,57          0   \n",
       "4  [{u'code': u'45', u'name': u'Export developmen...        41,45   13100000   \n",
       "\n",
       "  totalcommamt                                                url  \n",
       "0    130000000  http://www.worldbank.org/projects/P129828/ethi...  \n",
       "1      4700000  http://www.worldbank.org/projects/P144674?lang=en  \n",
       "2      6060000  http://www.worldbank.org/projects/P145310?lang=en  \n",
       "3      1500000  http://www.worldbank.org/projects/P144665?lang=en  \n",
       "4     13100000  http://www.worldbank.org/projects/P144933/seco...  \n",
       "\n",
       "[5 rows x 50 columns]"
      ]
     },
     "execution_count": 8,
     "metadata": {},
     "output_type": "execute_result"
    }
   ],
   "source": [
    "wb_json_df = pd.read_json('data/world_bank_projects.json')\n",
    "wb_json_df.head()"
   ]
  },
  {
   "cell_type": "markdown",
   "metadata": {},
   "source": [
    "To determine the countries with the most projects, we can simply using the pandas ```.value_counts()``` method on the panda series ```wb_json_df['countryshortname']```. The result is a new pandas series (stored below as ```countrycode_counts```) that gives the number of rows containing each unique country name. Since each row correlates to a single project, this number is equal to the number of projects the World Bank currenly funds for each country. \n",
    "\n",
    "The ```.value_counts()``` method also sorts these counts in descending order, so to determine the 10 countries with the most projects we need only print out the first 10 elements of ```countrycode_counts```.\n",
    "\n",
    "Doing this reveals that the 10 countries with the most World Bank funded projects are:\n",
    "1. China\n",
    "2. Indonesia\n",
    "3. Vietnam\n",
    "4. India\n",
    "5. Yemen\n",
    "6. Morocco\n",
    "7. Bangladesh\n",
    "8. Nepal\n",
    "9. Africa\n",
    "10. Mozambique\n"
   ]
  },
  {
   "cell_type": "code",
   "execution_count": 9,
   "metadata": {
    "collapsed": false
   },
   "outputs": [
    {
     "name": "stdout",
     "output_type": "stream",
     "text": [
      "<class 'pandas.core.series.Series'>\n"
     ]
    },
    {
     "data": {
      "text/plain": [
       "China                 19\n",
       "Indonesia             19\n",
       "Vietnam               17\n",
       "India                 16\n",
       "Yemen, Republic of    13\n",
       "Morocco               12\n",
       "Bangladesh            12\n",
       "Nepal                 12\n",
       "Africa                11\n",
       "Mozambique            11\n",
       "Name: countryshortname, dtype: int64"
      ]
     },
     "execution_count": 9,
     "metadata": {},
     "output_type": "execute_result"
    }
   ],
   "source": [
    "countrycode_counts = wb_json_df['countryshortname'].value_counts()\n",
    "print(type(countrycode_counts))\n",
    "countrycode_counts.iloc[:10]"
   ]
  },
  {
   "cell_type": "markdown",
   "metadata": {},
   "source": [
    "## Exercise 2\n",
    "\n",
    "Before performing any analysis on the 'theme_namecode' column of the ```wb_json_df``` dataframe, we have to check to see if it contains any missing or ```NaN``` values. Using pandas' ```.info()``` method, we see that the 'theme_namecode' column has 500 non-null values. Since the ```wb_json_df``` dataframe has 500 rows, it must be the case that all the 'mjtheme_namecode' column contains no null entries. A good start!"
   ]
  },
  {
   "cell_type": "code",
   "execution_count": 10,
   "metadata": {
    "collapsed": false
   },
   "outputs": [
    {
     "name": "stdout",
     "output_type": "stream",
     "text": [
      "<class 'pandas.core.frame.DataFrame'>\n",
      "Int64Index: 500 entries, 0 to 499\n",
      "Data columns (total 50 columns):\n",
      "_id                         500 non-null object\n",
      "approvalfy                  500 non-null int64\n",
      "board_approval_month        500 non-null object\n",
      "boardapprovaldate           500 non-null object\n",
      "borrower                    485 non-null object\n",
      "closingdate                 370 non-null object\n",
      "country_namecode            500 non-null object\n",
      "countrycode                 500 non-null object\n",
      "countryname                 500 non-null object\n",
      "countryshortname            500 non-null object\n",
      "docty                       446 non-null object\n",
      "envassesmentcategorycode    430 non-null object\n",
      "grantamt                    500 non-null int64\n",
      "ibrdcommamt                 500 non-null int64\n",
      "id                          500 non-null object\n",
      "idacommamt                  500 non-null int64\n",
      "impagency                   472 non-null object\n",
      "lendinginstr                495 non-null object\n",
      "lendinginstrtype            495 non-null object\n",
      "lendprojectcost             500 non-null int64\n",
      "majorsector_percent         500 non-null object\n",
      "mjsector_namecode           500 non-null object\n",
      "mjtheme                     491 non-null object\n",
      "mjtheme_namecode            500 non-null object\n",
      "mjthemecode                 500 non-null object\n",
      "prodline                    500 non-null object\n",
      "prodlinetext                500 non-null object\n",
      "productlinetype             500 non-null object\n",
      "project_abstract            362 non-null object\n",
      "project_name                500 non-null object\n",
      "projectdocs                 446 non-null object\n",
      "projectfinancialtype        500 non-null object\n",
      "projectstatusdisplay        500 non-null object\n",
      "regionname                  500 non-null object\n",
      "sector                      500 non-null object\n",
      "sector1                     500 non-null object\n",
      "sector2                     380 non-null object\n",
      "sector3                     265 non-null object\n",
      "sector4                     174 non-null object\n",
      "sector_namecode             500 non-null object\n",
      "sectorcode                  500 non-null object\n",
      "source                      500 non-null object\n",
      "status                      500 non-null object\n",
      "supplementprojectflg        498 non-null object\n",
      "theme1                      500 non-null object\n",
      "theme_namecode              491 non-null object\n",
      "themecode                   491 non-null object\n",
      "totalamt                    500 non-null int64\n",
      "totalcommamt                500 non-null int64\n",
      "url                         500 non-null object\n",
      "dtypes: int64(7), object(43)\n",
      "memory usage: 199.2+ KB\n"
     ]
    }
   ],
   "source": [
    "wb_json_df.info()"
   ]
  },
  {
   "cell_type": "markdown",
   "metadata": {},
   "source": [
    "Now that we know the 'mjtheme_namecode' column only contains non-null values, we can begin to analyze it. Printing the type of the values contained in the column reveals that they are lists, and that the elements of each list are dictionaries. More specifically, each list contains a dictionary that corresponds to one of the project's themes. Each dictionary includes two keys - ```u'code'``` and ```u'name'``` - along with their values."
   ]
  },
  {
   "cell_type": "code",
   "execution_count": 11,
   "metadata": {
    "collapsed": false
   },
   "outputs": [
    {
     "name": "stdout",
     "output_type": "stream",
     "text": [
      "<type 'list'>\n",
      "<type 'dict'>\n"
     ]
    },
    {
     "data": {
      "text/plain": [
       "[{u'code': u'1', u'name': u'Economic management'},\n",
       " {u'code': u'6', u'name': u'Social protection and risk management'}]"
      ]
     },
     "execution_count": 11,
     "metadata": {},
     "output_type": "execute_result"
    }
   ],
   "source": [
    "print(type(wb_json_df['mjtheme_namecode'].iloc[1]))\n",
    "print(type(wb_json_df['mjtheme_namecode'].iloc[1][0]))\n",
    "wb_json_df['mjtheme_namecode'].iloc[1]"
   ]
  },
  {
   "cell_type": "markdown",
   "metadata": {},
   "source": [
    "Using our understanding of how the data is stored in the 'mjtheme_namecode' column, we can carry out the following steps in order to create a new dataframe that lists in the order the number of times each project theme occurs:\n",
    "\n",
    "1. Initialize an empty dictionary to hold themes as keys and their counts as values. \n",
    "2. Loop over each row in the ```wb_json_df``` dataframe and for each row:\n",
    "\n",
    "    - Isolate the list of dictionaries contained in the 'mjtheme_namecode' column.\n",
    "    - Loop over each dictionary from the list you isolated, and for each dictionary:\n",
    "        - Isolate the value associated with its 'name' key\n",
    "        - If that value does not already exist as a key in your counts dictionary, set it as a new key with its value equal to 1.\n",
    "        - If it already exists as a key in your counts dictionary, increment the value of that key by 1. \n",
    "\n",
    "\n",
    " 3. When finished, you should have a dictionary with all the unique theme names as keys, and how many times the theme occurs as its value. \n",
    " 4. Convert the dictionary to a dataframe.\n",
    " 5. Give the dataframe appropriate column labels. \n",
    " 6. Sort the dataframe according to the values in the counts column.\n",
    " 7. Reset and rename the index. \n",
    " "
   ]
  },
  {
   "cell_type": "code",
   "execution_count": 12,
   "metadata": {
    "collapsed": false
   },
   "outputs": [
    {
     "data": {
      "text/html": [
       "<div>\n",
       "<table border=\"1\" class=\"dataframe\">\n",
       "  <thead>\n",
       "    <tr style=\"text-align: right;\">\n",
       "      <th></th>\n",
       "      <th>Theme</th>\n",
       "      <th>Count</th>\n",
       "    </tr>\n",
       "    <tr>\n",
       "      <th>Place</th>\n",
       "      <th></th>\n",
       "      <th></th>\n",
       "    </tr>\n",
       "  </thead>\n",
       "  <tbody>\n",
       "    <tr>\n",
       "      <th>1</th>\n",
       "      <td>Environment and natural resources management</td>\n",
       "      <td>223</td>\n",
       "    </tr>\n",
       "    <tr>\n",
       "      <th>2</th>\n",
       "      <td>Rural development</td>\n",
       "      <td>202</td>\n",
       "    </tr>\n",
       "    <tr>\n",
       "      <th>3</th>\n",
       "      <td>Human development</td>\n",
       "      <td>197</td>\n",
       "    </tr>\n",
       "    <tr>\n",
       "      <th>4</th>\n",
       "      <td>Public sector governance</td>\n",
       "      <td>184</td>\n",
       "    </tr>\n",
       "    <tr>\n",
       "      <th>5</th>\n",
       "      <td>Social protection and risk management</td>\n",
       "      <td>158</td>\n",
       "    </tr>\n",
       "    <tr>\n",
       "      <th>6</th>\n",
       "      <td>Financial and private sector development</td>\n",
       "      <td>130</td>\n",
       "    </tr>\n",
       "    <tr>\n",
       "      <th>7</th>\n",
       "      <td></td>\n",
       "      <td>122</td>\n",
       "    </tr>\n",
       "    <tr>\n",
       "      <th>8</th>\n",
       "      <td>Social dev/gender/inclusion</td>\n",
       "      <td>119</td>\n",
       "    </tr>\n",
       "    <tr>\n",
       "      <th>9</th>\n",
       "      <td>Trade and integration</td>\n",
       "      <td>72</td>\n",
       "    </tr>\n",
       "    <tr>\n",
       "      <th>10</th>\n",
       "      <td>Urban development</td>\n",
       "      <td>47</td>\n",
       "    </tr>\n",
       "  </tbody>\n",
       "</table>\n",
       "</div>"
      ],
      "text/plain": [
       "                                              Theme  Count\n",
       "Place                                                     \n",
       "1      Environment and natural resources management    223\n",
       "2                                 Rural development    202\n",
       "3                                 Human development    197\n",
       "4                          Public sector governance    184\n",
       "5             Social protection and risk management    158\n",
       "6          Financial and private sector development    130\n",
       "7                                                      122\n",
       "8                       Social dev/gender/inclusion    119\n",
       "9                             Trade and integration     72\n",
       "10                                Urban development     47"
      ]
     },
     "execution_count": 12,
     "metadata": {},
     "output_type": "execute_result"
    }
   ],
   "source": [
    "theme_counts = {}\n",
    "for index, row in wb_json_df.iterrows():\n",
    "    dict_list = row['mjtheme_namecode']\n",
    "    for dic in dict_list:\n",
    "        theme = dic['name']\n",
    "        if theme not in theme_counts.keys():\n",
    "            theme_counts[theme] = 1\n",
    "        else:\n",
    "            theme_counts[theme] += 1\n",
    "\n",
    "theme_counts = pd.DataFrame(theme_counts.items())\n",
    "theme_counts.columns = ['Theme', 'Count']\n",
    "theme_counts = theme_counts.sort_values(by=['Count'], ascending = False)\n",
    "theme_counts = theme_counts.reset_index(drop = True)\n",
    "theme_counts.index += 1\n",
    "theme_counts.index.name = 'Place'\n",
    "theme_counts.iloc[:10, :]"
   ]
  },
  {
   "cell_type": "markdown",
   "metadata": {},
   "source": [
    "The chart above lists the 10 most common project themes. \n",
    "\n",
    "We can also achieve the same results by creating a list of the dictionaries from the 'mjtheme_namecode' column and using the ```json_normalize()``` function to get a dataframe containing all the theme codes and theme names for each project. The function ```make_theme_dict_list``` creates a list of all the dictionaries in a specifed dataframe column, and it is used below to create the aforementioned list of all dictionaries from the 'mjtheme_namecode' column of ```wb_json_df.``` \n",
    "\n",
    "Once this dataframe is created from ```json_normalize```, we can call the ```.value_counts``` method to recover the same information as in the chart above:"
   ]
  },
  {
   "cell_type": "code",
   "execution_count": 13,
   "metadata": {
    "collapsed": false
   },
   "outputs": [
    {
     "data": {
      "text/plain": [
       "Environment and natural resources management    223\n",
       "Rural development                               202\n",
       "Human development                               197\n",
       "Public sector governance                        184\n",
       "Social protection and risk management           158\n",
       "Financial and private sector development        130\n",
       "                                                122\n",
       "Social dev/gender/inclusion                     119\n",
       "Trade and integration                            72\n",
       "Urban development                                47\n",
       "Economic management                              33\n",
       "Rule of law                                      12\n",
       "Name: name, dtype: int64"
      ]
     },
     "execution_count": 13,
     "metadata": {},
     "output_type": "execute_result"
    }
   ],
   "source": [
    "def make_theme_df(df, col):\n",
    "    dict_list = []\n",
    "    for index, row in df.iterrows():\n",
    "        dicts = row[col]\n",
    "        for dic in dicts:\n",
    "            dict_list.append(dic)\n",
    "    as_df = json_normalize(dict_list)\n",
    "    return as_df\n",
    "\n",
    "themes_df = make_theme_df(wb_json_df, 'mjtheme_namecode')\n",
    "themes_df['name'].value_counts()"
   ]
  },
  {
   "cell_type": "markdown",
   "metadata": {},
   "source": [
    "## Exercise 3\n",
    "\n",
    "Upon re-examination of our results from question 2, we see that there is an error: the 8th most common theme is just an empty string, which means that the theme names for these codes are missing. However, we can fill in these missing theme names using the fact that we can determine the code : name pairs from the non-missing values.\n",
    "   \n",
    "The first step is to create a dataframe that matches each theme code with the proper theme name. To do this, we start by calling the ```make_theme_df()``` function to make a dataframe just like the one we created in question 2. Once we have this dataframe, we can run a methods chain on it so that we are left with a new dataframe that pairs each theme with its corresponding theme name. Printing this new dataframe shows that the indexes represent each code from the 'mjtheme_namecodes' column, and that each code is paired with its corresponding name."
   ]
  },
  {
   "cell_type": "code",
   "execution_count": 14,
   "metadata": {
    "collapsed": false
   },
   "outputs": [
    {
     "data": {
      "text/html": [
       "<div>\n",
       "<table border=\"1\" class=\"dataframe\">\n",
       "  <thead>\n",
       "    <tr style=\"text-align: right;\">\n",
       "      <th></th>\n",
       "      <th>name</th>\n",
       "    </tr>\n",
       "    <tr>\n",
       "      <th>code</th>\n",
       "      <th></th>\n",
       "    </tr>\n",
       "  </thead>\n",
       "  <tbody>\n",
       "    <tr>\n",
       "      <th>8</th>\n",
       "      <td>Human development</td>\n",
       "    </tr>\n",
       "    <tr>\n",
       "      <th>1</th>\n",
       "      <td>Economic management</td>\n",
       "    </tr>\n",
       "    <tr>\n",
       "      <th>6</th>\n",
       "      <td>Social protection and risk management</td>\n",
       "    </tr>\n",
       "    <tr>\n",
       "      <th>5</th>\n",
       "      <td>Trade and integration</td>\n",
       "    </tr>\n",
       "    <tr>\n",
       "      <th>2</th>\n",
       "      <td>Public sector governance</td>\n",
       "    </tr>\n",
       "    <tr>\n",
       "      <th>11</th>\n",
       "      <td>Environment and natural resources management</td>\n",
       "    </tr>\n",
       "    <tr>\n",
       "      <th>7</th>\n",
       "      <td>Social dev/gender/inclusion</td>\n",
       "    </tr>\n",
       "    <tr>\n",
       "      <th>4</th>\n",
       "      <td>Financial and private sector development</td>\n",
       "    </tr>\n",
       "    <tr>\n",
       "      <th>10</th>\n",
       "      <td>Rural development</td>\n",
       "    </tr>\n",
       "    <tr>\n",
       "      <th>9</th>\n",
       "      <td>Urban development</td>\n",
       "    </tr>\n",
       "    <tr>\n",
       "      <th>3</th>\n",
       "      <td>Rule of law</td>\n",
       "    </tr>\n",
       "  </tbody>\n",
       "</table>\n",
       "</div>"
      ],
      "text/plain": [
       "                                              name\n",
       "code                                              \n",
       "8                                Human development\n",
       "1                              Economic management\n",
       "6            Social protection and risk management\n",
       "5                            Trade and integration\n",
       "2                         Public sector governance\n",
       "11    Environment and natural resources management\n",
       "7                      Social dev/gender/inclusion\n",
       "4         Financial and private sector development\n",
       "10                               Rural development\n",
       "9                                Urban development\n",
       "3                                      Rule of law"
      ]
     },
     "execution_count": 14,
     "metadata": {},
     "output_type": "execute_result"
    }
   ],
   "source": [
    "codes_themes = make_theme_df(wb_json_df, 'mjtheme_namecode')\n",
    "codes_themes = codes_themes.set_index('code').replace('', np.nan).dropna().drop_duplicates()\n",
    "codes_themes"
   ]
  },
  {
   "cell_type": "markdown",
   "metadata": {},
   "source": [
    "To replace the missing values in the 'mjtheme_namecodes' column, we can create a function that, for each key:value pair in the dictionaries of the column:\n",
    "    \n",
    "1. Determines if the name is missing.\n",
    "2. If the name is missing, fill it in by matching its corresponding code using the ```codes_themes``` dictionary above.\n",
    "\n",
    "The ```fill_values``` function below does exactly that. "
   ]
  },
  {
   "cell_type": "code",
   "execution_count": 15,
   "metadata": {
    "collapsed": false
   },
   "outputs": [],
   "source": [
    "def fill_values(list_of_dicts):\n",
    "    for dic in list_of_dicts:\n",
    "            if dic[u'name'] == '':\n",
    "                dic[u'name'] = codes_themes.loc[dic[u'code']][u'name']\n",
    "            "
   ]
  },
  {
   "cell_type": "markdown",
   "metadata": {},
   "source": [
    "In order to check that the above function works once it is applied to the ```wb_json_df``` dataframe, the cell below defines and calls the function ```print_missing_info()```, which prints out some information regarding the codes that have missing names. Since we have not yet applied the ```fill values function```, we see that there are still 122 missing names. \n"
   ]
  },
  {
   "cell_type": "code",
   "execution_count": 16,
   "metadata": {
    "collapsed": false
   },
   "outputs": [
    {
     "name": "stdout",
     "output_type": "stream",
     "text": [
      "Total number of code name pairs: 1499\n",
      "Number of codes that have missing names: 122\n",
      "Number of codes that do not have missing names: 1377\n"
     ]
    }
   ],
   "source": [
    "def check_missing(df, col):\n",
    "    # Count and print the total number of code:name pairs:\n",
    "    num_total = df[col].value_counts().sum()\n",
    "    print('Total number of code name pairs: %d' % num_total)\n",
    "\n",
    "    # Count and print the number of codes that are missing names:\n",
    "    num_missing = df[df[col] == ''][col].value_counts().sum()\n",
    "    print('Number of codes that have missing names: %d' % num_missing)\n",
    "    \n",
    "    # Count the number of codes that are not missing names:\n",
    "    num_not_missing = num_total - num_missing\n",
    "    print('Number of codes that do not have missing names: %d' % num_not_missing)\n",
    "\n",
    "    \n",
    "check_missing(themes_df, 'name')"
   ]
  },
  {
   "cell_type": "markdown",
   "metadata": {},
   "source": [
    "Finally, the code in the cell below applies the fill_values function to the 'mjtheme_namecodes' column of the ```wb_json_df``` datarfame. A quick look at the first 20 elements reveals it has no missing names, a good sign!"
   ]
  },
  {
   "cell_type": "code",
   "execution_count": 17,
   "metadata": {
    "collapsed": false
   },
   "outputs": [
    {
     "data": {
      "text/plain": [
       "0     [{u'code': u'8', u'name': u'Human development'...\n",
       "1     [{u'code': u'1', u'name': u'Economic managemen...\n",
       "2     [{u'code': u'5', u'name': u'Trade and integrat...\n",
       "3     [{u'code': u'7', u'name': u'Social dev/gender/...\n",
       "4     [{u'code': u'5', u'name': u'Trade and integrat...\n",
       "5     [{u'code': u'6', u'name': u'Social protection ...\n",
       "6     [{u'code': u'2', u'name': u'Public sector gove...\n",
       "7     [{u'code': u'11', u'name': u'Environment and n...\n",
       "8     [{u'code': u'10', u'name': u'Rural development...\n",
       "9     [{u'code': u'2', u'name': u'Public sector gove...\n",
       "10    [{u'code': u'10', u'name': u'Rural development...\n",
       "11    [{u'code': u'10', u'name': u'Rural development...\n",
       "12    [{u'code': u'4', u'name': u'Financial and priv...\n",
       "13    [{u'code': u'5', u'name': u'Trade and integrat...\n",
       "14    [{u'code': u'6', u'name': u'Social protection ...\n",
       "15    [{u'code': u'10', u'name': u'Rural development...\n",
       "16    [{u'code': u'10', u'name': u'Rural development...\n",
       "17    [{u'code': u'8', u'name': u'Human development'...\n",
       "18    [{u'code': u'8', u'name': u'Human development'...\n",
       "19    [{u'code': u'2', u'name': u'Public sector gove...\n",
       "Name: mjtheme_namecode, dtype: object"
      ]
     },
     "execution_count": 17,
     "metadata": {},
     "output_type": "execute_result"
    }
   ],
   "source": [
    "wb_json_df['mjtheme_namecode'].apply(fill_values)\n",
    "wb_json_df['mjtheme_namecode'].head(20)"
   ]
  },
  {
   "cell_type": "markdown",
   "metadata": {
    "collapsed": false
   },
   "source": [
    "In order to make sure that ALL names were filled in, we can once again make use of the ```make_theme_df()``` and ```check_missing()``` functions. This is done in the cell below:"
   ]
  },
  {
   "cell_type": "code",
   "execution_count": 18,
   "metadata": {
    "collapsed": false
   },
   "outputs": [
    {
     "name": "stdout",
     "output_type": "stream",
     "text": [
      "Total number of code name pairs: 1499\n",
      "Number of codes that have missing names: 0\n",
      "Number of codes that do not have missing names: 1499\n"
     ]
    }
   ],
   "source": [
    "new_themes_df = make_theme_df(wb_json_df, 'mjtheme_namecode')\n",
    "check_missing(new_themes_df, 'name')"
   ]
  },
  {
   "cell_type": "markdown",
   "metadata": {
    "collapsed": true
   },
   "source": [
    "As you can see, ```wb_json_df``` has been modified so that the 'mjtheme_namecode' column no longer contains any missing names. The new value counts are also printed below, which shows that they have been updated to reflect the fact that all missing names have been filled in."
   ]
  },
  {
   "cell_type": "code",
   "execution_count": 19,
   "metadata": {
    "collapsed": false
   },
   "outputs": [
    {
     "data": {
      "text/plain": [
       "Environment and natural resources management    250\n",
       "Rural development                               216\n",
       "Human development                               210\n",
       "Public sector governance                        199\n",
       "Social protection and risk management           168\n",
       "Financial and private sector development        146\n",
       "Social dev/gender/inclusion                     130\n",
       "Trade and integration                            77\n",
       "Urban development                                50\n",
       "Economic management                              38\n",
       "Rule of law                                      15\n",
       "Name: name, dtype: int64"
      ]
     },
     "execution_count": 19,
     "metadata": {},
     "output_type": "execute_result"
    }
   ],
   "source": [
    "new_themes_df['name'].value_counts()"
   ]
  }
 ],
 "metadata": {
  "kernelspec": {
   "display_name": "Python 2",
   "language": "python",
   "name": "python2"
  },
  "language_info": {
   "codemirror_mode": {
    "name": "ipython",
    "version": 2
   },
   "file_extension": ".py",
   "mimetype": "text/x-python",
   "name": "python",
   "nbconvert_exporter": "python",
   "pygments_lexer": "ipython2",
   "version": "2.7.11"
  }
 },
 "nbformat": 4,
 "nbformat_minor": 0
}
