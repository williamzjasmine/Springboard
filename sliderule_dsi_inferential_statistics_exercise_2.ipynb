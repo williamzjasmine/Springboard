{
 "cells": [
  {
   "cell_type": "markdown",
   "metadata": {},
   "source": [
    "# Examining Racial Discrimination in the US Job Market\n",
    "\n",
    "### Background\n",
    "Racial discrimination continues to be pervasive in cultures throughout the world. Researchers examined the level of racial discrimination in the United States labor market by randomly assigning identical résumés to black-sounding or white-sounding names and observing the impact on requests for interviews from employers.\n",
    "\n",
    "### Data\n",
    "In the dataset provided, each row represents a resume. The 'race' column has two values, 'b' and 'w', indicating black-sounding and white-sounding. The column 'call' has two values, 1 and 0, indicating whether the resume received a call from employers or not.\n",
    "\n",
    "Note that the 'b' and 'w' values in race are assigned randomly to the resumes when presented to the employer."
   ]
  },
  {
   "cell_type": "markdown",
   "metadata": {},
   "source": [
    "### Exercises\n",
    "You will perform a statistical analysis to establish whether race has a significant impact on the rate of callbacks for resumes.\n",
    "\n",
    "Answer the following questions **in this notebook below and submit to your Github account**. \n",
    "\n",
    "   1. What test is appropriate for this problem? Does CLT apply?\n",
    "   2. What are the null and alternate hypotheses?\n",
    "   3. Compute margin of error, confidence interval, and p-value. Try using both the bootstrapping and the frequentist statistical approaches.\n",
    "   4. Write a story describing the statistical significance in the context or the original problem.\n",
    "   5. Does your analysis mean that race/name is the most important factor in callback success? Why or why not? If not, how would you amend your analysis?\n",
    "\n",
    "You can include written notes in notebook cells using Markdown: \n",
    "   - In the control panel at the top, choose Cell > Cell Type > Markdown\n",
    "   - Markdown syntax: http://nestacms.com/docs/creating-content/markdown-cheat-sheet\n",
    "\n",
    "#### Resources\n",
    "+ Experiment information and data source: http://www.povertyactionlab.org/evaluation/discrimination-job-market-united-states\n",
    "+ Scipy statistical methods: http://docs.scipy.org/doc/scipy/reference/stats.html \n",
    "+ Markdown syntax: http://nestacms.com/docs/creating-content/markdown-cheat-sheet\n",
    "+ Formulas for the Bernoulli distribution: https://en.wikipedia.org/wiki/Bernoulli_distribution"
   ]
  },
  {
   "cell_type": "markdown",
   "metadata": {},
   "source": [
    "## Imports"
   ]
  },
  {
   "cell_type": "code",
   "execution_count": 1,
   "metadata": {},
   "outputs": [],
   "source": [
    "import pandas as pd\n",
    "import numpy as np\n",
    "import matplotlib.pyplot as plt\n",
    "import seaborn as sns\n",
    "from scipy import stats\n",
    "\n",
    "sns.set()"
   ]
  },
  {
   "cell_type": "markdown",
   "metadata": {},
   "source": [
    "## Functions"
   ]
  },
  {
   "cell_type": "code",
   "execution_count": 2,
   "metadata": {},
   "outputs": [],
   "source": [
    "def permutation_sample(data1, data2):\n",
    "    \"\"\"Return permuted samples of two concatenated datasets.\"\"\"\n",
    "    data = np.concatenate((data1, data2))\n",
    "    permuted_data = np.random.permutation(data)\n",
    "    sample1 = permuted_data[:len(data1)]\n",
    "    sample2 = permuted_data[len(data1):]\n",
    "    return sample1, sample2\n",
    "\n",
    "def bs_permutation_replicates(data1, data2, func, size = 1):\n",
    "    \"\"\"Return an array of bootsrap replicates from permuted samples of two datasets.\"\"\"\n",
    "    bs_perm_replicates = np.empty(size)\n",
    "    for i in range(size):\n",
    "        perm1, perm2 = permutation_sample(data1, data2)\n",
    "        bs_replicate = func(perm1, perm2)\n",
    "        bs_perm_replicates[i] = bs_replicate\n",
    "    return bs_perm_replicates\n",
    "\n",
    "def callback_diff(data1, data2):\n",
    "    \"\"\"Return differnce between the rates of callback (p1 and p2).\"\"\"\n",
    "    p1 = np.sum(data1) / len(data1)\n",
    "    p2 = np.sum(data2) / len(data2)\n",
    "    diff = p2 - p1\n",
    "    return diff"
   ]
  },
  {
   "cell_type": "code",
   "execution_count": 3,
   "metadata": {},
   "outputs": [],
   "source": [
    "data = pd.io.stata.read_stata('data/us_job_market_discrimination.dta')"
   ]
  },
  {
   "cell_type": "code",
   "execution_count": 4,
   "metadata": {},
   "outputs": [
    {
     "name": "stdout",
     "output_type": "stream",
     "text": [
      "Number of callbacks for white-sounding names: 235\n",
      "Number of callbacks for black-sounding names: 157\n"
     ]
    }
   ],
   "source": [
    "print('Number of callbacks for white-sounding names: %1.0f' %sum(data[data.race=='w'].call))\n",
    "print('Number of callbacks for black-sounding names: %1.0f' %sum(data[data.race=='b'].call))"
   ]
  },
  {
   "cell_type": "code",
   "execution_count": 5,
   "metadata": {},
   "outputs": [
    {
     "data": {
      "text/html": [
       "<div>\n",
       "<style scoped>\n",
       "    .dataframe tbody tr th:only-of-type {\n",
       "        vertical-align: middle;\n",
       "    }\n",
       "\n",
       "    .dataframe tbody tr th {\n",
       "        vertical-align: top;\n",
       "    }\n",
       "\n",
       "    .dataframe thead th {\n",
       "        text-align: right;\n",
       "    }\n",
       "</style>\n",
       "<table border=\"1\" class=\"dataframe\">\n",
       "  <thead>\n",
       "    <tr style=\"text-align: right;\">\n",
       "      <th></th>\n",
       "      <th>id</th>\n",
       "      <th>ad</th>\n",
       "      <th>education</th>\n",
       "      <th>ofjobs</th>\n",
       "      <th>yearsexp</th>\n",
       "      <th>honors</th>\n",
       "      <th>volunteer</th>\n",
       "      <th>military</th>\n",
       "      <th>empholes</th>\n",
       "      <th>occupspecific</th>\n",
       "      <th>...</th>\n",
       "      <th>compreq</th>\n",
       "      <th>orgreq</th>\n",
       "      <th>manuf</th>\n",
       "      <th>transcom</th>\n",
       "      <th>bankreal</th>\n",
       "      <th>trade</th>\n",
       "      <th>busservice</th>\n",
       "      <th>othservice</th>\n",
       "      <th>missind</th>\n",
       "      <th>ownership</th>\n",
       "    </tr>\n",
       "  </thead>\n",
       "  <tbody>\n",
       "    <tr>\n",
       "      <th>0</th>\n",
       "      <td>b</td>\n",
       "      <td>1</td>\n",
       "      <td>4</td>\n",
       "      <td>2</td>\n",
       "      <td>6</td>\n",
       "      <td>0</td>\n",
       "      <td>0</td>\n",
       "      <td>0</td>\n",
       "      <td>1</td>\n",
       "      <td>17</td>\n",
       "      <td>...</td>\n",
       "      <td>1.0</td>\n",
       "      <td>0.0</td>\n",
       "      <td>1.0</td>\n",
       "      <td>0.0</td>\n",
       "      <td>0.0</td>\n",
       "      <td>0.0</td>\n",
       "      <td>0.0</td>\n",
       "      <td>0.0</td>\n",
       "      <td>0.0</td>\n",
       "      <td></td>\n",
       "    </tr>\n",
       "    <tr>\n",
       "      <th>1</th>\n",
       "      <td>b</td>\n",
       "      <td>1</td>\n",
       "      <td>3</td>\n",
       "      <td>3</td>\n",
       "      <td>6</td>\n",
       "      <td>0</td>\n",
       "      <td>1</td>\n",
       "      <td>1</td>\n",
       "      <td>0</td>\n",
       "      <td>316</td>\n",
       "      <td>...</td>\n",
       "      <td>1.0</td>\n",
       "      <td>0.0</td>\n",
       "      <td>1.0</td>\n",
       "      <td>0.0</td>\n",
       "      <td>0.0</td>\n",
       "      <td>0.0</td>\n",
       "      <td>0.0</td>\n",
       "      <td>0.0</td>\n",
       "      <td>0.0</td>\n",
       "      <td></td>\n",
       "    </tr>\n",
       "    <tr>\n",
       "      <th>2</th>\n",
       "      <td>b</td>\n",
       "      <td>1</td>\n",
       "      <td>4</td>\n",
       "      <td>1</td>\n",
       "      <td>6</td>\n",
       "      <td>0</td>\n",
       "      <td>0</td>\n",
       "      <td>0</td>\n",
       "      <td>0</td>\n",
       "      <td>19</td>\n",
       "      <td>...</td>\n",
       "      <td>1.0</td>\n",
       "      <td>0.0</td>\n",
       "      <td>1.0</td>\n",
       "      <td>0.0</td>\n",
       "      <td>0.0</td>\n",
       "      <td>0.0</td>\n",
       "      <td>0.0</td>\n",
       "      <td>0.0</td>\n",
       "      <td>0.0</td>\n",
       "      <td></td>\n",
       "    </tr>\n",
       "    <tr>\n",
       "      <th>3</th>\n",
       "      <td>b</td>\n",
       "      <td>1</td>\n",
       "      <td>3</td>\n",
       "      <td>4</td>\n",
       "      <td>6</td>\n",
       "      <td>0</td>\n",
       "      <td>1</td>\n",
       "      <td>0</td>\n",
       "      <td>1</td>\n",
       "      <td>313</td>\n",
       "      <td>...</td>\n",
       "      <td>1.0</td>\n",
       "      <td>0.0</td>\n",
       "      <td>1.0</td>\n",
       "      <td>0.0</td>\n",
       "      <td>0.0</td>\n",
       "      <td>0.0</td>\n",
       "      <td>0.0</td>\n",
       "      <td>0.0</td>\n",
       "      <td>0.0</td>\n",
       "      <td></td>\n",
       "    </tr>\n",
       "    <tr>\n",
       "      <th>4</th>\n",
       "      <td>b</td>\n",
       "      <td>1</td>\n",
       "      <td>3</td>\n",
       "      <td>3</td>\n",
       "      <td>22</td>\n",
       "      <td>0</td>\n",
       "      <td>0</td>\n",
       "      <td>0</td>\n",
       "      <td>0</td>\n",
       "      <td>313</td>\n",
       "      <td>...</td>\n",
       "      <td>1.0</td>\n",
       "      <td>1.0</td>\n",
       "      <td>0.0</td>\n",
       "      <td>0.0</td>\n",
       "      <td>0.0</td>\n",
       "      <td>0.0</td>\n",
       "      <td>0.0</td>\n",
       "      <td>1.0</td>\n",
       "      <td>0.0</td>\n",
       "      <td>Nonprofit</td>\n",
       "    </tr>\n",
       "  </tbody>\n",
       "</table>\n",
       "<p>5 rows × 65 columns</p>\n",
       "</div>"
      ],
      "text/plain": [
       "  id ad  education  ofjobs  yearsexp  honors  volunteer  military  empholes  \\\n",
       "0  b  1          4       2         6       0          0         0         1   \n",
       "1  b  1          3       3         6       0          1         1         0   \n",
       "2  b  1          4       1         6       0          0         0         0   \n",
       "3  b  1          3       4         6       0          1         0         1   \n",
       "4  b  1          3       3        22       0          0         0         0   \n",
       "\n",
       "   occupspecific  ...  compreq  orgreq  manuf  transcom  bankreal trade  \\\n",
       "0             17  ...      1.0     0.0    1.0       0.0       0.0   0.0   \n",
       "1            316  ...      1.0     0.0    1.0       0.0       0.0   0.0   \n",
       "2             19  ...      1.0     0.0    1.0       0.0       0.0   0.0   \n",
       "3            313  ...      1.0     0.0    1.0       0.0       0.0   0.0   \n",
       "4            313  ...      1.0     1.0    0.0       0.0       0.0   0.0   \n",
       "\n",
       "  busservice othservice  missind  ownership  \n",
       "0        0.0        0.0      0.0             \n",
       "1        0.0        0.0      0.0             \n",
       "2        0.0        0.0      0.0             \n",
       "3        0.0        0.0      0.0             \n",
       "4        0.0        1.0      0.0  Nonprofit  \n",
       "\n",
       "[5 rows x 65 columns]"
      ]
     },
     "execution_count": 5,
     "metadata": {},
     "output_type": "execute_result"
    }
   ],
   "source": [
    "data.head()"
   ]
  },
  {
   "cell_type": "code",
   "execution_count": 6,
   "metadata": {},
   "outputs": [
    {
     "name": "stdout",
     "output_type": "stream",
     "text": [
      "Number of Names: 4870\n",
      "Number of Black Sounding Names: 2435\n",
      "Number of White Sounding Names: 2435\n"
     ]
    }
   ],
   "source": [
    "n = len(data.index)\n",
    "counts_by_race = data[['id','race']].groupby('race').count().values\n",
    "n_b = counts_by_race[0]\n",
    "n_w = counts_by_race[1]\n",
    "print('Number of Names: %d' % n)\n",
    "print('Number of Black Sounding Names: %d' %n_b)\n",
    "print('Number of White Sounding Names: %d' %n_w)"
   ]
  },
  {
   "cell_type": "markdown",
   "metadata": {
    "collapsed": true
   },
   "source": [
    "<div class=\"span5 alert alert-success\">\n",
    "<p>Your answers to Q1 and Q2 here:</p>\n",
    "    <ul>\n",
    "        <li> <b>Question 1:</b> \n",
    "              \n",
    "According to the analysis in the cell above, the data set contains 4,870 names split equally among both white sounding names and black sounding names. 4,870 is well above 30, which acts as the general rule of thumb for the minimum population size needed for the central limit theorem to apply. \n",
    "\n",
    "In order to determine if the race of an applicant has a significant outcome impact on the rate of callback for interviews, we can perform a two sample bootsrap hypothesis test on the rate of callback for the white sounding and black sounding names.\n",
    "         </li>\n",
    "         <li> <b>Question 2:</b>\n",
    "    \n",
    "The null hypothesis <i>H</i><sub>0</sub> : The race of an applicant has no impact on the rate of call back for interviews. \n",
    "\n",
    "The alternative hypothesis <i>H</i><sub>0</sub> : The race of an applicant does have an impact on the rate of callback for interviews.\n",
    "\n",
    "If we wanted to express <i>H</i><sub>0</sub> and <i>H</i><sub>1</sub> mathematically, it can be done so as follows. First, we define two proportions <i>p</i><sub>1</sub> and <i>p</i><sub>2</sub> as follows: <i>p</i><sub>1</sub> = rate of callback for black sounding names and <i>p</i><sub>2</sub> = rate of callback for white sounding names. Then:\n",
    "            <center>\n",
    "                    <i>H</i><sub>0</sub>: <i>p</i><sub>1</sub> = <i>p</i><sub>2</sub>, and: \n",
    "                    <i>H</i><sub>1</sub>: <i>p</i><sub>1</sub> &ne; <i>p</i><sub>2</sub>\n",
    "            </center> \n",
    "          </li>\n",
    "    </ul>\n",
    "</div>"
   ]
  },
  {
   "cell_type": "code",
   "execution_count": 7,
   "metadata": {},
   "outputs": [],
   "source": [
    "w = data['call'][data.race=='w'].values\n",
    "b = data['call'][data.race=='b'].values"
   ]
  },
  {
   "cell_type": "code",
   "execution_count": 8,
   "metadata": {},
   "outputs": [
    {
     "name": "stdout",
     "output_type": "stream",
     "text": [
      "Mean value of p2 - p1: -0.000017\n",
      "Margin of error for mean value of p2 - p1: +/- 0.000048\n",
      "95% Confidence interval for p2 - p1: -0.015606 - 0.014784\n",
      "p-value: 0.000000\n"
     ]
    },
    {
     "data": {
      "image/png": "[encoded data removed]",
      "text/plain": [
       "<Figure size 432x288 with 1 Axes>"
      ]
     },
     "metadata": {
      "needs_background": "light"
     },
     "output_type": "display_data"
    }
   ],
   "source": [
    "# Your solution to Q3 here\n",
    "# All function definitions exist at top of notebook.\n",
    "empirical_diff = callback_diff(b, w)\n",
    "p2_p1_diffs = bs_permutation_replicates(b, w, callback_diff, size = 100000)\n",
    "mean_diff = np.mean(p2_p1_diffs)\n",
    "moe = 1.96 * np.std(p2_p1_diffs) / np.sqrt(len(p2_p1_diffs))\n",
    "CI1, CI2 = np.percentile(p2_p1_diffs, [2.5, 97.5])\n",
    "p_value = np.sum(p2_p1_diffs >= empirical_diff) / len(p2_p1_diffs)\n",
    "print('Mean value of p2 - p1: %f' % mean_diff)\n",
    "print('Margin of error for mean value of p2 - p1: +/- %f' % moe)\n",
    "print('95%% Confidence interval for p2 - p1: %f - %f' %(CI1, CI2))\n",
    "print('p-value: %f' %p_value)\n",
    "_ = plt.hist(p2_p1_diffs, bins = int(np.sqrt(len(p2_p1_diffs))))\n",
    "_ = plt.xlabel('p2 - p1')\n",
    "_ = plt.ylabel('Count')\n",
    "plt.show()"
   ]
  },
  {
   "cell_type": "markdown",
   "metadata": {},
   "source": [
    "<div class=\"span5 alert alert-success\">\n",
    "<p> Your answers to Q4 and Q5 here </p>\n",
    "    <ul>\n",
    "        <li><b>Question 4:</b>\n",
    "            \n",
    "Based on the <i>p</i> value obtained in the cell above, we can reject the null hypothesis and conclude that it would be highly unlikely to have acquired this dataset if race did not play a role on the rate of callback for job applicants. More specifically, simulating the null hypothesis 100,000 times (in other words, simulating data that could be collected if the null hypothesis were true) resulted in almost no <i>p</i><sub>2</sub> - <i>p</i><sub>1</sub> values that were larger than the one that was observed in the actual dataset. \n",
    "         </li>\n",
    "         <li> <b>Question 5:</b>\n",
    " \n",
    "While race is clearly a factor in determining who gets callbacks for interviews, we cannot tell from just this test alone whether it is the most important one. The dataset lists a number of other variables that we could test in a similiar way to help us further analyze race's importance.\n",
    "          </li>\n",
    "    </ul>\n",
    "</div>"
   ]
  }
 ],
 "metadata": {
  "kernelspec": {
   "display_name": "Python 3",
   "language": "python",
   "name": "python3"
  },
  "language_info": {
   "codemirror_mode": {
    "name": "ipython",
    "version": 3
   },
   "file_extension": ".py",
   "mimetype": "text/x-python",
   "name": "python",
   "nbconvert_exporter": "python",
   "pygments_lexer": "ipython3",
   "version": "3.7.1"
  }
 },
 "nbformat": 4,
 "nbformat_minor": 1
}
